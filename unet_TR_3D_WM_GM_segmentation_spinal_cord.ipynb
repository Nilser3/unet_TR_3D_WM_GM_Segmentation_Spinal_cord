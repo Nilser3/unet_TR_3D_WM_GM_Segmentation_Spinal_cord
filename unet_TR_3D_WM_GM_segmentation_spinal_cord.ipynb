{
 "cells": [
  {
   "cell_type": "code",
   "execution_count": null,
   "id": "ff78bbf2",
   "metadata": {},
   "outputs": [],
   "source": [
    "# Based on this tutorial: https://github.com/Project-MONAI/tutorials/blob/main/3d_segmentation/unetr_btcv_segmentation_3d.ipynb"
   ]
  },
  {
   "cell_type": "code",
   "execution_count": 268,
   "id": "b3bd9562",
   "metadata": {},
   "outputs": [],
   "source": [
    "import os\n",
    "import shutil\n",
    "import tempfile\n",
    "\n",
    "import matplotlib.pyplot as plt\n",
    "from tqdm import tqdm\n",
    "\n",
    "from monai.losses import DiceCELoss\n",
    "from monai.inferers import sliding_window_inference\n",
    "from monai.transforms import (\n",
    "    AsDiscrete,\n",
    "    EnsureChannelFirstd,\n",
    "    Compose,\n",
    "    CropForegroundd,\n",
    "    LoadImaged,\n",
    "    Orientationd,\n",
    "    RandFlipd,\n",
    "    RandCropByPosNegLabeld,\n",
    "    RandShiftIntensityd,\n",
    "    ScaleIntensityRanged,\n",
    "    Spacingd,\n",
    "    RandRotate90d, EnsureTyped,SaveImage,\n",
    ")\n",
    "\n",
    "from monai.config import print_config\n",
    "from monai.metrics import DiceMetric\n",
    "from monai.networks.nets import UNETR\n",
    "\n",
    "from monai.data import (\n",
    "    DataLoader,\n",
    "    CacheDataset,\n",
    "    load_decathlon_datalist,\n",
    "    decollate_batch,\n",
    ")\n",
    "import sys\n",
    "import nibabel as nib\n",
    "import torch"
   ]
  },
  {
   "cell_type": "code",
   "execution_count": 269,
   "id": "cffb171d",
   "metadata": {},
   "outputs": [
    {
     "name": "stdout",
     "output_type": "stream",
     "text": [
      "/tmp/tmp1ihctr5u\n"
     ]
    }
   ],
   "source": [
    "directory = os.environ.get(\"MONAI_DATA_DIRECTORY\")\n",
    "root_dir = tempfile.mkdtemp() if directory is None else directory\n",
    "print(root_dir)"
   ]
  },
  {
   "cell_type": "code",
   "execution_count": 270,
   "id": "0db96b46",
   "metadata": {},
   "outputs": [],
   "source": [
    "train_transforms = Compose(\n",
    "    [\n",
    "        LoadImaged(keys=[\"image\", \"label\"]),\n",
    "        EnsureChannelFirstd(keys=[\"image\", \"label\"]),\n",
    "        Orientationd(keys=[\"image\", \"label\"], axcodes=\"RAS\"),\n",
    "        Spacingd(\n",
    "            keys=[\"image\", \"label\"],\n",
    "            #pixdim=(0.54, 0.54, 0.195), # funciona\n",
    "            pixdim=(0.175781, 0.175781, 0.39),\n",
    "            mode=(\"bilinear\", \"nearest\"),\n",
    "        ),\n",
    "        ScaleIntensityRanged(\n",
    "            keys=[\"image\"],\n",
    "            a_min=10000,\n",
    "            a_max=400000,\n",
    "            b_min=0.0,\n",
    "            b_max=1.0,\n",
    "            clip=True,\n",
    "        ),\n",
    "        CropForegroundd(keys=[\"image\", \"label\"], source_key=\"image\"),\n",
    "        RandCropByPosNegLabeld(\n",
    "           keys=[\"image\", \"label\"],\n",
    "           label_key=\"label\",\n",
    "            #spatial_size=(32, 32, 16),\n",
    "            spatial_size=(32, 32, 16),\n",
    "            pos=1,\n",
    "            neg=1,\n",
    "            num_samples=4,\n",
    "            image_key=\"image\",\n",
    "           image_threshold=0,\n",
    "        ),\n",
    "        RandFlipd(\n",
    "            keys=[\"image\", \"label\"],\n",
    "            spatial_axis=[0],\n",
    "            prob=0.10,\n",
    "        ),\n",
    "        RandFlipd(\n",
    "            keys=[\"image\", \"label\"],\n",
    "            spatial_axis=[1],\n",
    "            prob=0.10,\n",
    "        ),\n",
    "        RandFlipd(\n",
    "            keys=[\"image\", \"label\"],\n",
    "            spatial_axis=[2],\n",
    "            prob=0.10,\n",
    "        ),\n",
    "        RandRotate90d(\n",
    "            keys=[\"image\", \"label\"],\n",
    "            prob=0.10,\n",
    "            max_k=3,\n",
    "        ),\n",
    "        RandShiftIntensityd(\n",
    "            keys=[\"image\"],\n",
    "            offsets=0.10,\n",
    "            prob=0.50,\n",
    "        ),\n",
    "    ]\n",
    ")\n",
    "val_transforms = Compose(\n",
    "    [\n",
    "        LoadImaged(keys=[\"image\", \"label\"]),\n",
    "        EnsureChannelFirstd(keys=[\"image\", \"label\"]),\n",
    "        Orientationd(keys=[\"image\", \"label\"], axcodes=\"RAS\"),\n",
    "        Spacingd(\n",
    "            keys=[\"image\", \"label\"],\n",
    "            pixdim=(0.175781, 0.175781, 0.39),\n",
    "            mode=(\"bilinear\", \"nearest\"),\n",
    "        ),\n",
    "        ScaleIntensityRanged(keys=[\"image\"], a_min=10000, a_max=400000, b_min=0.0, b_max=1.0, clip=True),\n",
    "\n",
    "        CropForegroundd(keys=[\"image\", \"label\"], source_key=\"image\"),\n",
    "    ]\n",
    ")\n",
    "test_transforms = Compose(\n",
    "    [\n",
    "        LoadImaged(keys=[\"image\", \"label\"]),\n",
    "        EnsureChannelFirstd(keys=[\"image\", \"label\"]),\n",
    "        Orientationd(keys=[\"image\", \"label\"], axcodes=\"RAS\"),\n",
    "        ScaleIntensityRanged(keys=[\"image\"], a_min=10000, a_max=400000, b_min=0.0, b_max=1.0, clip=True),\n",
    "\n",
    "        CropForegroundd(keys=[\"image\", \"label\"], source_key=\"image\"),\n",
    "    ]\n",
    "    \n",
    "    \n",
    ")"
   ]
  },
  {
   "cell_type": "code",
   "execution_count": 273,
   "id": "ed6e2fc9",
   "metadata": {},
   "outputs": [
    {
     "name": "stderr",
     "output_type": "stream",
     "text": [
      "Loading dataset: 100%|██████████████████████████████████████████████████████████████████| 51/51 [00:03<00:00, 16.59it/s]\n",
      "Loading dataset: 100%|██████████████████████████████████████████████████████████████████| 11/11 [00:00<00:00, 16.73it/s]\n",
      "Loading dataset: 100%|██████████████████████████████████████████████████████████████████| 10/10 [00:00<00:00, 12.04it/s]\n"
     ]
    }
   ],
   "source": [
    "data_dir = \"/mnt/d/crmbm/multiclass/z_1\"\n",
    "split_json = \"/config.json\"\n",
    "\n",
    "datasets = data_dir + split_json\n",
    "datalist = load_decathlon_datalist(datasets, True, \"training\")\n",
    "val_files = load_decathlon_datalist(datasets, True, \"validation\")\n",
    "train_ds = CacheDataset(\n",
    "    data=datalist,\n",
    "    transform=train_transforms,\n",
    "    cache_num=52,\n",
    "    cache_rate=1.0,\n",
    "    num_workers=4,\n",
    ")\n",
    "train_loader = DataLoader(train_ds, batch_size=8, shuffle=True, num_workers=4, pin_memory=True)\n",
    "val_ds = CacheDataset(data=val_files, transform=val_transforms, cache_num=12, cache_rate=1.0, num_workers=4)\n",
    "val_loader = DataLoader(val_ds, batch_size=1, shuffle=False, num_workers=4, pin_memory=True)\n",
    "\n",
    "# Load test DS\n",
    "\n",
    "test_files = load_decathlon_datalist(datasets, True, \"test\")\n",
    "test_ds = CacheDataset(data=test_files, transform=test_transforms, cache_num=12, cache_rate=1.0, num_workers=0)"
   ]
  },
  {
   "cell_type": "code",
   "execution_count": 274,
   "id": "b8f925be",
   "metadata": {},
   "outputs": [
    {
     "name": "stdout",
     "output_type": "stream",
     "text": [
      "image shape: torch.Size([1, 96, 96, 47]), label shape: torch.Size([1, 96, 96, 47])\n"
     ]
    },
    {
     "data": {
      "image/png": "[encoded data removed]",
      "text/plain": [
       "<Figure size 1800x600 with 2 Axes>"
      ]
     },
     "metadata": {},
     "output_type": "display_data"
    },
    {
     "name": "stdout",
     "output_type": "stream",
     "text": [
      "1\n"
     ]
    }
   ],
   "source": [
    "slice_map = {\n",
    "    \"sub-26_T2star.nii.gz\": 1,\n",
    "    \"sub-45_T2star.nii.gz\": 1,\n",
    "}\n",
    "case_num = 0\n",
    "img_name = os.path.split(val_ds[case_num][\"image\"].meta[\"filename_or_obj\"])[1]\n",
    "img = val_ds[case_num][\"image\"]\n",
    "label = val_ds[case_num][\"label\"]\n",
    "img_shape = img.shape\n",
    "label_shape = label.shape\n",
    "print(f\"image shape: {img_shape}, label shape: {label_shape}\")\n",
    "plt.figure(\"image\", (18, 6))\n",
    "plt.subplot(1, 2, 1)\n",
    "plt.title(\"image\")\n",
    "plt.imshow(img[0, :, :, slice_map[img_name]].detach().cpu(), cmap=\"gray\")\n",
    "plt.subplot(1, 2, 2)\n",
    "plt.title(\"label\")\n",
    "plt.imshow(label[0, :, :, slice_map[img_name]].detach().cpu())\n",
    "plt.show()\n",
    "print(slice_map[img_name])"
   ]
  },
  {
   "cell_type": "code",
   "execution_count": 275,
   "id": "06cb1b3f",
   "metadata": {},
   "outputs": [
    {
     "name": "stdout",
     "output_type": "stream",
     "text": [
      "image shape: torch.Size([1, 32, 32, 16]), label shape: torch.Size([1, 32, 32, 16])\n"
     ]
    },
    {
     "data": {
      "image/png": "[encoded data removed]",
      "text/plain": [
       "<Figure size 1800x600 with 2 Axes>"
      ]
     },
     "metadata": {},
     "output_type": "display_data"
    }
   ],
   "source": [
    "# Training cropped\n",
    "case_num = 0\n",
    "data_show=train_ds[case_num][0]\n",
    "img, label = data_show[\"image\"],data_show[\"label\"]\n",
    "img_shape = img.shape\n",
    "label_shape = label.shape\n",
    "print(f\"image shape: {img_shape}, label shape: {label_shape}\")\n",
    "plt.figure(\"image\", (18, 6))\n",
    "plt.subplot(1, 2, 1)\n",
    "plt.title(\"image\")\n",
    "plt.imshow(img[0, :, :, 0], cmap=\"gray\")\n",
    "plt.subplot(1, 2, 2)\n",
    "plt.title(\"label\")\n",
    "plt.imshow(label[0, :, :, 0])\n",
    "plt.show()"
   ]
  },
  {
   "cell_type": "code",
   "execution_count": 20,
   "id": "50c23036",
   "metadata": {},
   "outputs": [],
   "source": [
    "os.environ[\"CUDA_DEVICE_ORDER\"] = \"PCI_BUS_ID\"\n",
    "device = torch.device(\"cuda\" if torch.cuda.is_available() else \"cpu\")\n",
    "\n",
    "model = UNETR(\n",
    "    in_channels=1,\n",
    "    out_channels=3,\n",
    "    img_size=(32, 32, 16),\n",
    "    feature_size=16,\n",
    "    hidden_size=768,\n",
    "    mlp_dim=3072,\n",
    "    num_heads=12,\n",
    "    pos_embed=\"perceptron\",\n",
    "    norm_name=\"instance\",\n",
    "    res_block=True,\n",
    "    dropout_rate=0.0,\n",
    ").to(device)\n",
    "\n",
    "loss_function = DiceCELoss(to_onehot_y=True, softmax=True)\n",
    "torch.backends.cudnn.benchmark = True\n",
    "optimizer = torch.optim.AdamW(model.parameters(), lr=1e-4, weight_decay=1e-5)"
   ]
  },
  {
   "cell_type": "code",
   "execution_count": 21,
   "id": "fd388f62",
   "metadata": {},
   "outputs": [],
   "source": [
    "def validation(epoch_iterator_val):\n",
    "    model.eval()\n",
    "    with torch.no_grad():\n",
    "        for batch in epoch_iterator_val:\n",
    "            val_inputs, val_labels = (batch[\"image\"].cuda(), batch[\"label\"].cuda())\n",
    "            val_outputs = sliding_window_inference(val_inputs, (32, 32, 16), 4, model)\n",
    "            val_labels_list = decollate_batch(val_labels)\n",
    "            val_labels_convert = [post_label(val_label_tensor) for val_label_tensor in val_labels_list]\n",
    "            val_outputs_list = decollate_batch(val_outputs)\n",
    "            val_output_convert = [post_pred(val_pred_tensor) for val_pred_tensor in val_outputs_list]\n",
    "            dice_metric(y_pred=val_output_convert, y=val_labels_convert)\n",
    "            epoch_iterator_val.set_description(\"Validate (%d / %d Steps)\" % (global_step, 10.0))\n",
    "        mean_dice_val = dice_metric.aggregate().item()\n",
    "        dice_metric.reset()\n",
    "    return mean_dice_val\n",
    "\n",
    "\n",
    "def train(global_step, train_loader, dice_val_best, global_step_best):\n",
    "    model.train()\n",
    "    epoch_loss = 0\n",
    "    step = 0\n",
    "    epoch_iterator = tqdm(train_loader, desc=\"Training (X / X Steps) (loss=X.X)\", dynamic_ncols=True)\n",
    "    for step, batch in enumerate(epoch_iterator):\n",
    "        step += 1\n",
    "        x, y = (batch[\"image\"].cuda(), batch[\"label\"].cuda())\n",
    "        logit_map = model(x)\n",
    "        loss = loss_function(logit_map, y)\n",
    "        loss.backward()\n",
    "        epoch_loss += loss.item()\n",
    "        optimizer.step()\n",
    "        optimizer.zero_grad()\n",
    "        epoch_iterator.set_description(\"Training (%d / %d Steps) (loss=%2.5f)\" % (global_step, max_iterations, loss))\n",
    "        if (global_step % eval_num == 0 and global_step != 0) or global_step == max_iterations:\n",
    "            epoch_iterator_val = tqdm(val_loader, desc=\"Validate (X / X Steps) (dice=X.X)\", dynamic_ncols=True)\n",
    "            dice_val = validation(epoch_iterator_val)\n",
    "            epoch_loss /= step\n",
    "            epoch_loss_values.append(epoch_loss)\n",
    "            metric_values.append(dice_val)\n",
    "            if dice_val > dice_val_best:\n",
    "                dice_val_best = dice_val\n",
    "                global_step_best = global_step\n",
    "                torch.save(model.state_dict(), os.path.join(root_dir, \"best_metric_model.pth\"))\n",
    "                print(\n",
    "                    \"Model Was Saved ! Current Best Avg. Dice: {} Current Avg. Dice: {}\".format(dice_val_best, dice_val)\n",
    "                )\n",
    "            else:\n",
    "                print(\n",
    "                    \"Model Was Not Saved ! Current Best Avg. Dice: {} Current Avg. Dice: {}\".format(\n",
    "                        dice_val_best, dice_val\n",
    "                    )\n",
    "                )\n",
    "        global_step += 1\n",
    "    return global_step, dice_val_best, global_step_best"
   ]
  },
  {
   "cell_type": "code",
   "execution_count": 22,
   "id": "884745d1",
   "metadata": {},
   "outputs": [
    {
     "name": "stderr",
     "output_type": "stream",
     "text": [
      "Training (6 / 2500 Steps) (loss=2.04618): 100%|███████████████████████████████████████████| 7/7 [00:10<00:00,  1.45s/it]\n",
      "Training (13 / 2500 Steps) (loss=1.96734): 100%|██████████████████████████████████████████| 7/7 [00:02<00:00,  2.36it/s]\n",
      "Training (20 / 2500 Steps) (loss=1.94375): 100%|██████████████████████████████████████████| 7/7 [00:02<00:00,  2.57it/s]\n",
      "Training (27 / 2500 Steps) (loss=1.86070): 100%|██████████████████████████████████████████| 7/7 [00:02<00:00,  2.41it/s]\n",
      "Training (34 / 2500 Steps) (loss=1.73257): 100%|██████████████████████████████████████████| 7/7 [00:02<00:00,  2.62it/s]\n",
      "Training (41 / 2500 Steps) (loss=1.75554): 100%|██████████████████████████████████████████| 7/7 [00:02<00:00,  2.37it/s]\n",
      "Training (48 / 2500 Steps) (loss=1.70272): 100%|██████████████████████████████████████████| 7/7 [00:02<00:00,  2.38it/s]\n",
      "Training (50 / 2500 Steps) (loss=1.68952):  14%|██████                                    | 1/7 [00:02<00:14,  2.44s/it]\n",
      "Validate (X / X Steps) (dice=X.X):   0%|                                                         | 0/11 [00:00<?, ?it/s]\u001b[A\n",
      "Validate (49 / 10 Steps):   0%|                                                                  | 0/11 [00:01<?, ?it/s]\u001b[A\n",
      "Validate (49 / 10 Steps):   9%|█████▎                                                    | 1/11 [00:01<00:15,  1.53s/it]\u001b[A\n",
      "Validate (49 / 10 Steps):   9%|█████▎                                                    | 1/11 [00:02<00:15,  1.53s/it]\u001b[A\n",
      "Validate (49 / 10 Steps):  18%|██████████▌                                               | 2/11 [00:02<00:08,  1.07it/s]\u001b[A\n",
      "Validate (49 / 10 Steps):  18%|██████████▌                                               | 2/11 [00:02<00:08,  1.07it/s]\u001b[A\n",
      "Validate (49 / 10 Steps):  27%|███████████████▊                                          | 3/11 [00:02<00:04,  1.72it/s]\u001b[A\n",
      "Validate (49 / 10 Steps):  27%|███████████████▊                                          | 3/11 [00:02<00:04,  1.72it/s]\u001b[A\n",
      "Validate (49 / 10 Steps):  27%|███████████████▊                                          | 3/11 [00:02<00:04,  1.72it/s]\u001b[A\n",
      "Validate (49 / 10 Steps):  45%|██████████████████████████▎                               | 5/11 [00:02<00:01,  3.36it/s]\u001b[A\n",
      "Validate (49 / 10 Steps):  45%|██████████████████████████▎                               | 5/11 [00:02<00:01,  3.36it/s]\u001b[A\n",
      "Validate (49 / 10 Steps):  45%|██████████████████████████▎                               | 5/11 [00:02<00:01,  3.36it/s]\u001b[A\n",
      "Validate (49 / 10 Steps):  64%|████████████████████████████████████▉                     | 7/11 [00:02<00:00,  5.13it/s]\u001b[A\n",
      "Validate (49 / 10 Steps):  64%|████████████████████████████████████▉                     | 7/11 [00:02<00:00,  5.13it/s]\u001b[A\n",
      "Validate (49 / 10 Steps):  73%|██████████████████████████████████████████▏               | 8/11 [00:02<00:00,  4.94it/s]\u001b[A\n",
      "Validate (49 / 10 Steps):  73%|██████████████████████████████████████████▏               | 8/11 [00:02<00:00,  4.94it/s]\u001b[A\n",
      "Validate (49 / 10 Steps):  82%|███████████████████████████████████████████████▍          | 9/11 [00:02<00:00,  5.09it/s]\u001b[A\n",
      "Validate (49 / 10 Steps):  82%|███████████████████████████████████████████████▍          | 9/11 [00:03<00:00,  5.09it/s]\u001b[A\n",
      "Validate (49 / 10 Steps):  91%|███████████████████████████████████████████████████▊     | 10/11 [00:03<00:00,  5.18it/s]\u001b[A\n",
      "Validate (49 / 10 Steps):  91%|███████████████████████████████████████████████████▊     | 10/11 [00:03<00:00,  5.18it/s]\u001b[A\n",
      "Validate (49 / 10 Steps): 100%|█████████████████████████████████████████████████████████| 11/11 [00:03<00:00,  3.30it/s]\u001b[A\n",
      "Training (50 / 2500 Steps) (loss=1.68952):  29%|████████████                              | 2/7 [00:07<00:19,  3.82s/it]"
     ]
    },
    {
     "name": "stdout",
     "output_type": "stream",
     "text": [
      "Model Was Saved ! Current Best Avg. Dice: 0.33134138584136963 Current Avg. Dice: 0.33134138584136963\n"
     ]
    },
    {
     "name": "stderr",
     "output_type": "stream",
     "text": [
      "Training (55 / 2500 Steps) (loss=1.77765): 100%|██████████████████████████████████████████| 7/7 [00:08<00:00,  1.24s/it]\n",
      "Training (62 / 2500 Steps) (loss=1.57942): 100%|██████████████████████████████████████████| 7/7 [00:02<00:00,  2.42it/s]\n",
      "Training (69 / 2500 Steps) (loss=1.71754): 100%|██████████████████████████████████████████| 7/7 [00:03<00:00,  2.32it/s]\n",
      "Training (76 / 2500 Steps) (loss=1.59833): 100%|██████████████████████████████████████████| 7/7 [00:03<00:00,  2.29it/s]\n",
      "Training (83 / 2500 Steps) (loss=1.53150): 100%|██████████████████████████████████████████| 7/7 [00:02<00:00,  2.60it/s]\n",
      "Training (90 / 2500 Steps) (loss=1.56494): 100%|██████████████████████████████████████████| 7/7 [00:02<00:00,  2.57it/s]\n",
      "Training (97 / 2500 Steps) (loss=1.51796): 100%|██████████████████████████████████████████| 7/7 [00:03<00:00,  2.01it/s]\n",
      "Training (100 / 2500 Steps) (loss=1.55456):  29%|███████████▋                             | 2/7 [00:01<00:03,  1.35it/s]\n",
      "Validate (X / X Steps) (dice=X.X):   0%|                                                         | 0/11 [00:00<?, ?it/s]\u001b[A\n",
      "Validate (98 / 10 Steps):   0%|                                                                  | 0/11 [00:01<?, ?it/s]\u001b[A\n",
      "Validate (98 / 10 Steps):   9%|█████▎                                                    | 1/11 [00:01<00:12,  1.25s/it]\u001b[A\n",
      "Validate (98 / 10 Steps):   9%|█████▎                                                    | 1/11 [00:01<00:12,  1.25s/it]\u001b[A\n",
      "Validate (98 / 10 Steps):  18%|██████████▌                                               | 2/11 [00:01<00:06,  1.29it/s]\u001b[A\n",
      "Validate (98 / 10 Steps):  18%|██████████▌                                               | 2/11 [00:01<00:06,  1.29it/s]\u001b[A\n",
      "Validate (98 / 10 Steps):  27%|███████████████▊                                          | 3/11 [00:01<00:03,  2.02it/s]\u001b[A\n",
      "Validate (98 / 10 Steps):  27%|███████████████▊                                          | 3/11 [00:01<00:03,  2.02it/s]\u001b[A\n",
      "Validate (98 / 10 Steps):  27%|███████████████▊                                          | 3/11 [00:02<00:03,  2.02it/s]\u001b[A\n",
      "Validate (98 / 10 Steps):  45%|██████████████████████████▎                               | 5/11 [00:02<00:01,  3.87it/s]\u001b[A\n",
      "Validate (98 / 10 Steps):  45%|██████████████████████████▎                               | 5/11 [00:02<00:01,  3.87it/s]\u001b[A\n",
      "Validate (98 / 10 Steps):  45%|██████████████████████████▎                               | 5/11 [00:02<00:01,  3.87it/s]\u001b[A\n",
      "Validate (98 / 10 Steps):  64%|████████████████████████████████████▉                     | 7/11 [00:02<00:00,  5.70it/s]\u001b[A\n",
      "Validate (98 / 10 Steps):  64%|████████████████████████████████████▉                     | 7/11 [00:02<00:00,  5.70it/s]\u001b[A\n",
      "Validate (98 / 10 Steps):  73%|██████████████████████████████████████████▏               | 8/11 [00:02<00:00,  5.00it/s]\u001b[A\n",
      "Validate (98 / 10 Steps):  73%|██████████████████████████████████████████▏               | 8/11 [00:02<00:00,  5.00it/s]\u001b[A\n",
      "Validate (98 / 10 Steps):  82%|███████████████████████████████████████████████▍          | 9/11 [00:02<00:00,  4.95it/s]\u001b[A\n",
      "Validate (98 / 10 Steps):  82%|███████████████████████████████████████████████▍          | 9/11 [00:02<00:00,  4.95it/s]\u001b[A\n",
      "Validate (98 / 10 Steps):  91%|███████████████████████████████████████████████████▊     | 10/11 [00:02<00:00,  5.01it/s]\u001b[A\n",
      "Validate (98 / 10 Steps):  91%|███████████████████████████████████████████████████▊     | 10/11 [00:03<00:00,  5.01it/s]\u001b[A\n",
      "Validate (98 / 10 Steps): 100%|█████████████████████████████████████████████████████████| 11/11 [00:03<00:00,  3.49it/s]\u001b[A\n",
      "Training (100 / 2500 Steps) (loss=1.55456):  43%|█████████████████▌                       | 3/7 [00:05<00:08,  2.20s/it]"
     ]
    },
    {
     "name": "stdout",
     "output_type": "stream",
     "text": [
      "Model Was Saved ! Current Best Avg. Dice: 0.44397103786468506 Current Avg. Dice: 0.44397103786468506\n"
     ]
    },
    {
     "name": "stderr",
     "output_type": "stream",
     "text": [
      "Training (104 / 2500 Steps) (loss=1.55508): 100%|█████████████████████████████████████████| 7/7 [00:06<00:00,  1.05it/s]\n",
      "Training (111 / 2500 Steps) (loss=1.46759): 100%|█████████████████████████████████████████| 7/7 [00:03<00:00,  2.17it/s]\n",
      "Training (118 / 2500 Steps) (loss=1.56636): 100%|█████████████████████████████████████████| 7/7 [00:03<00:00,  2.32it/s]\n",
      "Training (125 / 2500 Steps) (loss=1.56488): 100%|█████████████████████████████████████████| 7/7 [00:03<00:00,  2.22it/s]\n",
      "Training (132 / 2500 Steps) (loss=1.37706): 100%|█████████████████████████████████████████| 7/7 [00:02<00:00,  2.37it/s]\n",
      "Training (139 / 2500 Steps) (loss=1.52820): 100%|█████████████████████████████████████████| 7/7 [00:03<00:00,  2.13it/s]\n",
      "Training (146 / 2500 Steps) (loss=1.45233): 100%|█████████████████████████████████████████| 7/7 [00:03<00:00,  2.29it/s]\n",
      "Training (150 / 2500 Steps) (loss=1.40001):  43%|█████████████████▌                       | 3/7 [00:02<00:02,  1.86it/s]\n",
      "Validate (X / X Steps) (dice=X.X):   0%|                                                         | 0/11 [00:00<?, ?it/s]\u001b[A\n",
      "Validate (147 / 10 Steps):   0%|                                                                 | 0/11 [00:01<?, ?it/s]\u001b[A\n",
      "Validate (147 / 10 Steps):   9%|█████▏                                                   | 1/11 [00:01<00:11,  1.18s/it]\u001b[A\n",
      "Validate (147 / 10 Steps):   9%|█████▏                                                   | 1/11 [00:01<00:11,  1.18s/it]\u001b[A\n",
      "Validate (147 / 10 Steps):  18%|██████████▎                                              | 2/11 [00:01<00:06,  1.36it/s]\u001b[A\n",
      "Validate (147 / 10 Steps):  18%|██████████▎                                              | 2/11 [00:01<00:06,  1.36it/s]\u001b[A\n",
      "Validate (147 / 10 Steps):  27%|███████████████▌                                         | 3/11 [00:01<00:03,  2.11it/s]\u001b[A\n",
      "Validate (147 / 10 Steps):  27%|███████████████▌                                         | 3/11 [00:01<00:03,  2.11it/s]\u001b[A\n",
      "Validate (147 / 10 Steps):  27%|███████████████▌                                         | 3/11 [00:01<00:03,  2.11it/s]\u001b[A\n",
      "Validate (147 / 10 Steps):  45%|█████████████████████████▉                               | 5/11 [00:01<00:01,  3.99it/s]\u001b[A\n",
      "Validate (147 / 10 Steps):  45%|█████████████████████████▉                               | 5/11 [00:02<00:01,  3.99it/s]\u001b[A\n",
      "Validate (147 / 10 Steps):  45%|█████████████████████████▉                               | 5/11 [00:02<00:01,  3.99it/s]\u001b[A\n",
      "Validate (147 / 10 Steps):  64%|████████████████████████████████████▎                    | 7/11 [00:02<00:00,  5.80it/s]\u001b[A\n",
      "Validate (147 / 10 Steps):  64%|████████████████████████████████████▎                    | 7/11 [00:02<00:00,  5.80it/s]\u001b[A\n",
      "Validate (147 / 10 Steps):  73%|█████████████████████████████████████████▍               | 8/11 [00:02<00:00,  5.16it/s]\u001b[A\n",
      "Validate (147 / 10 Steps):  73%|█████████████████████████████████████████▍               | 8/11 [00:02<00:00,  5.16it/s]\u001b[A\n",
      "Validate (147 / 10 Steps):  82%|██████████████████████████████████████████████▋          | 9/11 [00:02<00:00,  5.01it/s]\u001b[A\n",
      "Validate (147 / 10 Steps):  82%|██████████████████████████████████████████████▋          | 9/11 [00:02<00:00,  5.01it/s]\u001b[A\n",
      "Validate (147 / 10 Steps):  91%|██████████████████████████████████████████████████▉     | 10/11 [00:02<00:00,  4.69it/s]\u001b[A\n",
      "Validate (147 / 10 Steps):  91%|██████████████████████████████████████████████████▉     | 10/11 [00:03<00:00,  4.69it/s]\u001b[A\n",
      "Validate (147 / 10 Steps): 100%|████████████████████████████████████████████████████████| 11/11 [00:03<00:00,  3.57it/s]\u001b[A\n",
      "Training (150 / 2500 Steps) (loss=1.40001):  57%|███████████████████████▍                 | 4/7 [00:05<00:05,  1.81s/it]"
     ]
    },
    {
     "name": "stdout",
     "output_type": "stream",
     "text": [
      "Model Was Saved ! Current Best Avg. Dice: 0.499948114156723 Current Avg. Dice: 0.499948114156723\n"
     ]
    },
    {
     "name": "stderr",
     "output_type": "stream",
     "text": [
      "Training (153 / 2500 Steps) (loss=1.47953): 100%|█████████████████████████████████████████| 7/7 [00:06<00:00,  1.08it/s]\n",
      "Training (160 / 2500 Steps) (loss=1.53084): 100%|█████████████████████████████████████████| 7/7 [00:03<00:00,  2.13it/s]\n",
      "Training (167 / 2500 Steps) (loss=1.37086): 100%|█████████████████████████████████████████| 7/7 [00:03<00:00,  2.22it/s]\n",
      "Training (174 / 2500 Steps) (loss=1.46774): 100%|█████████████████████████████████████████| 7/7 [00:03<00:00,  2.14it/s]\n",
      "Training (181 / 2500 Steps) (loss=1.35332): 100%|█████████████████████████████████████████| 7/7 [00:03<00:00,  2.25it/s]\n",
      "Training (188 / 2500 Steps) (loss=1.42252): 100%|█████████████████████████████████████████| 7/7 [00:03<00:00,  1.98it/s]\n",
      "Training (195 / 2500 Steps) (loss=1.34396): 100%|█████████████████████████████████████████| 7/7 [00:03<00:00,  2.15it/s]\n",
      "Training (200 / 2500 Steps) (loss=1.38079):  57%|███████████████████████▍                 | 4/7 [00:02<00:01,  2.39it/s]\n",
      "Validate (X / X Steps) (dice=X.X):   0%|                                                         | 0/11 [00:00<?, ?it/s]\u001b[A\n",
      "Validate (196 / 10 Steps):   0%|                                                                 | 0/11 [00:01<?, ?it/s]\u001b[A\n",
      "Validate (196 / 10 Steps):   9%|█████▏                                                   | 1/11 [00:01<00:14,  1.46s/it]\u001b[A\n",
      "Validate (196 / 10 Steps):   9%|█████▏                                                   | 1/11 [00:01<00:14,  1.46s/it]\u001b[A\n",
      "Validate (196 / 10 Steps):  18%|██████████▎                                              | 2/11 [00:01<00:07,  1.16it/s]\u001b[A\n",
      "Validate (196 / 10 Steps):  18%|██████████▎                                              | 2/11 [00:02<00:07,  1.16it/s]\u001b[A\n",
      "Validate (196 / 10 Steps):  27%|███████████████▌                                         | 3/11 [00:02<00:04,  1.82it/s]\u001b[A\n",
      "Validate (196 / 10 Steps):  27%|███████████████▌                                         | 3/11 [00:02<00:04,  1.82it/s]\u001b[A\n",
      "Validate (196 / 10 Steps):  27%|███████████████▌                                         | 3/11 [00:02<00:04,  1.82it/s]\u001b[A\n",
      "Validate (196 / 10 Steps):  45%|█████████████████████████▉                               | 5/11 [00:02<00:01,  3.40it/s]\u001b[A\n",
      "Validate (196 / 10 Steps):  45%|█████████████████████████▉                               | 5/11 [00:02<00:01,  3.40it/s]\u001b[A\n",
      "Validate (196 / 10 Steps):  45%|█████████████████████████▉                               | 5/11 [00:02<00:01,  3.40it/s]\u001b[A\n",
      "Validate (196 / 10 Steps):  64%|████████████████████████████████████▎                    | 7/11 [00:02<00:00,  4.91it/s]\u001b[A\n",
      "Validate (196 / 10 Steps):  64%|████████████████████████████████████▎                    | 7/11 [00:02<00:00,  4.91it/s]\u001b[A\n",
      "Validate (196 / 10 Steps):  73%|█████████████████████████████████████████▍               | 8/11 [00:02<00:00,  4.23it/s]\u001b[A\n",
      "Validate (196 / 10 Steps):  73%|█████████████████████████████████████████▍               | 8/11 [00:03<00:00,  4.23it/s]\u001b[A\n",
      "Validate (196 / 10 Steps):  82%|██████████████████████████████████████████████▋          | 9/11 [00:03<00:00,  4.18it/s]\u001b[A\n",
      "Validate (196 / 10 Steps):  82%|██████████████████████████████████████████████▋          | 9/11 [00:03<00:00,  4.18it/s]\u001b[A\n",
      "Validate (196 / 10 Steps):  91%|██████████████████████████████████████████████████▉     | 10/11 [00:03<00:00,  3.85it/s]\u001b[A\n",
      "Validate (196 / 10 Steps):  91%|██████████████████████████████████████████████████▉     | 10/11 [00:03<00:00,  3.85it/s]\u001b[A\n",
      "Validate (196 / 10 Steps): 100%|████████████████████████████████████████████████████████| 11/11 [00:03<00:00,  3.01it/s]\u001b[A\n",
      "Training (200 / 2500 Steps) (loss=1.38079):  71%|█████████████████████████████▎           | 5/7 [00:06<00:03,  1.84s/it]"
     ]
    },
    {
     "name": "stdout",
     "output_type": "stream",
     "text": [
      "Model Was Saved ! Current Best Avg. Dice: 0.5367292761802673 Current Avg. Dice: 0.5367292761802673\n"
     ]
    },
    {
     "name": "stderr",
     "output_type": "stream",
     "text": [
      "Training (202 / 2500 Steps) (loss=1.41089): 100%|█████████████████████████████████████████| 7/7 [00:06<00:00,  1.00it/s]\n",
      "Training (209 / 2500 Steps) (loss=1.30649): 100%|█████████████████████████████████████████| 7/7 [00:03<00:00,  2.16it/s]\n",
      "Training (216 / 2500 Steps) (loss=1.59249): 100%|█████████████████████████████████████████| 7/7 [00:02<00:00,  2.37it/s]\n",
      "Training (223 / 2500 Steps) (loss=1.30713): 100%|█████████████████████████████████████████| 7/7 [00:03<00:00,  2.07it/s]\n",
      "Training (230 / 2500 Steps) (loss=1.28842): 100%|█████████████████████████████████████████| 7/7 [00:03<00:00,  1.90it/s]\n",
      "Training (237 / 2500 Steps) (loss=1.41150): 100%|█████████████████████████████████████████| 7/7 [00:03<00:00,  2.10it/s]\n",
      "Training (244 / 2500 Steps) (loss=1.45673): 100%|█████████████████████████████████████████| 7/7 [00:03<00:00,  2.05it/s]\n",
      "Training (250 / 2500 Steps) (loss=1.32600):  71%|█████████████████████████████▎           | 5/7 [00:02<00:00,  2.39it/s]\n",
      "Validate (X / X Steps) (dice=X.X):   0%|                                                         | 0/11 [00:00<?, ?it/s]\u001b[A\n",
      "Validate (245 / 10 Steps):   0%|                                                                 | 0/11 [00:01<?, ?it/s]\u001b[A\n",
      "Validate (245 / 10 Steps):   9%|█████▏                                                   | 1/11 [00:01<00:13,  1.35s/it]\u001b[A\n",
      "Validate (245 / 10 Steps):   9%|█████▏                                                   | 1/11 [00:01<00:13,  1.35s/it]\u001b[A\n",
      "Validate (245 / 10 Steps):  18%|██████████▎                                              | 2/11 [00:01<00:06,  1.29it/s]\u001b[A\n",
      "Validate (245 / 10 Steps):  18%|██████████▎                                              | 2/11 [00:01<00:06,  1.29it/s]\u001b[A\n",
      "Validate (245 / 10 Steps):  27%|███████████████▌                                         | 3/11 [00:01<00:03,  2.05it/s]\u001b[A\n",
      "Validate (245 / 10 Steps):  27%|███████████████▌                                         | 3/11 [00:01<00:03,  2.05it/s]\u001b[A\n",
      "Validate (245 / 10 Steps):  27%|███████████████▌                                         | 3/11 [00:02<00:03,  2.05it/s]\u001b[A\n",
      "Validate (245 / 10 Steps):  45%|█████████████████████████▉                               | 5/11 [00:02<00:01,  3.68it/s]\u001b[A\n",
      "Validate (245 / 10 Steps):  45%|█████████████████████████▉                               | 5/11 [00:02<00:01,  3.68it/s]\u001b[A\n",
      "Validate (245 / 10 Steps):  55%|███████████████████████████████                          | 6/11 [00:02<00:01,  4.38it/s]\u001b[A\n",
      "Validate (245 / 10 Steps):  55%|███████████████████████████████                          | 6/11 [00:02<00:01,  4.38it/s]\u001b[A\n",
      "Validate (245 / 10 Steps):  55%|███████████████████████████████                          | 6/11 [00:02<00:01,  4.38it/s]\u001b[A\n",
      "Validate (245 / 10 Steps):  73%|█████████████████████████████████████████▍               | 8/11 [00:02<00:00,  4.43it/s]\u001b[A\n",
      "Validate (245 / 10 Steps):  73%|█████████████████████████████████████████▍               | 8/11 [00:02<00:00,  4.43it/s]\u001b[A\n",
      "Validate (245 / 10 Steps):  82%|██████████████████████████████████████████████▋          | 9/11 [00:02<00:00,  3.98it/s]\u001b[A\n",
      "Validate (245 / 10 Steps):  82%|██████████████████████████████████████████████▋          | 9/11 [00:03<00:00,  3.98it/s]\u001b[A\n",
      "Validate (245 / 10 Steps):  91%|██████████████████████████████████████████████████▉     | 10/11 [00:03<00:00,  3.78it/s]\u001b[A\n",
      "Validate (245 / 10 Steps):  91%|██████████████████████████████████████████████████▉     | 10/11 [00:03<00:00,  3.78it/s]\u001b[A\n",
      "Validate (245 / 10 Steps): 100%|████████████████████████████████████████████████████████| 11/11 [00:03<00:00,  2.99it/s]\u001b[A\n",
      "Training (251 / 2500 Steps) (loss=1.39910): 100%|█████████████████████████████████████████| 7/7 [00:07<00:00,  1.26s/it]"
     ]
    },
    {
     "name": "stdout",
     "output_type": "stream",
     "text": [
      "Model Was Saved ! Current Best Avg. Dice: 0.5480291843414307 Current Avg. Dice: 0.5480291843414307\n"
     ]
    },
    {
     "name": "stderr",
     "output_type": "stream",
     "text": [
      "Training (251 / 2500 Steps) (loss=1.39910): 100%|█████████████████████████████████████████| 7/7 [00:07<00:00,  1.05s/it]\n",
      "Training (258 / 2500 Steps) (loss=1.30431): 100%|█████████████████████████████████████████| 7/7 [00:03<00:00,  2.27it/s]\n",
      "Training (265 / 2500 Steps) (loss=1.39539): 100%|█████████████████████████████████████████| 7/7 [00:03<00:00,  2.11it/s]\n",
      "Training (272 / 2500 Steps) (loss=1.36413): 100%|█████████████████████████████████████████| 7/7 [00:03<00:00,  2.13it/s]\n",
      "Training (279 / 2500 Steps) (loss=1.50325): 100%|█████████████████████████████████████████| 7/7 [00:03<00:00,  1.75it/s]\n",
      "Training (286 / 2500 Steps) (loss=1.41086): 100%|█████████████████████████████████████████| 7/7 [00:03<00:00,  2.31it/s]\n",
      "Training (293 / 2500 Steps) (loss=1.48744): 100%|█████████████████████████████████████████| 7/7 [00:02<00:00,  2.44it/s]\n",
      "Training (300 / 2500 Steps) (loss=1.51561):  86%|███████████████████████████████████▏     | 6/7 [00:02<00:00,  2.93it/s]\n",
      "Validate (X / X Steps) (dice=X.X):   0%|                                                         | 0/11 [00:00<?, ?it/s]\u001b[A\n",
      "Validate (294 / 10 Steps):   0%|                                                                 | 0/11 [00:01<?, ?it/s]\u001b[A\n",
      "Validate (294 / 10 Steps):   9%|█████▏                                                   | 1/11 [00:01<00:11,  1.18s/it]\u001b[A\n",
      "Validate (294 / 10 Steps):   9%|█████▏                                                   | 1/11 [00:01<00:11,  1.18s/it]\u001b[A\n",
      "Validate (294 / 10 Steps):  18%|██████████▎                                              | 2/11 [00:01<00:06,  1.34it/s]\u001b[A\n",
      "Validate (294 / 10 Steps):  18%|██████████▎                                              | 2/11 [00:01<00:06,  1.34it/s]\u001b[A\n",
      "Validate (294 / 10 Steps):  27%|███████████████▌                                         | 3/11 [00:01<00:03,  2.02it/s]\u001b[A\n",
      "Validate (294 / 10 Steps):  27%|███████████████▌                                         | 3/11 [00:01<00:03,  2.02it/s]\u001b[A\n",
      "Validate (294 / 10 Steps):  36%|████████████████████▋                                    | 4/11 [00:01<00:02,  2.91it/s]\u001b[A\n",
      "Validate (294 / 10 Steps):  36%|████████████████████▋                                    | 4/11 [00:01<00:02,  2.91it/s]\u001b[A\n",
      "Validate (294 / 10 Steps):  36%|████████████████████▋                                    | 4/11 [00:02<00:02,  2.91it/s]\u001b[A\n",
      "Validate (294 / 10 Steps):  55%|███████████████████████████████                          | 6/11 [00:02<00:01,  4.65it/s]\u001b[A\n",
      "Validate (294 / 10 Steps):  55%|███████████████████████████████                          | 6/11 [00:02<00:01,  4.65it/s]\u001b[A\n",
      "Validate (294 / 10 Steps):  55%|███████████████████████████████                          | 6/11 [00:02<00:01,  4.65it/s]\u001b[A\n",
      "Validate (294 / 10 Steps):  73%|█████████████████████████████████████████▍               | 8/11 [00:02<00:00,  4.61it/s]\u001b[A\n",
      "Validate (294 / 10 Steps):  73%|█████████████████████████████████████████▍               | 8/11 [00:02<00:00,  4.61it/s]\u001b[A\n",
      "Validate (294 / 10 Steps):  82%|██████████████████████████████████████████████▋          | 9/11 [00:02<00:00,  4.46it/s]\u001b[A\n",
      "Validate (294 / 10 Steps):  82%|██████████████████████████████████████████████▋          | 9/11 [00:03<00:00,  4.46it/s]\u001b[A\n",
      "Validate (294 / 10 Steps):  91%|██████████████████████████████████████████████████▉     | 10/11 [00:03<00:00,  4.63it/s]\u001b[A\n",
      "Validate (294 / 10 Steps):  91%|██████████████████████████████████████████████████▉     | 10/11 [00:03<00:00,  4.63it/s]\u001b[A\n",
      "Validate (294 / 10 Steps): 100%|████████████████████████████████████████████████████████| 11/11 [00:03<00:00,  3.37it/s]\u001b[A\n",
      "Training (300 / 2500 Steps) (loss=1.51561): 100%|█████████████████████████████████████████| 7/7 [00:06<00:00,  1.07it/s]\n"
     ]
    },
    {
     "name": "stdout",
     "output_type": "stream",
     "text": [
      "Model Was Saved ! Current Best Avg. Dice: 0.609727144241333 Current Avg. Dice: 0.609727144241333\n"
     ]
    },
    {
     "name": "stderr",
     "output_type": "stream",
     "text": [
      "Training (307 / 2500 Steps) (loss=1.24451): 100%|█████████████████████████████████████████| 7/7 [00:03<00:00,  2.30it/s]\n",
      "Training (314 / 2500 Steps) (loss=1.26498): 100%|█████████████████████████████████████████| 7/7 [00:02<00:00,  2.36it/s]\n",
      "Training (321 / 2500 Steps) (loss=1.31134): 100%|█████████████████████████████████████████| 7/7 [00:03<00:00,  2.22it/s]\n",
      "Training (328 / 2500 Steps) (loss=1.27642): 100%|█████████████████████████████████████████| 7/7 [00:02<00:00,  2.45it/s]\n",
      "Training (335 / 2500 Steps) (loss=1.23578): 100%|█████████████████████████████████████████| 7/7 [00:02<00:00,  2.46it/s]\n",
      "Training (342 / 2500 Steps) (loss=1.25843): 100%|█████████████████████████████████████████| 7/7 [00:02<00:00,  2.47it/s]\n",
      "Training (349 / 2500 Steps) (loss=1.27770): 100%|█████████████████████████████████████████| 7/7 [00:02<00:00,  2.41it/s]\n",
      "Training (350 / 2500 Steps) (loss=1.22272):   0%|                                                 | 0/7 [00:01<?, ?it/s]\n",
      "Validate (X / X Steps) (dice=X.X):   0%|                                                         | 0/11 [00:00<?, ?it/s]\u001b[A\n",
      "Validate (350 / 10 Steps):   0%|                                                                 | 0/11 [00:01<?, ?it/s]\u001b[A\n",
      "Validate (350 / 10 Steps):   9%|█████▏                                                   | 1/11 [00:01<00:12,  1.26s/it]\u001b[A\n",
      "Validate (350 / 10 Steps):   9%|█████▏                                                   | 1/11 [00:01<00:12,  1.26s/it]\u001b[A\n",
      "Validate (350 / 10 Steps):  18%|██████████▎                                              | 2/11 [00:01<00:06,  1.29it/s]\u001b[A\n",
      "Validate (350 / 10 Steps):  18%|██████████▎                                              | 2/11 [00:01<00:06,  1.29it/s]\u001b[A\n",
      "Validate (350 / 10 Steps):  27%|███████████████▌                                         | 3/11 [00:01<00:03,  2.01it/s]\u001b[A\n",
      "Validate (350 / 10 Steps):  27%|███████████████▌                                         | 3/11 [00:01<00:03,  2.01it/s]\u001b[A\n",
      "Validate (350 / 10 Steps):  27%|███████████████▌                                         | 3/11 [00:02<00:03,  2.01it/s]\u001b[A\n",
      "Validate (350 / 10 Steps):  45%|█████████████████████████▉                               | 5/11 [00:02<00:01,  3.74it/s]\u001b[A\n",
      "Validate (350 / 10 Steps):  45%|█████████████████████████▉                               | 5/11 [00:02<00:01,  3.74it/s]\u001b[A\n",
      "Validate (350 / 10 Steps):  45%|█████████████████████████▉                               | 5/11 [00:02<00:01,  3.74it/s]\u001b[A\n",
      "Validate (350 / 10 Steps):  64%|████████████████████████████████████▎                    | 7/11 [00:02<00:00,  5.50it/s]\u001b[A\n",
      "Validate (350 / 10 Steps):  64%|████████████████████████████████████▎                    | 7/11 [00:02<00:00,  5.50it/s]\u001b[A\n",
      "Validate (350 / 10 Steps):  73%|█████████████████████████████████████████▍               | 8/11 [00:02<00:00,  4.89it/s]\u001b[A\n",
      "Validate (350 / 10 Steps):  73%|█████████████████████████████████████████▍               | 8/11 [00:02<00:00,  4.89it/s]\u001b[A\n",
      "Validate (350 / 10 Steps):  82%|██████████████████████████████████████████████▋          | 9/11 [00:02<00:00,  5.00it/s]\u001b[A\n",
      "Validate (350 / 10 Steps):  82%|██████████████████████████████████████████████▋          | 9/11 [00:02<00:00,  5.00it/s]\u001b[A\n",
      "Validate (350 / 10 Steps):  91%|██████████████████████████████████████████████████▉     | 10/11 [00:02<00:00,  4.87it/s]\u001b[A\n",
      "Validate (350 / 10 Steps):  91%|██████████████████████████████████████████████████▉     | 10/11 [00:03<00:00,  4.87it/s]\u001b[A\n",
      "Validate (350 / 10 Steps): 100%|████████████████████████████████████████████████████████| 11/11 [00:03<00:00,  3.52it/s]\u001b[A\n",
      "Training (350 / 2500 Steps) (loss=1.22272):  14%|█████▊                                   | 1/7 [00:04<00:27,  4.58s/it]"
     ]
    },
    {
     "name": "stdout",
     "output_type": "stream",
     "text": [
      "Model Was Saved ! Current Best Avg. Dice: 0.6937575936317444 Current Avg. Dice: 0.6937575936317444\n"
     ]
    },
    {
     "name": "stderr",
     "output_type": "stream",
     "text": [
      "Training (356 / 2500 Steps) (loss=1.27329): 100%|█████████████████████████████████████████| 7/7 [00:06<00:00,  1.12it/s]\n",
      "Training (363 / 2500 Steps) (loss=1.19499): 100%|█████████████████████████████████████████| 7/7 [00:03<00:00,  2.11it/s]\n",
      "Training (370 / 2500 Steps) (loss=1.25765): 100%|█████████████████████████████████████████| 7/7 [00:03<00:00,  2.30it/s]\n",
      "Training (377 / 2500 Steps) (loss=1.24310): 100%|█████████████████████████████████████████| 7/7 [00:03<00:00,  2.25it/s]\n",
      "Training (384 / 2500 Steps) (loss=1.24015): 100%|█████████████████████████████████████████| 7/7 [00:02<00:00,  2.47it/s]\n",
      "Training (391 / 2500 Steps) (loss=1.19226): 100%|█████████████████████████████████████████| 7/7 [00:02<00:00,  2.43it/s]\n",
      "Training (398 / 2500 Steps) (loss=1.32569): 100%|█████████████████████████████████████████| 7/7 [00:02<00:00,  2.45it/s]\n",
      "Training (400 / 2500 Steps) (loss=1.16226):  14%|█████▊                                   | 1/7 [00:01<00:05,  1.01it/s]\n",
      "Validate (X / X Steps) (dice=X.X):   0%|                                                         | 0/11 [00:00<?, ?it/s]\u001b[A\n",
      "Validate (399 / 10 Steps):   0%|                                                                 | 0/11 [00:01<?, ?it/s]\u001b[A\n",
      "Validate (399 / 10 Steps):   9%|█████▏                                                   | 1/11 [00:01<00:14,  1.46s/it]\u001b[A\n",
      "Validate (399 / 10 Steps):   9%|█████▏                                                   | 1/11 [00:01<00:14,  1.46s/it]\u001b[A\n",
      "Validate (399 / 10 Steps):  18%|██████████▎                                              | 2/11 [00:01<00:07,  1.18it/s]\u001b[A\n",
      "Validate (399 / 10 Steps):  18%|██████████▎                                              | 2/11 [00:01<00:07,  1.18it/s]\u001b[A\n",
      "Validate (399 / 10 Steps):  18%|██████████▎                                              | 2/11 [00:02<00:07,  1.18it/s]\u001b[A\n",
      "Validate (399 / 10 Steps):  36%|████████████████████▋                                    | 4/11 [00:02<00:02,  2.50it/s]\u001b[A\n",
      "Validate (399 / 10 Steps):  36%|████████████████████▋                                    | 4/11 [00:02<00:02,  2.50it/s]\u001b[A\n",
      "Validate (399 / 10 Steps):  45%|█████████████████████████▉                               | 5/11 [00:02<00:01,  3.12it/s]\u001b[A\n",
      "Validate (399 / 10 Steps):  45%|█████████████████████████▉                               | 5/11 [00:02<00:01,  3.12it/s]\u001b[A\n",
      "Validate (399 / 10 Steps):  45%|█████████████████████████▉                               | 5/11 [00:02<00:01,  3.12it/s]\u001b[A\n",
      "Validate (399 / 10 Steps):  64%|████████████████████████████████████▎                    | 7/11 [00:02<00:00,  4.83it/s]\u001b[A\n",
      "Validate (399 / 10 Steps):  64%|████████████████████████████████████▎                    | 7/11 [00:02<00:00,  4.83it/s]\u001b[A\n",
      "Validate (399 / 10 Steps):  73%|█████████████████████████████████████████▍               | 8/11 [00:02<00:00,  4.43it/s]\u001b[A\n",
      "Validate (399 / 10 Steps):  73%|█████████████████████████████████████████▍               | 8/11 [00:02<00:00,  4.43it/s]\u001b[A\n",
      "Validate (399 / 10 Steps):  82%|██████████████████████████████████████████████▋          | 9/11 [00:02<00:00,  4.37it/s]\u001b[A\n",
      "Validate (399 / 10 Steps):  82%|██████████████████████████████████████████████▋          | 9/11 [00:03<00:00,  4.37it/s]\u001b[A\n",
      "Validate (399 / 10 Steps):  91%|██████████████████████████████████████████████████▉     | 10/11 [00:03<00:00,  4.48it/s]\u001b[A\n",
      "Validate (399 / 10 Steps):  91%|██████████████████████████████████████████████████▉     | 10/11 [00:03<00:00,  4.48it/s]\u001b[A\n",
      "Validate (399 / 10 Steps): 100%|████████████████████████████████████████████████████████| 11/11 [00:03<00:00,  3.21it/s]\u001b[A\n",
      "Training (400 / 2500 Steps) (loss=1.16226):  29%|███████████▋                             | 2/7 [00:05<00:14,  2.94s/it]"
     ]
    },
    {
     "name": "stdout",
     "output_type": "stream",
     "text": [
      "Model Was Saved ! Current Best Avg. Dice: 0.6973363757133484 Current Avg. Dice: 0.6973363757133484\n"
     ]
    },
    {
     "name": "stderr",
     "output_type": "stream",
     "text": [
      "Training (405 / 2500 Steps) (loss=1.12545): 100%|█████████████████████████████████████████| 7/7 [00:06<00:00,  1.04it/s]\n",
      "Training (412 / 2500 Steps) (loss=1.31224): 100%|█████████████████████████████████████████| 7/7 [00:02<00:00,  2.42it/s]\n",
      "Training (419 / 2500 Steps) (loss=1.12260): 100%|█████████████████████████████████████████| 7/7 [00:03<00:00,  2.23it/s]\n",
      "Training (426 / 2500 Steps) (loss=1.19822): 100%|█████████████████████████████████████████| 7/7 [00:02<00:00,  2.40it/s]\n",
      "Training (433 / 2500 Steps) (loss=1.08469): 100%|█████████████████████████████████████████| 7/7 [00:02<00:00,  2.46it/s]\n",
      "Training (440 / 2500 Steps) (loss=1.13977): 100%|█████████████████████████████████████████| 7/7 [00:03<00:00,  2.33it/s]\n",
      "Training (447 / 2500 Steps) (loss=1.29270): 100%|█████████████████████████████████████████| 7/7 [00:03<00:00,  2.27it/s]\n",
      "Training (450 / 2500 Steps) (loss=1.15246):  29%|███████████▋                             | 2/7 [00:02<00:04,  1.15it/s]\n",
      "Validate (X / X Steps) (dice=X.X):   0%|                                                         | 0/11 [00:00<?, ?it/s]\u001b[A\n",
      "Validate (448 / 10 Steps):   0%|                                                                 | 0/11 [00:01<?, ?it/s]\u001b[A\n",
      "Validate (448 / 10 Steps):   9%|█████▏                                                   | 1/11 [00:01<00:11,  1.18s/it]\u001b[A\n",
      "Validate (448 / 10 Steps):   9%|█████▏                                                   | 1/11 [00:01<00:11,  1.18s/it]\u001b[A\n",
      "Validate (448 / 10 Steps):  18%|██████████▎                                              | 2/11 [00:01<00:06,  1.35it/s]\u001b[A\n",
      "Validate (448 / 10 Steps):  18%|██████████▎                                              | 2/11 [00:01<00:06,  1.35it/s]\u001b[A\n",
      "Validate (448 / 10 Steps):  27%|███████████████▌                                         | 3/11 [00:01<00:03,  2.10it/s]\u001b[A\n",
      "Validate (448 / 10 Steps):  27%|███████████████▌                                         | 3/11 [00:01<00:03,  2.10it/s]\u001b[A\n",
      "Validate (448 / 10 Steps):  27%|███████████████▌                                         | 3/11 [00:01<00:03,  2.10it/s]\u001b[A\n",
      "Validate (448 / 10 Steps):  45%|█████████████████████████▉                               | 5/11 [00:01<00:01,  4.03it/s]\u001b[A\n",
      "Validate (448 / 10 Steps):  45%|█████████████████████████▉                               | 5/11 [00:02<00:01,  4.03it/s]\u001b[A\n",
      "Validate (448 / 10 Steps):  55%|███████████████████████████████                          | 6/11 [00:02<00:01,  4.63it/s]\u001b[A\n",
      "Validate (448 / 10 Steps):  55%|███████████████████████████████                          | 6/11 [00:02<00:01,  4.63it/s]\u001b[A\n",
      "Validate (448 / 10 Steps):  55%|███████████████████████████████                          | 6/11 [00:02<00:01,  4.63it/s]\u001b[A\n",
      "Validate (448 / 10 Steps):  73%|█████████████████████████████████████████▍               | 8/11 [00:02<00:00,  4.94it/s]\u001b[A\n",
      "Validate (448 / 10 Steps):  73%|█████████████████████████████████████████▍               | 8/11 [00:02<00:00,  4.94it/s]\u001b[A\n",
      "Validate (448 / 10 Steps):  82%|██████████████████████████████████████████████▋          | 9/11 [00:02<00:00,  4.83it/s]\u001b[A\n",
      "Validate (448 / 10 Steps):  82%|██████████████████████████████████████████████▋          | 9/11 [00:02<00:00,  4.83it/s]\u001b[A\n",
      "Validate (448 / 10 Steps):  91%|██████████████████████████████████████████████████▉     | 10/11 [00:02<00:00,  4.83it/s]\u001b[A\n",
      "Validate (448 / 10 Steps):  91%|██████████████████████████████████████████████████▉     | 10/11 [00:03<00:00,  4.83it/s]\u001b[A\n",
      "Validate (448 / 10 Steps): 100%|████████████████████████████████████████████████████████| 11/11 [00:03<00:00,  3.54it/s]\u001b[A\n",
      "Training (450 / 2500 Steps) (loss=1.15246):  43%|█████████████████▌                       | 3/7 [00:05<00:08,  2.20s/it]"
     ]
    },
    {
     "name": "stdout",
     "output_type": "stream",
     "text": [
      "Model Was Saved ! Current Best Avg. Dice: 0.7547411322593689 Current Avg. Dice: 0.7547411322593689\n"
     ]
    },
    {
     "name": "stderr",
     "output_type": "stream",
     "text": [
      "Training (454 / 2500 Steps) (loss=1.15664): 100%|█████████████████████████████████████████| 7/7 [00:06<00:00,  1.02it/s]\n",
      "Training (461 / 2500 Steps) (loss=1.30373): 100%|█████████████████████████████████████████| 7/7 [00:02<00:00,  2.44it/s]\n",
      "Training (468 / 2500 Steps) (loss=1.19383): 100%|█████████████████████████████████████████| 7/7 [00:02<00:00,  2.43it/s]\n",
      "Training (475 / 2500 Steps) (loss=1.17894): 100%|█████████████████████████████████████████| 7/7 [00:02<00:00,  2.42it/s]\n",
      "Training (482 / 2500 Steps) (loss=1.11234): 100%|█████████████████████████████████████████| 7/7 [00:02<00:00,  2.45it/s]\n",
      "Training (489 / 2500 Steps) (loss=1.16521): 100%|█████████████████████████████████████████| 7/7 [00:02<00:00,  2.49it/s]\n",
      "Training (496 / 2500 Steps) (loss=1.21956): 100%|█████████████████████████████████████████| 7/7 [00:03<00:00,  2.20it/s]\n",
      "Training (500 / 2500 Steps) (loss=1.12003):  43%|█████████████████▌                       | 3/7 [00:02<00:02,  1.90it/s]\n",
      "Validate (X / X Steps) (dice=X.X):   0%|                                                         | 0/11 [00:00<?, ?it/s]\u001b[A\n",
      "Validate (497 / 10 Steps):   0%|                                                                 | 0/11 [00:01<?, ?it/s]\u001b[A\n",
      "Validate (497 / 10 Steps):   9%|█████▏                                                   | 1/11 [00:01<00:11,  1.14s/it]\u001b[A\n",
      "Validate (497 / 10 Steps):   9%|█████▏                                                   | 1/11 [00:01<00:11,  1.14s/it]\u001b[A\n",
      "Validate (497 / 10 Steps):  18%|██████████▎                                              | 2/11 [00:01<00:06,  1.36it/s]\u001b[A\n",
      "Validate (497 / 10 Steps):  18%|██████████▎                                              | 2/11 [00:01<00:06,  1.36it/s]\u001b[A\n",
      "Validate (497 / 10 Steps):  27%|███████████████▌                                         | 3/11 [00:01<00:03,  2.08it/s]\u001b[A\n",
      "Validate (497 / 10 Steps):  27%|███████████████▌                                         | 3/11 [00:01<00:03,  2.08it/s]\u001b[A\n",
      "Validate (497 / 10 Steps):  36%|████████████████████▋                                    | 4/11 [00:01<00:02,  3.02it/s]\u001b[A\n",
      "Validate (497 / 10 Steps):  36%|████████████████████▋                                    | 4/11 [00:01<00:02,  3.02it/s]\u001b[A\n",
      "Validate (497 / 10 Steps):  36%|████████████████████▋                                    | 4/11 [00:02<00:02,  3.02it/s]\u001b[A\n",
      "Validate (497 / 10 Steps):  55%|███████████████████████████████                          | 6/11 [00:02<00:00,  5.13it/s]\u001b[A\n",
      "Validate (497 / 10 Steps):  55%|███████████████████████████████                          | 6/11 [00:02<00:00,  5.13it/s]\u001b[A\n",
      "Validate (497 / 10 Steps):  55%|███████████████████████████████                          | 6/11 [00:02<00:00,  5.13it/s]\u001b[A\n",
      "Validate (497 / 10 Steps):  73%|█████████████████████████████████████████▍               | 8/11 [00:02<00:00,  5.50it/s]\u001b[A\n",
      "Validate (497 / 10 Steps):  73%|█████████████████████████████████████████▍               | 8/11 [00:02<00:00,  5.50it/s]\u001b[A\n",
      "Validate (497 / 10 Steps):  82%|██████████████████████████████████████████████▋          | 9/11 [00:02<00:00,  5.09it/s]\u001b[A\n",
      "Validate (497 / 10 Steps):  82%|██████████████████████████████████████████████▋          | 9/11 [00:02<00:00,  5.09it/s]\u001b[A\n",
      "Validate (497 / 10 Steps):  91%|██████████████████████████████████████████████████▉     | 10/11 [00:02<00:00,  5.07it/s]\u001b[A\n",
      "Validate (497 / 10 Steps):  91%|██████████████████████████████████████████████████▉     | 10/11 [00:03<00:00,  5.07it/s]\u001b[A\n",
      "Validate (497 / 10 Steps): 100%|████████████████████████████████████████████████████████| 11/11 [00:03<00:00,  3.59it/s]\u001b[A\n",
      "Training (500 / 2500 Steps) (loss=1.12003):  57%|███████████████████████▍                 | 4/7 [00:05<00:04,  1.64s/it]"
     ]
    },
    {
     "name": "stdout",
     "output_type": "stream",
     "text": [
      "Model Was Not Saved ! Current Best Avg. Dice: 0.7547411322593689 Current Avg. Dice: 0.7365829944610596\n"
     ]
    },
    {
     "name": "stderr",
     "output_type": "stream",
     "text": [
      "Training (503 / 2500 Steps) (loss=1.36721): 100%|█████████████████████████████████████████| 7/7 [00:06<00:00,  1.15it/s]\n",
      "Training (510 / 2500 Steps) (loss=1.07417): 100%|█████████████████████████████████████████| 7/7 [00:02<00:00,  2.40it/s]\n",
      "Training (517 / 2500 Steps) (loss=1.13355): 100%|█████████████████████████████████████████| 7/7 [00:03<00:00,  2.33it/s]\n",
      "Training (524 / 2500 Steps) (loss=0.97233): 100%|█████████████████████████████████████████| 7/7 [00:02<00:00,  2.42it/s]\n",
      "Training (531 / 2500 Steps) (loss=1.31215): 100%|█████████████████████████████████████████| 7/7 [00:02<00:00,  2.43it/s]\n",
      "Training (538 / 2500 Steps) (loss=1.10612): 100%|█████████████████████████████████████████| 7/7 [00:03<00:00,  1.82it/s]\n",
      "Training (545 / 2500 Steps) (loss=1.05509): 100%|█████████████████████████████████████████| 7/7 [00:02<00:00,  2.50it/s]\n",
      "Training (550 / 2500 Steps) (loss=1.12501):  57%|███████████████████████▍                 | 4/7 [00:02<00:01,  2.32it/s]\n",
      "Validate (X / X Steps) (dice=X.X):   0%|                                                         | 0/11 [00:00<?, ?it/s]\u001b[A\n",
      "Validate (546 / 10 Steps):   0%|                                                                 | 0/11 [00:01<?, ?it/s]\u001b[A\n",
      "Validate (546 / 10 Steps):   9%|█████▏                                                   | 1/11 [00:01<00:11,  1.14s/it]\u001b[A\n",
      "Validate (546 / 10 Steps):   9%|█████▏                                                   | 1/11 [00:01<00:11,  1.14s/it]\u001b[A\n",
      "Validate (546 / 10 Steps):  18%|██████████▎                                              | 2/11 [00:01<00:06,  1.42it/s]\u001b[A\n",
      "Validate (546 / 10 Steps):  18%|██████████▎                                              | 2/11 [00:01<00:06,  1.42it/s]\u001b[A\n",
      "Validate (546 / 10 Steps):  27%|███████████████▌                                         | 3/11 [00:01<00:03,  2.29it/s]\u001b[A\n",
      "Validate (546 / 10 Steps):  27%|███████████████▌                                         | 3/11 [00:01<00:03,  2.29it/s]\u001b[A\n",
      "Validate (546 / 10 Steps):  36%|████████████████████▋                                    | 4/11 [00:01<00:02,  3.22it/s]\u001b[A\n",
      "Validate (546 / 10 Steps):  36%|████████████████████▋                                    | 4/11 [00:01<00:02,  3.22it/s]\u001b[A\n",
      "Validate (546 / 10 Steps):  36%|████████████████████▋                                    | 4/11 [00:01<00:02,  3.22it/s]\u001b[A\n",
      "Validate (546 / 10 Steps):  55%|███████████████████████████████                          | 6/11 [00:01<00:00,  5.43it/s]\u001b[A\n",
      "Validate (546 / 10 Steps):  55%|███████████████████████████████                          | 6/11 [00:01<00:00,  5.43it/s]\u001b[A\n",
      "Validate (546 / 10 Steps):  55%|███████████████████████████████                          | 6/11 [00:02<00:00,  5.43it/s]\u001b[A\n",
      "Validate (546 / 10 Steps):  73%|█████████████████████████████████████████▍               | 8/11 [00:02<00:00,  5.62it/s]\u001b[A\n",
      "Validate (546 / 10 Steps):  73%|█████████████████████████████████████████▍               | 8/11 [00:02<00:00,  5.62it/s]\u001b[A\n",
      "Validate (546 / 10 Steps):  82%|██████████████████████████████████████████████▋          | 9/11 [00:02<00:00,  5.45it/s]\u001b[A\n",
      "Validate (546 / 10 Steps):  82%|██████████████████████████████████████████████▋          | 9/11 [00:02<00:00,  5.45it/s]\u001b[A\n",
      "Validate (546 / 10 Steps):  91%|██████████████████████████████████████████████████▉     | 10/11 [00:02<00:00,  5.10it/s]\u001b[A\n",
      "Validate (546 / 10 Steps):  91%|██████████████████████████████████████████████████▉     | 10/11 [00:02<00:00,  5.10it/s]\u001b[A\n",
      "Validate (546 / 10 Steps): 100%|████████████████████████████████████████████████████████| 11/11 [00:02<00:00,  3.73it/s]\u001b[A\n",
      "Training (550 / 2500 Steps) (loss=1.12501):  71%|█████████████████████████████▎           | 5/7 [00:05<00:02,  1.44s/it]"
     ]
    },
    {
     "name": "stdout",
     "output_type": "stream",
     "text": [
      "Model Was Not Saved ! Current Best Avg. Dice: 0.7547411322593689 Current Avg. Dice: 0.7183509469032288\n"
     ]
    },
    {
     "name": "stderr",
     "output_type": "stream",
     "text": [
      "Training (552 / 2500 Steps) (loss=1.04228): 100%|█████████████████████████████████████████| 7/7 [00:05<00:00,  1.20it/s]\n",
      "Training (559 / 2500 Steps) (loss=1.22525): 100%|█████████████████████████████████████████| 7/7 [00:03<00:00,  2.31it/s]\n",
      "Training (566 / 2500 Steps) (loss=1.18008): 100%|█████████████████████████████████████████| 7/7 [00:03<00:00,  2.31it/s]\n",
      "Training (573 / 2500 Steps) (loss=1.14315): 100%|█████████████████████████████████████████| 7/7 [00:02<00:00,  2.41it/s]\n",
      "Training (580 / 2500 Steps) (loss=1.11166): 100%|█████████████████████████████████████████| 7/7 [00:03<00:00,  1.94it/s]\n",
      "Training (587 / 2500 Steps) (loss=1.43650): 100%|█████████████████████████████████████████| 7/7 [00:03<00:00,  2.30it/s]\n",
      "Training (594 / 2500 Steps) (loss=1.05568): 100%|█████████████████████████████████████████| 7/7 [00:02<00:00,  2.40it/s]\n",
      "Training (600 / 2500 Steps) (loss=1.11527):  71%|█████████████████████████████▎           | 5/7 [00:02<00:00,  2.63it/s]\n",
      "Validate (X / X Steps) (dice=X.X):   0%|                                                         | 0/11 [00:00<?, ?it/s]\u001b[A\n",
      "Validate (595 / 10 Steps):   0%|                                                                 | 0/11 [00:01<?, ?it/s]\u001b[A\n",
      "Validate (595 / 10 Steps):   9%|█████▏                                                   | 1/11 [00:01<00:10,  1.05s/it]\u001b[A\n",
      "Validate (595 / 10 Steps):   9%|█████▏                                                   | 1/11 [00:01<00:10,  1.05s/it]\u001b[A\n",
      "Validate (595 / 10 Steps):  18%|██████████▎                                              | 2/11 [00:01<00:06,  1.37it/s]\u001b[A\n",
      "Validate (595 / 10 Steps):  18%|██████████▎                                              | 2/11 [00:01<00:06,  1.37it/s]\u001b[A\n",
      "Validate (595 / 10 Steps):  27%|███████████████▌                                         | 3/11 [00:01<00:03,  2.14it/s]\u001b[A\n",
      "Validate (595 / 10 Steps):  27%|███████████████▌                                         | 3/11 [00:01<00:03,  2.14it/s]\u001b[A\n",
      "Validate (595 / 10 Steps):  27%|███████████████▌                                         | 3/11 [00:01<00:03,  2.14it/s]\u001b[A\n",
      "Validate (595 / 10 Steps):  45%|█████████████████████████▉                               | 5/11 [00:01<00:01,  4.10it/s]\u001b[A\n",
      "Validate (595 / 10 Steps):  45%|█████████████████████████▉                               | 5/11 [00:01<00:01,  4.10it/s]\u001b[A\n",
      "Validate (595 / 10 Steps):  45%|█████████████████████████▉                               | 5/11 [00:02<00:01,  4.10it/s]\u001b[A\n",
      "Validate (595 / 10 Steps):  64%|████████████████████████████████████▎                    | 7/11 [00:02<00:00,  5.97it/s]\u001b[A\n",
      "Validate (595 / 10 Steps):  64%|████████████████████████████████████▎                    | 7/11 [00:02<00:00,  5.97it/s]\u001b[A\n",
      "Validate (595 / 10 Steps):  73%|█████████████████████████████████████████▍               | 8/11 [00:02<00:00,  5.22it/s]\u001b[A\n",
      "Validate (595 / 10 Steps):  73%|█████████████████████████████████████████▍               | 8/11 [00:02<00:00,  5.22it/s]\u001b[A\n",
      "Validate (595 / 10 Steps):  82%|██████████████████████████████████████████████▋          | 9/11 [00:02<00:00,  4.89it/s]\u001b[A\n",
      "Validate (595 / 10 Steps):  82%|██████████████████████████████████████████████▋          | 9/11 [00:02<00:00,  4.89it/s]\u001b[A\n",
      "Validate (595 / 10 Steps):  91%|██████████████████████████████████████████████████▉     | 10/11 [00:02<00:00,  4.97it/s]\u001b[A\n",
      "Validate (595 / 10 Steps):  91%|██████████████████████████████████████████████████▉     | 10/11 [00:02<00:00,  4.97it/s]\u001b[A\n",
      "Validate (595 / 10 Steps): 100%|████████████████████████████████████████████████████████| 11/11 [00:02<00:00,  3.73it/s]\u001b[A\n",
      "Training (601 / 2500 Steps) (loss=1.21154): 100%|█████████████████████████████████████████| 7/7 [00:06<00:00,  1.05s/it]"
     ]
    },
    {
     "name": "stdout",
     "output_type": "stream",
     "text": [
      "Model Was Saved ! Current Best Avg. Dice: 0.7635969519615173 Current Avg. Dice: 0.7635969519615173\n"
     ]
    },
    {
     "name": "stderr",
     "output_type": "stream",
     "text": [
      "Training (601 / 2500 Steps) (loss=1.21154): 100%|█████████████████████████████████████████| 7/7 [00:06<00:00,  1.10it/s]\n",
      "Training (608 / 2500 Steps) (loss=1.05363): 100%|█████████████████████████████████████████| 7/7 [00:02<00:00,  2.40it/s]\n",
      "Training (615 / 2500 Steps) (loss=1.02129): 100%|█████████████████████████████████████████| 7/7 [00:02<00:00,  2.43it/s]\n",
      "Training (622 / 2500 Steps) (loss=1.04951): 100%|█████████████████████████████████████████| 7/7 [00:03<00:00,  2.23it/s]\n",
      "Training (629 / 2500 Steps) (loss=1.17470): 100%|█████████████████████████████████████████| 7/7 [00:02<00:00,  2.46it/s]\n",
      "Training (636 / 2500 Steps) (loss=0.95367): 100%|█████████████████████████████████████████| 7/7 [00:02<00:00,  2.46it/s]\n",
      "Training (643 / 2500 Steps) (loss=0.91748): 100%|█████████████████████████████████████████| 7/7 [00:02<00:00,  2.38it/s]\n",
      "Training (650 / 2500 Steps) (loss=1.02797):  86%|███████████████████████████████████▏     | 6/7 [00:02<00:00,  2.95it/s]\n",
      "Validate (X / X Steps) (dice=X.X):   0%|                                                         | 0/11 [00:00<?, ?it/s]\u001b[A\n",
      "Validate (644 / 10 Steps):   0%|                                                                 | 0/11 [00:01<?, ?it/s]\u001b[A\n",
      "Validate (644 / 10 Steps):   9%|█████▏                                                   | 1/11 [00:01<00:12,  1.25s/it]\u001b[A\n",
      "Validate (644 / 10 Steps):   9%|█████▏                                                   | 1/11 [00:01<00:12,  1.25s/it]\u001b[A\n",
      "Validate (644 / 10 Steps):  18%|██████████▎                                              | 2/11 [00:01<00:06,  1.42it/s]\u001b[A\n",
      "Validate (644 / 10 Steps):  18%|██████████▎                                              | 2/11 [00:01<00:06,  1.42it/s]\u001b[A\n",
      "Validate (644 / 10 Steps):  27%|███████████████▌                                         | 3/11 [00:01<00:03,  2.21it/s]\u001b[A\n",
      "Validate (644 / 10 Steps):  27%|███████████████▌                                         | 3/11 [00:01<00:03,  2.21it/s]\u001b[A\n",
      "Validate (644 / 10 Steps):  27%|███████████████▌                                         | 3/11 [00:01<00:03,  2.21it/s]\u001b[A\n",
      "Validate (644 / 10 Steps):  45%|█████████████████████████▉                               | 5/11 [00:01<00:01,  4.20it/s]\u001b[A\n",
      "Validate (644 / 10 Steps):  45%|█████████████████████████▉                               | 5/11 [00:01<00:01,  4.20it/s]\u001b[A\n",
      "Validate (644 / 10 Steps):  45%|█████████████████████████▉                               | 5/11 [00:02<00:01,  4.20it/s]\u001b[A\n",
      "Validate (644 / 10 Steps):  64%|████████████████████████████████████▎                    | 7/11 [00:02<00:00,  6.02it/s]\u001b[A\n",
      "Validate (644 / 10 Steps):  64%|████████████████████████████████████▎                    | 7/11 [00:02<00:00,  6.02it/s]\u001b[A\n",
      "Validate (644 / 10 Steps):  73%|█████████████████████████████████████████▍               | 8/11 [00:02<00:00,  4.99it/s]\u001b[A\n",
      "Validate (644 / 10 Steps):  73%|█████████████████████████████████████████▍               | 8/11 [00:02<00:00,  4.99it/s]\u001b[A\n",
      "Validate (644 / 10 Steps):  82%|██████████████████████████████████████████████▋          | 9/11 [00:02<00:00,  5.00it/s]\u001b[A\n",
      "Validate (644 / 10 Steps):  82%|██████████████████████████████████████████████▋          | 9/11 [00:02<00:00,  5.00it/s]\u001b[A\n",
      "Validate (644 / 10 Steps):  91%|██████████████████████████████████████████████████▉     | 10/11 [00:02<00:00,  4.69it/s]\u001b[A\n",
      "Validate (644 / 10 Steps):  91%|██████████████████████████████████████████████████▉     | 10/11 [00:02<00:00,  4.69it/s]\u001b[A\n",
      "Validate (644 / 10 Steps): 100%|████████████████████████████████████████████████████████| 11/11 [00:03<00:00,  3.64it/s]\u001b[A\n",
      "Training (650 / 2500 Steps) (loss=1.02797): 100%|█████████████████████████████████████████| 7/7 [00:05<00:00,  1.20it/s]\n"
     ]
    },
    {
     "name": "stdout",
     "output_type": "stream",
     "text": [
      "Model Was Not Saved ! Current Best Avg. Dice: 0.7635969519615173 Current Avg. Dice: 0.745389997959137\n"
     ]
    },
    {
     "name": "stderr",
     "output_type": "stream",
     "text": [
      "Training (657 / 2500 Steps) (loss=1.02644): 100%|█████████████████████████████████████████| 7/7 [00:02<00:00,  2.47it/s]\n",
      "Training (664 / 2500 Steps) (loss=1.10027): 100%|█████████████████████████████████████████| 7/7 [00:03<00:00,  2.13it/s]\n",
      "Training (671 / 2500 Steps) (loss=0.98069): 100%|█████████████████████████████████████████| 7/7 [00:02<00:00,  2.45it/s]\n",
      "Training (678 / 2500 Steps) (loss=1.04075): 100%|█████████████████████████████████████████| 7/7 [00:02<00:00,  2.45it/s]\n",
      "Training (685 / 2500 Steps) (loss=1.03962): 100%|█████████████████████████████████████████| 7/7 [00:02<00:00,  2.40it/s]\n",
      "Training (692 / 2500 Steps) (loss=0.98130): 100%|█████████████████████████████████████████| 7/7 [00:02<00:00,  2.34it/s]\n",
      "Training (699 / 2500 Steps) (loss=1.02671): 100%|█████████████████████████████████████████| 7/7 [00:03<00:00,  2.16it/s]\n",
      "Training (700 / 2500 Steps) (loss=0.96920):   0%|                                                 | 0/7 [00:01<?, ?it/s]\n",
      "Validate (X / X Steps) (dice=X.X):   0%|                                                         | 0/11 [00:00<?, ?it/s]\u001b[A\n",
      "Validate (700 / 10 Steps):   0%|                                                                 | 0/11 [00:02<?, ?it/s]\u001b[A\n",
      "Validate (700 / 10 Steps):   9%|█████▏                                                   | 1/11 [00:02<00:20,  2.03s/it]\u001b[A\n",
      "Validate (700 / 10 Steps):   9%|█████▏                                                   | 1/11 [00:02<00:20,  2.03s/it]\u001b[A\n",
      "Validate (700 / 10 Steps):  18%|██████████▎                                              | 2/11 [00:02<00:09,  1.11s/it]\u001b[A\n",
      "Validate (700 / 10 Steps):  18%|██████████▎                                              | 2/11 [00:02<00:09,  1.11s/it]\u001b[A\n",
      "Validate (700 / 10 Steps):  27%|███████████████▌                                         | 3/11 [00:02<00:05,  1.41it/s]\u001b[A\n",
      "Validate (700 / 10 Steps):  27%|███████████████▌                                         | 3/11 [00:02<00:05,  1.41it/s]\u001b[A\n",
      "Validate (700 / 10 Steps):  27%|███████████████▌                                         | 3/11 [00:02<00:05,  1.41it/s]\u001b[A\n",
      "Validate (700 / 10 Steps):  45%|█████████████████████████▉                               | 5/11 [00:02<00:02,  2.76it/s]\u001b[A\n",
      "Validate (700 / 10 Steps):  45%|█████████████████████████▉                               | 5/11 [00:03<00:02,  2.76it/s]\u001b[A\n",
      "Validate (700 / 10 Steps):  45%|█████████████████████████▉                               | 5/11 [00:03<00:02,  2.76it/s]\u001b[A\n",
      "Validate (700 / 10 Steps):  64%|████████████████████████████████████▎                    | 7/11 [00:03<00:00,  4.10it/s]\u001b[A\n",
      "Validate (700 / 10 Steps):  64%|████████████████████████████████████▎                    | 7/11 [00:03<00:00,  4.10it/s]\u001b[A\n",
      "Validate (700 / 10 Steps):  73%|█████████████████████████████████████████▍               | 8/11 [00:03<00:00,  3.94it/s]\u001b[A\n",
      "Validate (700 / 10 Steps):  73%|█████████████████████████████████████████▍               | 8/11 [00:03<00:00,  3.94it/s]\u001b[A\n",
      "Validate (700 / 10 Steps):  82%|██████████████████████████████████████████████▋          | 9/11 [00:03<00:00,  3.87it/s]\u001b[A\n",
      "Validate (700 / 10 Steps):  82%|██████████████████████████████████████████████▋          | 9/11 [00:03<00:00,  3.87it/s]\u001b[A\n",
      "Validate (700 / 10 Steps):  91%|██████████████████████████████████████████████████▉     | 10/11 [00:03<00:00,  4.15it/s]\u001b[A\n",
      "Validate (700 / 10 Steps):  91%|██████████████████████████████████████████████████▉     | 10/11 [00:04<00:00,  4.15it/s]\u001b[A\n",
      "Validate (700 / 10 Steps): 100%|████████████████████████████████████████████████████████| 11/11 [00:04<00:00,  2.60it/s]\u001b[A\n",
      "Training (700 / 2500 Steps) (loss=0.96920):  14%|█████▊                                   | 1/7 [00:05<00:33,  5.64s/it]"
     ]
    },
    {
     "name": "stdout",
     "output_type": "stream",
     "text": [
      "Model Was Not Saved ! Current Best Avg. Dice: 0.7635969519615173 Current Avg. Dice: 0.7595840692520142\n"
     ]
    },
    {
     "name": "stderr",
     "output_type": "stream",
     "text": [
      "Training (706 / 2500 Steps) (loss=1.23460): 100%|█████████████████████████████████████████| 7/7 [00:07<00:00,  1.05s/it]\n",
      "Training (713 / 2500 Steps) (loss=1.03843): 100%|█████████████████████████████████████████| 7/7 [00:03<00:00,  2.23it/s]\n",
      "Training (720 / 2500 Steps) (loss=1.05611): 100%|█████████████████████████████████████████| 7/7 [00:02<00:00,  2.34it/s]\n",
      "Training (727 / 2500 Steps) (loss=0.86063): 100%|█████████████████████████████████████████| 7/7 [00:02<00:00,  2.40it/s]\n",
      "Training (734 / 2500 Steps) (loss=1.00974): 100%|█████████████████████████████████████████| 7/7 [00:03<00:00,  2.05it/s]\n",
      "Training (741 / 2500 Steps) (loss=1.06567): 100%|█████████████████████████████████████████| 7/7 [00:03<00:00,  2.28it/s]\n",
      "Training (748 / 2500 Steps) (loss=0.99252): 100%|█████████████████████████████████████████| 7/7 [00:03<00:00,  2.22it/s]\n",
      "Training (750 / 2500 Steps) (loss=1.00870):  14%|█████▊                                   | 1/7 [00:02<00:09,  1.63s/it]\n",
      "Validate (X / X Steps) (dice=X.X):   0%|                                                         | 0/11 [00:00<?, ?it/s]\u001b[A\n",
      "Validate (749 / 10 Steps):   0%|                                                                 | 0/11 [00:01<?, ?it/s]\u001b[A\n",
      "Validate (749 / 10 Steps):   9%|█████▏                                                   | 1/11 [00:01<00:13,  1.37s/it]\u001b[A\n",
      "Validate (749 / 10 Steps):   9%|█████▏                                                   | 1/11 [00:01<00:13,  1.37s/it]\u001b[A\n",
      "Validate (749 / 10 Steps):  18%|██████████▎                                              | 2/11 [00:01<00:07,  1.14it/s]\u001b[A\n",
      "Validate (749 / 10 Steps):  18%|██████████▎                                              | 2/11 [00:02<00:07,  1.14it/s]\u001b[A\n",
      "Validate (749 / 10 Steps):  27%|███████████████▌                                         | 3/11 [00:02<00:04,  1.74it/s]\u001b[A\n",
      "Validate (749 / 10 Steps):  27%|███████████████▌                                         | 3/11 [00:02<00:04,  1.74it/s]\u001b[A\n",
      "Validate (749 / 10 Steps):  36%|████████████████████▋                                    | 4/11 [00:02<00:02,  2.54it/s]\u001b[A\n",
      "Validate (749 / 10 Steps):  36%|████████████████████▋                                    | 4/11 [00:02<00:02,  2.54it/s]\u001b[A\n",
      "Validate (749 / 10 Steps):  36%|████████████████████▋                                    | 4/11 [00:02<00:02,  2.54it/s]\u001b[A\n",
      "Validate (749 / 10 Steps):  55%|███████████████████████████████                          | 6/11 [00:02<00:01,  4.17it/s]\u001b[A\n",
      "Validate (749 / 10 Steps):  55%|███████████████████████████████                          | 6/11 [00:02<00:01,  4.17it/s]\u001b[A\n",
      "Validate (749 / 10 Steps):  55%|███████████████████████████████                          | 6/11 [00:02<00:01,  4.17it/s]\u001b[A\n",
      "Validate (749 / 10 Steps):  73%|█████████████████████████████████████████▍               | 8/11 [00:02<00:00,  4.48it/s]\u001b[A\n",
      "Validate (749 / 10 Steps):  73%|█████████████████████████████████████████▍               | 8/11 [00:03<00:00,  4.48it/s]\u001b[A\n",
      "Validate (749 / 10 Steps):  82%|██████████████████████████████████████████████▋          | 9/11 [00:03<00:00,  4.50it/s]\u001b[A\n",
      "Validate (749 / 10 Steps):  82%|██████████████████████████████████████████████▋          | 9/11 [00:03<00:00,  4.50it/s]\u001b[A\n",
      "Validate (749 / 10 Steps):  91%|██████████████████████████████████████████████████▉     | 10/11 [00:03<00:00,  4.61it/s]\u001b[A\n",
      "Validate (749 / 10 Steps):  91%|██████████████████████████████████████████████████▉     | 10/11 [00:03<00:00,  4.61it/s]\u001b[A\n",
      "Validate (749 / 10 Steps): 100%|████████████████████████████████████████████████████████| 11/11 [00:03<00:00,  3.13it/s]\u001b[A\n",
      "Training (750 / 2500 Steps) (loss=1.00870):  29%|███████████▋                             | 2/7 [00:05<00:14,  2.97s/it]"
     ]
    },
    {
     "name": "stdout",
     "output_type": "stream",
     "text": [
      "Model Was Not Saved ! Current Best Avg. Dice: 0.7635969519615173 Current Avg. Dice: 0.7553053498268127\n"
     ]
    },
    {
     "name": "stderr",
     "output_type": "stream",
     "text": [
      "Training (755 / 2500 Steps) (loss=0.92974): 100%|█████████████████████████████████████████| 7/7 [00:06<00:00,  1.00it/s]\n",
      "Training (762 / 2500 Steps) (loss=1.03965): 100%|█████████████████████████████████████████| 7/7 [00:03<00:00,  2.23it/s]\n",
      "Training (769 / 2500 Steps) (loss=0.96151): 100%|█████████████████████████████████████████| 7/7 [00:03<00:00,  2.28it/s]\n",
      "Training (776 / 2500 Steps) (loss=0.93926): 100%|█████████████████████████████████████████| 7/7 [00:03<00:00,  1.97it/s]\n",
      "Training (783 / 2500 Steps) (loss=0.88919): 100%|█████████████████████████████████████████| 7/7 [00:03<00:00,  2.06it/s]\n",
      "Training (790 / 2500 Steps) (loss=0.98221): 100%|█████████████████████████████████████████| 7/7 [00:03<00:00,  2.30it/s]\n",
      "Training (797 / 2500 Steps) (loss=1.00840): 100%|█████████████████████████████████████████| 7/7 [00:03<00:00,  2.16it/s]\n",
      "Training (800 / 2500 Steps) (loss=1.09695):  29%|███████████▋                             | 2/7 [00:01<00:03,  1.46it/s]\n",
      "Validate (X / X Steps) (dice=X.X):   0%|                                                         | 0/11 [00:00<?, ?it/s]\u001b[A\n",
      "Validate (798 / 10 Steps):   0%|                                                                 | 0/11 [00:01<?, ?it/s]\u001b[A\n",
      "Validate (798 / 10 Steps):   9%|█████▏                                                   | 1/11 [00:01<00:11,  1.10s/it]\u001b[A\n",
      "Validate (798 / 10 Steps):   9%|█████▏                                                   | 1/11 [00:01<00:11,  1.10s/it]\u001b[A\n",
      "Validate (798 / 10 Steps):  18%|██████████▎                                              | 2/11 [00:01<00:06,  1.43it/s]\u001b[A\n",
      "Validate (798 / 10 Steps):  18%|██████████▎                                              | 2/11 [00:01<00:06,  1.43it/s]\u001b[A\n",
      "Validate (798 / 10 Steps):  27%|███████████████▌                                         | 3/11 [00:01<00:03,  2.21it/s]\u001b[A\n",
      "Validate (798 / 10 Steps):  27%|███████████████▌                                         | 3/11 [00:01<00:03,  2.21it/s]\u001b[A\n",
      "Validate (798 / 10 Steps):  27%|███████████████▌                                         | 3/11 [00:01<00:03,  2.21it/s]\u001b[A\n",
      "Validate (798 / 10 Steps):  45%|█████████████████████████▉                               | 5/11 [00:01<00:01,  4.16it/s]\u001b[A\n",
      "Validate (798 / 10 Steps):  45%|█████████████████████████▉                               | 5/11 [00:01<00:01,  4.16it/s]\u001b[A\n",
      "Validate (798 / 10 Steps):  45%|█████████████████████████▉                               | 5/11 [00:01<00:01,  4.16it/s]\u001b[A\n",
      "Validate (798 / 10 Steps):  64%|████████████████████████████████████▎                    | 7/11 [00:01<00:00,  6.00it/s]\u001b[A\n",
      "Validate (798 / 10 Steps):  64%|████████████████████████████████████▎                    | 7/11 [00:02<00:00,  6.00it/s]\u001b[A\n",
      "Validate (798 / 10 Steps):  73%|█████████████████████████████████████████▍               | 8/11 [00:02<00:00,  5.00it/s]\u001b[A\n",
      "Validate (798 / 10 Steps):  73%|█████████████████████████████████████████▍               | 8/11 [00:02<00:00,  5.00it/s]\u001b[A\n",
      "Validate (798 / 10 Steps):  82%|██████████████████████████████████████████████▋          | 9/11 [00:02<00:00,  4.91it/s]\u001b[A\n",
      "Validate (798 / 10 Steps):  82%|██████████████████████████████████████████████▋          | 9/11 [00:02<00:00,  4.91it/s]\u001b[A\n",
      "Validate (798 / 10 Steps):  91%|██████████████████████████████████████████████████▉     | 10/11 [00:02<00:00,  4.66it/s]\u001b[A\n",
      "Validate (798 / 10 Steps):  91%|██████████████████████████████████████████████████▉     | 10/11 [00:02<00:00,  4.66it/s]\u001b[A\n",
      "Validate (798 / 10 Steps): 100%|████████████████████████████████████████████████████████| 11/11 [00:03<00:00,  3.61it/s]\u001b[A\n",
      "Training (800 / 2500 Steps) (loss=1.09695):  43%|█████████████████▌                       | 3/7 [00:04<00:07,  1.89s/it]"
     ]
    },
    {
     "name": "stdout",
     "output_type": "stream",
     "text": [
      "Model Was Not Saved ! Current Best Avg. Dice: 0.7635969519615173 Current Avg. Dice: 0.7400916814804077\n"
     ]
    },
    {
     "name": "stderr",
     "output_type": "stream",
     "text": [
      "Training (804 / 2500 Steps) (loss=1.00729): 100%|█████████████████████████████████████████| 7/7 [00:05<00:00,  1.18it/s]\n",
      "Training (811 / 2500 Steps) (loss=1.08193): 100%|█████████████████████████████████████████| 7/7 [00:03<00:00,  2.29it/s]\n",
      "Training (818 / 2500 Steps) (loss=0.87616): 100%|█████████████████████████████████████████| 7/7 [00:02<00:00,  2.35it/s]\n",
      "Training (825 / 2500 Steps) (loss=1.18210): 100%|█████████████████████████████████████████| 7/7 [00:02<00:00,  2.36it/s]\n",
      "Training (832 / 2500 Steps) (loss=0.98791): 100%|█████████████████████████████████████████| 7/7 [00:02<00:00,  2.42it/s]\n",
      "Training (839 / 2500 Steps) (loss=0.85301): 100%|█████████████████████████████████████████| 7/7 [00:03<00:00,  2.22it/s]\n",
      "Training (846 / 2500 Steps) (loss=0.79800): 100%|█████████████████████████████████████████| 7/7 [00:02<00:00,  2.47it/s]\n",
      "Training (850 / 2500 Steps) (loss=1.02016):  43%|█████████████████▌                       | 3/7 [00:02<00:02,  1.88it/s]\n",
      "Validate (X / X Steps) (dice=X.X):   0%|                                                         | 0/11 [00:00<?, ?it/s]\u001b[A\n",
      "Validate (847 / 10 Steps):   0%|                                                                 | 0/11 [00:01<?, ?it/s]\u001b[A\n",
      "Validate (847 / 10 Steps):   9%|█████▏                                                   | 1/11 [00:01<00:12,  1.27s/it]\u001b[A\n",
      "Validate (847 / 10 Steps):   9%|█████▏                                                   | 1/11 [00:01<00:12,  1.27s/it]\u001b[A\n",
      "Validate (847 / 10 Steps):  18%|██████████▎                                              | 2/11 [00:01<00:06,  1.39it/s]\u001b[A\n",
      "Validate (847 / 10 Steps):  18%|██████████▎                                              | 2/11 [00:01<00:06,  1.39it/s]\u001b[A\n",
      "Validate (847 / 10 Steps):  27%|███████████████▌                                         | 3/11 [00:01<00:03,  2.16it/s]\u001b[A\n",
      "Validate (847 / 10 Steps):  27%|███████████████▌                                         | 3/11 [00:01<00:03,  2.16it/s]\u001b[A\n",
      "Validate (847 / 10 Steps):  27%|███████████████▌                                         | 3/11 [00:01<00:03,  2.16it/s]\u001b[A\n",
      "Validate (847 / 10 Steps):  45%|█████████████████████████▉                               | 5/11 [00:01<00:01,  4.15it/s]\u001b[A\n",
      "Validate (847 / 10 Steps):  45%|█████████████████████████▉                               | 5/11 [00:01<00:01,  4.15it/s]\u001b[A\n",
      "Validate (847 / 10 Steps):  45%|█████████████████████████▉                               | 5/11 [00:02<00:01,  4.15it/s]\u001b[A\n",
      "Validate (847 / 10 Steps):  64%|████████████████████████████████████▎                    | 7/11 [00:02<00:00,  5.92it/s]\u001b[A\n",
      "Validate (847 / 10 Steps):  64%|████████████████████████████████████▎                    | 7/11 [00:02<00:00,  5.92it/s]\u001b[A\n",
      "Validate (847 / 10 Steps):  73%|█████████████████████████████████████████▍               | 8/11 [00:02<00:00,  4.97it/s]\u001b[A\n",
      "Validate (847 / 10 Steps):  73%|█████████████████████████████████████████▍               | 8/11 [00:02<00:00,  4.97it/s]\u001b[A\n",
      "Validate (847 / 10 Steps):  82%|██████████████████████████████████████████████▋          | 9/11 [00:02<00:00,  4.84it/s]\u001b[A\n",
      "Validate (847 / 10 Steps):  82%|██████████████████████████████████████████████▋          | 9/11 [00:02<00:00,  4.84it/s]\u001b[A\n",
      "Validate (847 / 10 Steps):  91%|██████████████████████████████████████████████████▉     | 10/11 [00:02<00:00,  4.91it/s]\u001b[A\n",
      "Validate (847 / 10 Steps):  91%|██████████████████████████████████████████████████▉     | 10/11 [00:02<00:00,  4.91it/s]\u001b[A\n",
      "Validate (847 / 10 Steps): 100%|████████████████████████████████████████████████████████| 11/11 [00:03<00:00,  3.61it/s]\u001b[A\n",
      "Training (850 / 2500 Steps) (loss=1.02016):  57%|███████████████████████▍                 | 4/7 [00:05<00:05,  1.79s/it]"
     ]
    },
    {
     "name": "stdout",
     "output_type": "stream",
     "text": [
      "Model Was Saved ! Current Best Avg. Dice: 0.7832887768745422 Current Avg. Dice: 0.7832887768745422\n"
     ]
    },
    {
     "name": "stderr",
     "output_type": "stream",
     "text": [
      "Training (853 / 2500 Steps) (loss=1.15934): 100%|█████████████████████████████████████████| 7/7 [00:06<00:00,  1.08it/s]\n",
      "Training (860 / 2500 Steps) (loss=0.98507): 100%|█████████████████████████████████████████| 7/7 [00:02<00:00,  2.35it/s]\n",
      "Training (867 / 2500 Steps) (loss=0.82579): 100%|█████████████████████████████████████████| 7/7 [00:02<00:00,  2.46it/s]\n",
      "Training (874 / 2500 Steps) (loss=0.89812): 100%|█████████████████████████████████████████| 7/7 [00:02<00:00,  2.41it/s]\n",
      "Training (881 / 2500 Steps) (loss=0.97944): 100%|█████████████████████████████████████████| 7/7 [00:03<00:00,  2.20it/s]\n",
      "Training (888 / 2500 Steps) (loss=1.08192): 100%|█████████████████████████████████████████| 7/7 [00:03<00:00,  2.29it/s]\n",
      "Training (895 / 2500 Steps) (loss=1.38529): 100%|█████████████████████████████████████████| 7/7 [00:03<00:00,  2.28it/s]\n",
      "Training (900 / 2500 Steps) (loss=0.89302):  57%|███████████████████████▍                 | 4/7 [00:02<00:01,  2.35it/s]\n",
      "Validate (X / X Steps) (dice=X.X):   0%|                                                         | 0/11 [00:00<?, ?it/s]\u001b[A\n",
      "Validate (896 / 10 Steps):   0%|                                                                 | 0/11 [00:01<?, ?it/s]\u001b[A\n",
      "Validate (896 / 10 Steps):   9%|█████▏                                                   | 1/11 [00:01<00:12,  1.30s/it]\u001b[A\n",
      "Validate (896 / 10 Steps):   9%|█████▏                                                   | 1/11 [00:01<00:12,  1.30s/it]\u001b[A\n",
      "Validate (896 / 10 Steps):  18%|██████████▎                                              | 2/11 [00:01<00:06,  1.38it/s]\u001b[A\n",
      "Validate (896 / 10 Steps):  18%|██████████▎                                              | 2/11 [00:01<00:06,  1.38it/s]\u001b[A\n",
      "Validate (896 / 10 Steps):  27%|███████████████▌                                         | 3/11 [00:01<00:03,  2.16it/s]\u001b[A\n",
      "Validate (896 / 10 Steps):  27%|███████████████▌                                         | 3/11 [00:01<00:03,  2.16it/s]\u001b[A\n",
      "Validate (896 / 10 Steps):  27%|███████████████▌                                         | 3/11 [00:01<00:03,  2.16it/s]\u001b[A\n",
      "Validate (896 / 10 Steps):  45%|█████████████████████████▉                               | 5/11 [00:01<00:01,  4.05it/s]\u001b[A\n",
      "Validate (896 / 10 Steps):  45%|█████████████████████████▉                               | 5/11 [00:02<00:01,  4.05it/s]\u001b[A\n",
      "Validate (896 / 10 Steps):  45%|█████████████████████████▉                               | 5/11 [00:02<00:01,  4.05it/s]\u001b[A\n",
      "Validate (896 / 10 Steps):  64%|████████████████████████████████████▎                    | 7/11 [00:02<00:00,  5.75it/s]\u001b[A\n",
      "Validate (896 / 10 Steps):  64%|████████████████████████████████████▎                    | 7/11 [00:02<00:00,  5.75it/s]\u001b[A\n",
      "Validate (896 / 10 Steps):  73%|█████████████████████████████████████████▍               | 8/11 [00:02<00:00,  4.78it/s]\u001b[A\n",
      "Validate (896 / 10 Steps):  73%|█████████████████████████████████████████▍               | 8/11 [00:02<00:00,  4.78it/s]\u001b[A\n",
      "Validate (896 / 10 Steps):  82%|██████████████████████████████████████████████▋          | 9/11 [00:02<00:00,  4.81it/s]\u001b[A\n",
      "Validate (896 / 10 Steps):  82%|██████████████████████████████████████████████▋          | 9/11 [00:02<00:00,  4.81it/s]\u001b[A\n",
      "Validate (896 / 10 Steps):  91%|██████████████████████████████████████████████████▉     | 10/11 [00:02<00:00,  4.60it/s]\u001b[A\n",
      "Validate (896 / 10 Steps):  91%|██████████████████████████████████████████████████▉     | 10/11 [00:03<00:00,  4.60it/s]\u001b[A\n",
      "Validate (896 / 10 Steps): 100%|████████████████████████████████████████████████████████| 11/11 [00:03<00:00,  3.52it/s]\u001b[A\n",
      "Training (900 / 2500 Steps) (loss=0.89302):  71%|█████████████████████████████▎           | 5/7 [00:05<00:03,  1.65s/it]"
     ]
    },
    {
     "name": "stdout",
     "output_type": "stream",
     "text": [
      "Model Was Saved ! Current Best Avg. Dice: 0.7860950231552124 Current Avg. Dice: 0.7860950231552124\n"
     ]
    },
    {
     "name": "stderr",
     "output_type": "stream",
     "text": [
      "Training (902 / 2500 Steps) (loss=1.04489): 100%|█████████████████████████████████████████| 7/7 [00:06<00:00,  1.09it/s]\n",
      "Training (909 / 2500 Steps) (loss=1.02553): 100%|█████████████████████████████████████████| 7/7 [00:03<00:00,  2.29it/s]\n",
      "Training (916 / 2500 Steps) (loss=0.85337): 100%|█████████████████████████████████████████| 7/7 [00:02<00:00,  2.37it/s]\n",
      "Training (923 / 2500 Steps) (loss=0.81958): 100%|█████████████████████████████████████████| 7/7 [00:03<00:00,  2.24it/s]\n",
      "Training (930 / 2500 Steps) (loss=1.00850): 100%|█████████████████████████████████████████| 7/7 [00:02<00:00,  2.37it/s]\n",
      "Training (937 / 2500 Steps) (loss=0.89919): 100%|█████████████████████████████████████████| 7/7 [00:03<00:00,  2.32it/s]\n",
      "Training (944 / 2500 Steps) (loss=1.00780): 100%|█████████████████████████████████████████| 7/7 [00:03<00:00,  2.19it/s]\n",
      "Training (950 / 2500 Steps) (loss=0.97472):  71%|█████████████████████████████▎           | 5/7 [00:02<00:00,  2.61it/s]\n",
      "Validate (X / X Steps) (dice=X.X):   0%|                                                         | 0/11 [00:00<?, ?it/s]\u001b[A\n",
      "Validate (945 / 10 Steps):   0%|                                                                 | 0/11 [00:01<?, ?it/s]\u001b[A\n",
      "Validate (945 / 10 Steps):   9%|█████▏                                                   | 1/11 [00:01<00:11,  1.18s/it]\u001b[A\n",
      "Validate (945 / 10 Steps):   9%|█████▏                                                   | 1/11 [00:01<00:11,  1.18s/it]\u001b[A\n",
      "Validate (945 / 10 Steps):  18%|██████████▎                                              | 2/11 [00:01<00:07,  1.26it/s]\u001b[A\n",
      "Validate (945 / 10 Steps):  18%|██████████▎                                              | 2/11 [00:01<00:07,  1.26it/s]\u001b[A\n",
      "Validate (945 / 10 Steps):  27%|███████████████▌                                         | 3/11 [00:01<00:04,  1.99it/s]\u001b[A\n",
      "Validate (945 / 10 Steps):  27%|███████████████▌                                         | 3/11 [00:01<00:04,  1.99it/s]\u001b[A\n",
      "Validate (945 / 10 Steps):  27%|███████████████▌                                         | 3/11 [00:02<00:04,  1.99it/s]\u001b[A\n",
      "Validate (945 / 10 Steps):  45%|█████████████████████████▉                               | 5/11 [00:02<00:01,  3.75it/s]\u001b[A\n",
      "Validate (945 / 10 Steps):  45%|█████████████████████████▉                               | 5/11 [00:02<00:01,  3.75it/s]\u001b[A\n",
      "Validate (945 / 10 Steps):  45%|█████████████████████████▉                               | 5/11 [00:02<00:01,  3.75it/s]\u001b[A\n",
      "Validate (945 / 10 Steps):  64%|████████████████████████████████████▎                    | 7/11 [00:02<00:00,  5.45it/s]\u001b[A\n",
      "Validate (945 / 10 Steps):  64%|████████████████████████████████████▎                    | 7/11 [00:02<00:00,  5.45it/s]\u001b[A\n",
      "Validate (945 / 10 Steps):  73%|█████████████████████████████████████████▍               | 8/11 [00:02<00:00,  4.72it/s]\u001b[A\n",
      "Validate (945 / 10 Steps):  73%|█████████████████████████████████████████▍               | 8/11 [00:02<00:00,  4.72it/s]\u001b[A\n",
      "Validate (945 / 10 Steps):  82%|██████████████████████████████████████████████▋          | 9/11 [00:02<00:00,  4.71it/s]\u001b[A\n",
      "Validate (945 / 10 Steps):  82%|██████████████████████████████████████████████▋          | 9/11 [00:02<00:00,  4.71it/s]\u001b[A\n",
      "Validate (945 / 10 Steps):  91%|██████████████████████████████████████████████████▉     | 10/11 [00:02<00:00,  4.64it/s]\u001b[A\n",
      "Validate (945 / 10 Steps):  91%|██████████████████████████████████████████████████▉     | 10/11 [00:03<00:00,  4.64it/s]\u001b[A\n",
      "Validate (945 / 10 Steps): 100%|████████████████████████████████████████████████████████| 11/11 [00:03<00:00,  3.37it/s]\u001b[A\n",
      "Training (951 / 2500 Steps) (loss=1.15387): 100%|█████████████████████████████████████████| 7/7 [00:06<00:00,  1.04s/it]"
     ]
    },
    {
     "name": "stdout",
     "output_type": "stream",
     "text": [
      "Model Was Not Saved ! Current Best Avg. Dice: 0.7860950231552124 Current Avg. Dice: 0.7738859057426453\n"
     ]
    },
    {
     "name": "stderr",
     "output_type": "stream",
     "text": [
      "Training (951 / 2500 Steps) (loss=1.15387): 100%|█████████████████████████████████████████| 7/7 [00:06<00:00,  1.11it/s]\n",
      "Training (958 / 2500 Steps) (loss=1.10486): 100%|█████████████████████████████████████████| 7/7 [00:03<00:00,  2.25it/s]\n",
      "Training (965 / 2500 Steps) (loss=1.04429): 100%|█████████████████████████████████████████| 7/7 [00:03<00:00,  2.10it/s]\n",
      "Training (972 / 2500 Steps) (loss=0.97804): 100%|█████████████████████████████████████████| 7/7 [00:03<00:00,  2.24it/s]\n",
      "Training (979 / 2500 Steps) (loss=0.95444): 100%|█████████████████████████████████████████| 7/7 [00:02<00:00,  2.36it/s]\n",
      "Training (986 / 2500 Steps) (loss=0.98268): 100%|█████████████████████████████████████████| 7/7 [00:02<00:00,  2.41it/s]\n",
      "Training (993 / 2500 Steps) (loss=1.12445): 100%|█████████████████████████████████████████| 7/7 [00:02<00:00,  2.39it/s]\n",
      "Training (1000 / 2500 Steps) (loss=1.05906):  86%|██████████████████████████████████▎     | 6/7 [00:02<00:00,  2.76it/s]\n",
      "Validate (X / X Steps) (dice=X.X):   0%|                                                         | 0/11 [00:00<?, ?it/s]\u001b[A\n",
      "Validate (994 / 10 Steps):   0%|                                                                 | 0/11 [00:01<?, ?it/s]\u001b[A\n",
      "Validate (994 / 10 Steps):   9%|█████▏                                                   | 1/11 [00:01<00:10,  1.09s/it]\u001b[A\n",
      "Validate (994 / 10 Steps):   9%|█████▏                                                   | 1/11 [00:01<00:10,  1.09s/it]\u001b[A\n",
      "Validate (994 / 10 Steps):  18%|██████████▎                                              | 2/11 [00:01<00:06,  1.33it/s]\u001b[A\n",
      "Validate (994 / 10 Steps):  18%|██████████▎                                              | 2/11 [00:01<00:06,  1.33it/s]\u001b[A\n",
      "Validate (994 / 10 Steps):  27%|███████████████▌                                         | 3/11 [00:01<00:03,  2.08it/s]\u001b[A\n",
      "Validate (994 / 10 Steps):  27%|███████████████▌                                         | 3/11 [00:01<00:03,  2.08it/s]\u001b[A\n",
      "Validate (994 / 10 Steps):  36%|████████████████████▋                                    | 4/11 [00:01<00:02,  3.00it/s]\u001b[A\n",
      "Validate (994 / 10 Steps):  36%|████████████████████▋                                    | 4/11 [00:01<00:02,  3.00it/s]\u001b[A\n",
      "Validate (994 / 10 Steps):  36%|████████████████████▋                                    | 4/11 [00:02<00:02,  3.00it/s]\u001b[A\n",
      "Validate (994 / 10 Steps):  55%|███████████████████████████████                          | 6/11 [00:02<00:00,  5.02it/s]\u001b[A\n",
      "Validate (994 / 10 Steps):  55%|███████████████████████████████                          | 6/11 [00:02<00:00,  5.02it/s]\u001b[A\n",
      "Validate (994 / 10 Steps):  55%|███████████████████████████████                          | 6/11 [00:02<00:00,  5.02it/s]\u001b[A\n",
      "Validate (994 / 10 Steps):  73%|█████████████████████████████████████████▍               | 8/11 [00:02<00:00,  5.44it/s]\u001b[A\n",
      "Validate (994 / 10 Steps):  73%|█████████████████████████████████████████▍               | 8/11 [00:02<00:00,  5.44it/s]\u001b[A\n",
      "Validate (994 / 10 Steps):  82%|██████████████████████████████████████████████▋          | 9/11 [00:02<00:00,  5.08it/s]\u001b[A\n",
      "Validate (994 / 10 Steps):  82%|██████████████████████████████████████████████▋          | 9/11 [00:02<00:00,  5.08it/s]\u001b[A\n",
      "Validate (994 / 10 Steps):  91%|██████████████████████████████████████████████████▉     | 10/11 [00:02<00:00,  5.08it/s]\u001b[A\n",
      "Validate (994 / 10 Steps):  91%|██████████████████████████████████████████████████▉     | 10/11 [00:02<00:00,  5.08it/s]\u001b[A\n",
      "Validate (994 / 10 Steps): 100%|████████████████████████████████████████████████████████| 11/11 [00:03<00:00,  3.63it/s]\u001b[A\n",
      "Training (1000 / 2500 Steps) (loss=1.05906): 100%|████████████████████████████████████████| 7/7 [00:06<00:00,  1.15it/s]\n"
     ]
    },
    {
     "name": "stdout",
     "output_type": "stream",
     "text": [
      "Model Was Not Saved ! Current Best Avg. Dice: 0.7860950231552124 Current Avg. Dice: 0.7701641321182251\n"
     ]
    },
    {
     "name": "stderr",
     "output_type": "stream",
     "text": [
      "Training (1007 / 2500 Steps) (loss=0.89777): 100%|████████████████████████████████████████| 7/7 [00:03<00:00,  2.19it/s]\n",
      "Training (1014 / 2500 Steps) (loss=0.98776): 100%|████████████████████████████████████████| 7/7 [00:03<00:00,  2.28it/s]\n",
      "Training (1021 / 2500 Steps) (loss=0.81278): 100%|████████████████████████████████████████| 7/7 [00:03<00:00,  2.32it/s]\n",
      "Training (1028 / 2500 Steps) (loss=0.87911): 100%|████████████████████████████████████████| 7/7 [00:02<00:00,  2.45it/s]\n",
      "Training (1035 / 2500 Steps) (loss=1.03072): 100%|████████████████████████████████████████| 7/7 [00:02<00:00,  2.46it/s]\n",
      "Training (1042 / 2500 Steps) (loss=0.90506): 100%|████████████████████████████████████████| 7/7 [00:03<00:00,  2.28it/s]\n",
      "Training (1049 / 2500 Steps) (loss=1.00165): 100%|████████████████████████████████████████| 7/7 [00:03<00:00,  2.32it/s]\n",
      "Training (1050 / 2500 Steps) (loss=0.99279):   0%|                                                | 0/7 [00:00<?, ?it/s]\n",
      "Validate (X / X Steps) (dice=X.X):   0%|                                                         | 0/11 [00:00<?, ?it/s]\u001b[A\n",
      "Validate (1050 / 10 Steps):   0%|                                                                | 0/11 [00:01<?, ?it/s]\u001b[A\n",
      "Validate (1050 / 10 Steps):   9%|█████                                                   | 1/11 [00:01<00:19,  1.98s/it]\u001b[A\n",
      "Validate (1050 / 10 Steps):   9%|█████                                                   | 1/11 [00:02<00:19,  1.98s/it]\u001b[A\n",
      "Validate (1050 / 10 Steps):  18%|██████████▏                                             | 2/11 [00:02<00:09,  1.08s/it]\u001b[A\n",
      "Validate (1050 / 10 Steps):  18%|██████████▏                                             | 2/11 [00:02<00:09,  1.08s/it]\u001b[A\n",
      "Validate (1050 / 10 Steps):  27%|███████████████▎                                        | 3/11 [00:02<00:05,  1.52it/s]\u001b[A\n",
      "Validate (1050 / 10 Steps):  27%|███████████████▎                                        | 3/11 [00:02<00:05,  1.52it/s]\u001b[A\n",
      "Validate (1050 / 10 Steps):  27%|███████████████▎                                        | 3/11 [00:02<00:05,  1.52it/s]\u001b[A\n",
      "Validate (1050 / 10 Steps):  45%|█████████████████████████▍                              | 5/11 [00:02<00:01,  3.06it/s]\u001b[A\n",
      "Validate (1050 / 10 Steps):  45%|█████████████████████████▍                              | 5/11 [00:02<00:01,  3.06it/s]\u001b[A\n",
      "Validate (1050 / 10 Steps):  45%|█████████████████████████▍                              | 5/11 [00:02<00:01,  3.06it/s]\u001b[A\n",
      "Validate (1050 / 10 Steps):  64%|███████████████████████████████████▋                    | 7/11 [00:02<00:00,  4.66it/s]\u001b[A\n",
      "Validate (1050 / 10 Steps):  64%|███████████████████████████████████▋                    | 7/11 [00:03<00:00,  4.66it/s]\u001b[A\n",
      "Validate (1050 / 10 Steps):  73%|████████████████████████████████████████▋               | 8/11 [00:03<00:00,  4.22it/s]\u001b[A\n",
      "Validate (1050 / 10 Steps):  73%|████████████████████████████████████████▋               | 8/11 [00:03<00:00,  4.22it/s]\u001b[A\n",
      "Validate (1050 / 10 Steps):  82%|█████████████████████████████████████████████▊          | 9/11 [00:03<00:00,  4.24it/s]\u001b[A\n",
      "Validate (1050 / 10 Steps):  82%|█████████████████████████████████████████████▊          | 9/11 [00:03<00:00,  4.24it/s]\u001b[A\n",
      "Validate (1050 / 10 Steps):  91%|██████████████████████████████████████████████████     | 10/11 [00:03<00:00,  4.37it/s]\u001b[A\n",
      "Validate (1050 / 10 Steps):  91%|██████████████████████████████████████████████████     | 10/11 [00:03<00:00,  4.37it/s]\u001b[A\n",
      "Validate (1050 / 10 Steps): 100%|███████████████████████████████████████████████████████| 11/11 [00:03<00:00,  2.80it/s]\u001b[A\n",
      "Training (1050 / 2500 Steps) (loss=0.99279):  14%|█████▋                                  | 1/7 [00:05<00:31,  5.29s/it]"
     ]
    },
    {
     "name": "stdout",
     "output_type": "stream",
     "text": [
      "Model Was Saved ! Current Best Avg. Dice: 0.7882025241851807 Current Avg. Dice: 0.7882025241851807\n"
     ]
    },
    {
     "name": "stderr",
     "output_type": "stream",
     "text": [
      "Training (1056 / 2500 Steps) (loss=1.07147): 100%|████████████████████████████████████████| 7/7 [00:06<00:00,  1.01it/s]\n",
      "Training (1063 / 2500 Steps) (loss=1.00579): 100%|████████████████████████████████████████| 7/7 [00:03<00:00,  2.27it/s]\n",
      "Training (1070 / 2500 Steps) (loss=0.94839): 100%|████████████████████████████████████████| 7/7 [00:03<00:00,  2.33it/s]\n",
      "Training (1077 / 2500 Steps) (loss=0.85816): 100%|████████████████████████████████████████| 7/7 [00:02<00:00,  2.45it/s]\n",
      "Training (1084 / 2500 Steps) (loss=0.92979): 100%|████████████████████████████████████████| 7/7 [00:02<00:00,  2.43it/s]\n",
      "Training (1091 / 2500 Steps) (loss=0.80369): 100%|████████████████████████████████████████| 7/7 [00:02<00:00,  2.38it/s]\n",
      "Training (1098 / 2500 Steps) (loss=0.83693): 100%|████████████████████████████████████████| 7/7 [00:03<00:00,  2.21it/s]\n",
      "Training (1100 / 2500 Steps) (loss=0.78809):  14%|█████▋                                  | 1/7 [00:01<00:08,  1.42s/it]\n",
      "Validate (X / X Steps) (dice=X.X):   0%|                                                         | 0/11 [00:00<?, ?it/s]\u001b[A\n",
      "Validate (1099 / 10 Steps):   0%|                                                                | 0/11 [00:01<?, ?it/s]\u001b[A\n",
      "Validate (1099 / 10 Steps):   9%|█████                                                   | 1/11 [00:01<00:12,  1.23s/it]\u001b[A\n",
      "Validate (1099 / 10 Steps):   9%|█████                                                   | 1/11 [00:01<00:12,  1.23s/it]\u001b[A\n",
      "Validate (1099 / 10 Steps):  18%|██████████▏                                             | 2/11 [00:01<00:06,  1.43it/s]\u001b[A\n",
      "Validate (1099 / 10 Steps):  18%|██████████▏                                             | 2/11 [00:01<00:06,  1.43it/s]\u001b[A\n",
      "Validate (1099 / 10 Steps):  27%|███████████████▎                                        | 3/11 [00:01<00:03,  2.12it/s]\u001b[A\n",
      "Validate (1099 / 10 Steps):  27%|███████████████▎                                        | 3/11 [00:01<00:03,  2.12it/s]\u001b[A\n",
      "Validate (1099 / 10 Steps):  36%|████████████████████▎                                   | 4/11 [00:01<00:02,  3.05it/s]\u001b[A\n",
      "Validate (1099 / 10 Steps):  36%|████████████████████▎                                   | 4/11 [00:01<00:02,  3.05it/s]\u001b[A\n",
      "Validate (1099 / 10 Steps):  45%|█████████████████████████▍                              | 5/11 [00:01<00:01,  3.95it/s]\u001b[A\n",
      "Validate (1099 / 10 Steps):  45%|█████████████████████████▍                              | 5/11 [00:02<00:01,  3.95it/s]\u001b[A\n",
      "Validate (1099 / 10 Steps):  55%|██████████████████████████████▌                         | 6/11 [00:02<00:01,  4.96it/s]\u001b[A\n",
      "Validate (1099 / 10 Steps):  55%|██████████████████████████████▌                         | 6/11 [00:02<00:01,  4.96it/s]\u001b[A\n",
      "Validate (1099 / 10 Steps):  55%|██████████████████████████████▌                         | 6/11 [00:02<00:01,  4.96it/s]\u001b[A\n",
      "Validate (1099 / 10 Steps):  73%|████████████████████████████████████████▋               | 8/11 [00:02<00:00,  5.35it/s]\u001b[A\n",
      "Validate (1099 / 10 Steps):  73%|████████████████████████████████████████▋               | 8/11 [00:02<00:00,  5.35it/s]\u001b[A\n",
      "Validate (1099 / 10 Steps):  82%|█████████████████████████████████████████████▊          | 9/11 [00:02<00:00,  4.84it/s]\u001b[A\n",
      "Validate (1099 / 10 Steps):  82%|█████████████████████████████████████████████▊          | 9/11 [00:02<00:00,  4.84it/s]\u001b[A\n",
      "Validate (1099 / 10 Steps):  91%|██████████████████████████████████████████████████     | 10/11 [00:02<00:00,  4.78it/s]\u001b[A\n",
      "Validate (1099 / 10 Steps):  91%|██████████████████████████████████████████████████     | 10/11 [00:03<00:00,  4.78it/s]\u001b[A\n",
      "Validate (1099 / 10 Steps): 100%|███████████████████████████████████████████████████████| 11/11 [00:03<00:00,  3.47it/s]\u001b[A\n",
      "Training (1100 / 2500 Steps) (loss=0.78809):  29%|███████████▍                            | 2/7 [00:05<00:14,  2.84s/it]"
     ]
    },
    {
     "name": "stdout",
     "output_type": "stream",
     "text": [
      "Model Was Saved ! Current Best Avg. Dice: 0.7988607287406921 Current Avg. Dice: 0.7988607287406921\n"
     ]
    },
    {
     "name": "stderr",
     "output_type": "stream",
     "text": [
      "Training (1105 / 2500 Steps) (loss=1.05276): 100%|████████████████████████████████████████| 7/7 [00:06<00:00,  1.05it/s]\n",
      "Training (1112 / 2500 Steps) (loss=0.82855): 100%|████████████████████████████████████████| 7/7 [00:03<00:00,  2.33it/s]\n",
      "Training (1119 / 2500 Steps) (loss=0.87190): 100%|████████████████████████████████████████| 7/7 [00:02<00:00,  2.34it/s]\n",
      "Training (1126 / 2500 Steps) (loss=0.97008): 100%|████████████████████████████████████████| 7/7 [00:02<00:00,  2.43it/s]\n",
      "Training (1133 / 2500 Steps) (loss=0.95231): 100%|████████████████████████████████████████| 7/7 [00:02<00:00,  2.42it/s]\n",
      "Training (1140 / 2500 Steps) (loss=0.83448): 100%|████████████████████████████████████████| 7/7 [00:03<00:00,  2.20it/s]\n",
      "Training (1147 / 2500 Steps) (loss=0.82206): 100%|████████████████████████████████████████| 7/7 [00:03<00:00,  2.31it/s]\n",
      "Training (1150 / 2500 Steps) (loss=0.89014):  29%|███████████▍                            | 2/7 [00:01<00:03,  1.45it/s]\n",
      "Validate (X / X Steps) (dice=X.X):   0%|                                                         | 0/11 [00:00<?, ?it/s]\u001b[A\n",
      "Validate (1148 / 10 Steps):   0%|                                                                | 0/11 [00:01<?, ?it/s]\u001b[A\n",
      "Validate (1148 / 10 Steps):   9%|█████                                                   | 1/11 [00:01<00:11,  1.16s/it]\u001b[A\n",
      "Validate (1148 / 10 Steps):   9%|█████                                                   | 1/11 [00:01<00:11,  1.16s/it]\u001b[A\n",
      "Validate (1148 / 10 Steps):  18%|██████████▏                                             | 2/11 [00:01<00:06,  1.32it/s]\u001b[A\n",
      "Validate (1148 / 10 Steps):  18%|██████████▏                                             | 2/11 [00:01<00:06,  1.32it/s]\u001b[A\n",
      "Validate (1148 / 10 Steps):  27%|███████████████▎                                        | 3/11 [00:01<00:03,  2.03it/s]\u001b[A\n",
      "Validate (1148 / 10 Steps):  27%|███████████████▎                                        | 3/11 [00:01<00:03,  2.03it/s]\u001b[A\n",
      "Validate (1148 / 10 Steps):  36%|████████████████████▎                                   | 4/11 [00:01<00:02,  2.85it/s]\u001b[A\n",
      "Validate (1148 / 10 Steps):  36%|████████████████████▎                                   | 4/11 [00:02<00:02,  2.85it/s]\u001b[A\n",
      "Validate (1148 / 10 Steps):  36%|████████████████████▎                                   | 4/11 [00:02<00:02,  2.85it/s]\u001b[A\n",
      "Validate (1148 / 10 Steps):  55%|██████████████████████████████▌                         | 6/11 [00:02<00:01,  4.90it/s]\u001b[A\n",
      "Validate (1148 / 10 Steps):  55%|██████████████████████████████▌                         | 6/11 [00:02<00:01,  4.90it/s]\u001b[A\n",
      "Validate (1148 / 10 Steps):  55%|██████████████████████████████▌                         | 6/11 [00:02<00:01,  4.90it/s]\u001b[A\n",
      "Validate (1148 / 10 Steps):  73%|████████████████████████████████████████▋               | 8/11 [00:02<00:00,  4.89it/s]\u001b[A\n",
      "Validate (1148 / 10 Steps):  73%|████████████████████████████████████████▋               | 8/11 [00:02<00:00,  4.89it/s]\u001b[A\n",
      "Validate (1148 / 10 Steps):  82%|█████████████████████████████████████████████▊          | 9/11 [00:02<00:00,  4.92it/s]\u001b[A\n",
      "Validate (1148 / 10 Steps):  82%|█████████████████████████████████████████████▊          | 9/11 [00:02<00:00,  4.92it/s]\u001b[A\n",
      "Validate (1148 / 10 Steps):  91%|██████████████████████████████████████████████████     | 10/11 [00:02<00:00,  4.88it/s]\u001b[A\n",
      "Validate (1148 / 10 Steps):  91%|██████████████████████████████████████████████████     | 10/11 [00:03<00:00,  4.88it/s]\u001b[A\n",
      "Validate (1148 / 10 Steps): 100%|███████████████████████████████████████████████████████| 11/11 [00:03<00:00,  3.48it/s]\u001b[A\n",
      "Training (1150 / 2500 Steps) (loss=0.89014):  43%|█████████████████▏                      | 3/7 [00:04<00:07,  1.95s/it]"
     ]
    },
    {
     "name": "stdout",
     "output_type": "stream",
     "text": [
      "Model Was Not Saved ! Current Best Avg. Dice: 0.7988607287406921 Current Avg. Dice: 0.7841956615447998\n"
     ]
    },
    {
     "name": "stderr",
     "output_type": "stream",
     "text": [
      "Training (1154 / 2500 Steps) (loss=0.78075): 100%|████████████████████████████████████████| 7/7 [00:06<00:00,  1.16it/s]\n",
      "Training (1161 / 2500 Steps) (loss=1.14428): 100%|████████████████████████████████████████| 7/7 [00:02<00:00,  2.45it/s]\n",
      "Training (1168 / 2500 Steps) (loss=0.87768): 100%|████████████████████████████████████████| 7/7 [00:02<00:00,  2.44it/s]\n",
      "Training (1175 / 2500 Steps) (loss=0.84737): 100%|████████████████████████████████████████| 7/7 [00:03<00:00,  2.33it/s]\n",
      "Training (1182 / 2500 Steps) (loss=0.77577): 100%|████████████████████████████████████████| 7/7 [00:02<00:00,  2.43it/s]\n",
      "Training (1189 / 2500 Steps) (loss=0.86965): 100%|████████████████████████████████████████| 7/7 [00:03<00:00,  2.09it/s]\n",
      "Training (1196 / 2500 Steps) (loss=0.79341): 100%|████████████████████████████████████████| 7/7 [00:02<00:00,  2.45it/s]\n",
      "Training (1200 / 2500 Steps) (loss=0.99962):  43%|█████████████████▏                      | 3/7 [00:02<00:01,  2.03it/s]\n",
      "Validate (X / X Steps) (dice=X.X):   0%|                                                         | 0/11 [00:00<?, ?it/s]\u001b[A\n",
      "Validate (1197 / 10 Steps):   0%|                                                                | 0/11 [00:01<?, ?it/s]\u001b[A\n",
      "Validate (1197 / 10 Steps):   9%|█████                                                   | 1/11 [00:01<00:11,  1.20s/it]\u001b[A\n",
      "Validate (1197 / 10 Steps):   9%|█████                                                   | 1/11 [00:01<00:11,  1.20s/it]\u001b[A\n",
      "Validate (1197 / 10 Steps):  18%|██████████▏                                             | 2/11 [00:01<00:06,  1.43it/s]\u001b[A\n",
      "Validate (1197 / 10 Steps):  18%|██████████▏                                             | 2/11 [00:01<00:06,  1.43it/s]\u001b[A\n",
      "Validate (1197 / 10 Steps):  27%|███████████████▎                                        | 3/11 [00:01<00:03,  2.24it/s]\u001b[A\n",
      "Validate (1197 / 10 Steps):  27%|███████████████▎                                        | 3/11 [00:01<00:03,  2.24it/s]\u001b[A\n",
      "Validate (1197 / 10 Steps):  27%|███████████████▎                                        | 3/11 [00:01<00:03,  2.24it/s]\u001b[A\n",
      "Validate (1197 / 10 Steps):  45%|█████████████████████████▍                              | 5/11 [00:01<00:01,  4.05it/s]\u001b[A\n",
      "Validate (1197 / 10 Steps):  45%|█████████████████████████▍                              | 5/11 [00:01<00:01,  4.05it/s]\u001b[A\n",
      "Validate (1197 / 10 Steps):  55%|██████████████████████████████▌                         | 6/11 [00:01<00:01,  4.78it/s]\u001b[A\n",
      "Validate (1197 / 10 Steps):  55%|██████████████████████████████▌                         | 6/11 [00:02<00:01,  4.78it/s]\u001b[A\n",
      "Validate (1197 / 10 Steps):  55%|██████████████████████████████▌                         | 6/11 [00:02<00:01,  4.78it/s]\u001b[A\n",
      "Validate (1197 / 10 Steps):  73%|████████████████████████████████████████▋               | 8/11 [00:02<00:00,  4.58it/s]\u001b[A\n",
      "Validate (1197 / 10 Steps):  73%|████████████████████████████████████████▋               | 8/11 [00:02<00:00,  4.58it/s]\u001b[A\n",
      "Validate (1197 / 10 Steps):  82%|█████████████████████████████████████████████▊          | 9/11 [00:02<00:00,  4.35it/s]\u001b[A\n",
      "Validate (1197 / 10 Steps):  82%|█████████████████████████████████████████████▊          | 9/11 [00:02<00:00,  4.35it/s]\u001b[A\n",
      "Validate (1197 / 10 Steps):  91%|██████████████████████████████████████████████████     | 10/11 [00:02<00:00,  4.55it/s]\u001b[A\n",
      "Validate (1197 / 10 Steps):  91%|██████████████████████████████████████████████████     | 10/11 [00:03<00:00,  4.55it/s]\u001b[A\n",
      "Validate (1197 / 10 Steps): 100%|███████████████████████████████████████████████████████| 11/11 [00:03<00:00,  3.47it/s]\u001b[A\n",
      "Training (1200 / 2500 Steps) (loss=0.99962):  57%|██████████████████████▊                 | 4/7 [00:05<00:05,  1.67s/it]"
     ]
    },
    {
     "name": "stdout",
     "output_type": "stream",
     "text": [
      "Model Was Not Saved ! Current Best Avg. Dice: 0.7988607287406921 Current Avg. Dice: 0.7868059277534485\n"
     ]
    },
    {
     "name": "stderr",
     "output_type": "stream",
     "text": [
      "Training (1203 / 2500 Steps) (loss=0.97257): 100%|████████████████████████████████████████| 7/7 [00:05<00:00,  1.17it/s]\n",
      "Training (1210 / 2500 Steps) (loss=0.82414): 100%|████████████████████████████████████████| 7/7 [00:02<00:00,  2.43it/s]\n",
      "Training (1217 / 2500 Steps) (loss=0.92801): 100%|████████████████████████████████████████| 7/7 [00:03<00:00,  2.27it/s]\n",
      "Training (1224 / 2500 Steps) (loss=0.88356): 100%|████████████████████████████████████████| 7/7 [00:03<00:00,  2.14it/s]\n",
      "Training (1231 / 2500 Steps) (loss=1.06477): 100%|████████████████████████████████████████| 7/7 [00:03<00:00,  2.26it/s]\n",
      "Training (1238 / 2500 Steps) (loss=0.94068): 100%|████████████████████████████████████████| 7/7 [00:03<00:00,  2.27it/s]\n",
      "Training (1245 / 2500 Steps) (loss=0.80682): 100%|████████████████████████████████████████| 7/7 [00:02<00:00,  2.39it/s]\n",
      "Training (1250 / 2500 Steps) (loss=0.95957):  57%|██████████████████████▊                 | 4/7 [00:02<00:01,  2.37it/s]\n",
      "Validate (X / X Steps) (dice=X.X):   0%|                                                         | 0/11 [00:00<?, ?it/s]\u001b[A\n",
      "Validate (1246 / 10 Steps):   0%|                                                                | 0/11 [00:01<?, ?it/s]\u001b[A\n",
      "Validate (1246 / 10 Steps):   9%|█████                                                   | 1/11 [00:01<00:11,  1.18s/it]\u001b[A\n",
      "Validate (1246 / 10 Steps):   9%|█████                                                   | 1/11 [00:01<00:11,  1.18s/it]\u001b[A\n",
      "Validate (1246 / 10 Steps):  18%|██████████▏                                             | 2/11 [00:01<00:06,  1.38it/s]\u001b[A\n",
      "Validate (1246 / 10 Steps):  18%|██████████▏                                             | 2/11 [00:01<00:06,  1.38it/s]\u001b[A\n",
      "Validate (1246 / 10 Steps):  27%|███████████████▎                                        | 3/11 [00:01<00:03,  2.10it/s]\u001b[A\n",
      "Validate (1246 / 10 Steps):  27%|███████████████▎                                        | 3/11 [00:01<00:03,  2.10it/s]\u001b[A\n",
      "Validate (1246 / 10 Steps):  36%|████████████████████▎                                   | 4/11 [00:01<00:02,  3.00it/s]\u001b[A\n",
      "Validate (1246 / 10 Steps):  36%|████████████████████▎                                   | 4/11 [00:01<00:02,  3.00it/s]\u001b[A\n",
      "Validate (1246 / 10 Steps):  36%|████████████████████▎                                   | 4/11 [00:02<00:02,  3.00it/s]\u001b[A\n",
      "Validate (1246 / 10 Steps):  55%|██████████████████████████████▌                         | 6/11 [00:02<00:01,  4.85it/s]\u001b[A\n",
      "Validate (1246 / 10 Steps):  55%|██████████████████████████████▌                         | 6/11 [00:02<00:01,  4.85it/s]\u001b[A\n",
      "Validate (1246 / 10 Steps):  64%|███████████████████████████████████▋                    | 7/11 [00:02<00:00,  5.36it/s]\u001b[A\n",
      "Validate (1246 / 10 Steps):  64%|███████████████████████████████████▋                    | 7/11 [00:02<00:00,  5.36it/s]\u001b[A\n",
      "Validate (1246 / 10 Steps):  73%|████████████████████████████████████████▋               | 8/11 [00:02<00:00,  4.40it/s]\u001b[A\n",
      "Validate (1246 / 10 Steps):  73%|████████████████████████████████████████▋               | 8/11 [00:02<00:00,  4.40it/s]\u001b[A\n",
      "Validate (1246 / 10 Steps):  82%|█████████████████████████████████████████████▊          | 9/11 [00:02<00:00,  4.57it/s]\u001b[A\n",
      "Validate (1246 / 10 Steps):  82%|█████████████████████████████████████████████▊          | 9/11 [00:02<00:00,  4.57it/s]\u001b[A\n",
      "Validate (1246 / 10 Steps):  91%|██████████████████████████████████████████████████     | 10/11 [00:02<00:00,  4.75it/s]\u001b[A\n",
      "Validate (1246 / 10 Steps):  91%|██████████████████████████████████████████████████     | 10/11 [00:03<00:00,  4.75it/s]\u001b[A\n",
      "Validate (1246 / 10 Steps): 100%|███████████████████████████████████████████████████████| 11/11 [00:03<00:00,  3.39it/s]\u001b[A\n",
      "Training (1250 / 2500 Steps) (loss=0.95957):  71%|████████████████████████████▌           | 5/7 [00:05<00:03,  1.69s/it]"
     ]
    },
    {
     "name": "stdout",
     "output_type": "stream",
     "text": [
      "Model Was Saved ! Current Best Avg. Dice: 0.8002125024795532 Current Avg. Dice: 0.8002125024795532\n"
     ]
    },
    {
     "name": "stderr",
     "output_type": "stream",
     "text": [
      "Training (1252 / 2500 Steps) (loss=0.91895): 100%|████████████████████████████████████████| 7/7 [00:06<00:00,  1.07it/s]\n",
      "Training (1259 / 2500 Steps) (loss=0.85884): 100%|████████████████████████████████████████| 7/7 [00:02<00:00,  2.41it/s]\n",
      "Training (1266 / 2500 Steps) (loss=0.81661): 100%|████████████████████████████████████████| 7/7 [00:04<00:00,  1.68it/s]\n",
      "Training (1273 / 2500 Steps) (loss=0.80389): 100%|████████████████████████████████████████| 7/7 [00:02<00:00,  2.40it/s]\n",
      "Training (1280 / 2500 Steps) (loss=1.02909): 100%|████████████████████████████████████████| 7/7 [00:02<00:00,  2.39it/s]\n",
      "Training (1287 / 2500 Steps) (loss=0.91008): 100%|████████████████████████████████████████| 7/7 [00:02<00:00,  2.37it/s]\n",
      "Training (1294 / 2500 Steps) (loss=0.69524): 100%|████████████████████████████████████████| 7/7 [00:03<00:00,  2.33it/s]\n",
      "Training (1300 / 2500 Steps) (loss=1.00621):  71%|████████████████████████████▌           | 5/7 [00:02<00:00,  2.60it/s]\n",
      "Validate (X / X Steps) (dice=X.X):   0%|                                                         | 0/11 [00:00<?, ?it/s]\u001b[A\n",
      "Validate (1295 / 10 Steps):   0%|                                                                | 0/11 [00:01<?, ?it/s]\u001b[A\n",
      "Validate (1295 / 10 Steps):   9%|█████                                                   | 1/11 [00:01<00:11,  1.13s/it]\u001b[A\n",
      "Validate (1295 / 10 Steps):   9%|█████                                                   | 1/11 [00:01<00:11,  1.13s/it]\u001b[A\n",
      "Validate (1295 / 10 Steps):  18%|██████████▏                                             | 2/11 [00:01<00:06,  1.42it/s]\u001b[A\n",
      "Validate (1295 / 10 Steps):  18%|██████████▏                                             | 2/11 [00:01<00:06,  1.42it/s]\u001b[A\n",
      "Validate (1295 / 10 Steps):  27%|███████████████▎                                        | 3/11 [00:01<00:03,  2.14it/s]\u001b[A\n",
      "Validate (1295 / 10 Steps):  27%|███████████████▎                                        | 3/11 [00:01<00:03,  2.14it/s]\u001b[A\n",
      "Validate (1295 / 10 Steps):  36%|████████████████████▎                                   | 4/11 [00:01<00:02,  3.02it/s]\u001b[A\n",
      "Validate (1295 / 10 Steps):  36%|████████████████████▎                                   | 4/11 [00:01<00:02,  3.02it/s]\u001b[A\n",
      "Validate (1295 / 10 Steps):  36%|████████████████████▎                                   | 4/11 [00:02<00:02,  3.02it/s]\u001b[A\n",
      "Validate (1295 / 10 Steps):  55%|██████████████████████████████▌                         | 6/11 [00:02<00:01,  4.97it/s]\u001b[A\n",
      "Validate (1295 / 10 Steps):  55%|██████████████████████████████▌                         | 6/11 [00:02<00:01,  4.97it/s]\u001b[A\n",
      "Validate (1295 / 10 Steps):  55%|██████████████████████████████▌                         | 6/11 [00:02<00:01,  4.97it/s]\u001b[A\n",
      "Validate (1295 / 10 Steps):  73%|████████████████████████████████████████▋               | 8/11 [00:02<00:00,  5.07it/s]\u001b[A\n",
      "Validate (1295 / 10 Steps):  73%|████████████████████████████████████████▋               | 8/11 [00:02<00:00,  5.07it/s]\u001b[A\n",
      "Validate (1295 / 10 Steps):  82%|█████████████████████████████████████████████▊          | 9/11 [00:02<00:00,  5.13it/s]\u001b[A\n",
      "Validate (1295 / 10 Steps):  82%|█████████████████████████████████████████████▊          | 9/11 [00:02<00:00,  5.13it/s]\u001b[A\n",
      "Validate (1295 / 10 Steps):  91%|██████████████████████████████████████████████████     | 10/11 [00:02<00:00,  5.17it/s]\u001b[A\n",
      "Validate (1295 / 10 Steps):  91%|██████████████████████████████████████████████████     | 10/11 [00:02<00:00,  5.17it/s]\u001b[A\n",
      "Validate (1295 / 10 Steps): 100%|███████████████████████████████████████████████████████| 11/11 [00:03<00:00,  3.66it/s]\u001b[A\n",
      "Training (1301 / 2500 Steps) (loss=0.83774): 100%|████████████████████████████████████████| 7/7 [00:06<00:00,  1.08s/it]"
     ]
    },
    {
     "name": "stdout",
     "output_type": "stream",
     "text": [
      "Model Was Saved ! Current Best Avg. Dice: 0.8011834621429443 Current Avg. Dice: 0.8011834621429443\n"
     ]
    },
    {
     "name": "stderr",
     "output_type": "stream",
     "text": [
      "Training (1301 / 2500 Steps) (loss=0.83774): 100%|████████████████████████████████████████| 7/7 [00:06<00:00,  1.08it/s]\n",
      "Training (1308 / 2500 Steps) (loss=0.89090): 100%|████████████████████████████████████████| 7/7 [00:03<00:00,  2.20it/s]\n",
      "Training (1315 / 2500 Steps) (loss=0.76817): 100%|████████████████████████████████████████| 7/7 [00:03<00:00,  2.32it/s]\n",
      "Training (1322 / 2500 Steps) (loss=0.83008): 100%|████████████████████████████████████████| 7/7 [00:02<00:00,  2.46it/s]\n",
      "Training (1329 / 2500 Steps) (loss=0.73847): 100%|████████████████████████████████████████| 7/7 [00:02<00:00,  2.47it/s]\n",
      "Training (1336 / 2500 Steps) (loss=0.81052): 100%|████████████████████████████████████████| 7/7 [00:02<00:00,  2.40it/s]\n",
      "Training (1343 / 2500 Steps) (loss=1.11328): 100%|████████████████████████████████████████| 7/7 [00:02<00:00,  2.46it/s]\n",
      "Training (1350 / 2500 Steps) (loss=0.69499):  86%|██████████████████████████████████▎     | 6/7 [00:02<00:00,  2.86it/s]\n",
      "Validate (X / X Steps) (dice=X.X):   0%|                                                         | 0/11 [00:00<?, ?it/s]\u001b[A\n",
      "Validate (1344 / 10 Steps):   0%|                                                                | 0/11 [00:01<?, ?it/s]\u001b[A\n",
      "Validate (1344 / 10 Steps):   9%|█████                                                   | 1/11 [00:01<00:15,  1.51s/it]\u001b[A\n",
      "Validate (1344 / 10 Steps):   9%|█████                                                   | 1/11 [00:01<00:15,  1.51s/it]\u001b[A\n",
      "Validate (1344 / 10 Steps):  18%|██████████▏                                             | 2/11 [00:01<00:07,  1.14it/s]\u001b[A\n",
      "Validate (1344 / 10 Steps):  18%|██████████▏                                             | 2/11 [00:02<00:07,  1.14it/s]\u001b[A\n",
      "Validate (1344 / 10 Steps):  27%|███████████████▎                                        | 3/11 [00:02<00:04,  1.84it/s]\u001b[A\n",
      "Validate (1344 / 10 Steps):  27%|███████████████▎                                        | 3/11 [00:02<00:04,  1.84it/s]\u001b[A\n",
      "Validate (1344 / 10 Steps):  27%|███████████████▎                                        | 3/11 [00:02<00:04,  1.84it/s]\u001b[A\n",
      "Validate (1344 / 10 Steps):  45%|█████████████████████████▍                              | 5/11 [00:02<00:01,  3.55it/s]\u001b[A\n",
      "Validate (1344 / 10 Steps):  45%|█████████████████████████▍                              | 5/11 [00:02<00:01,  3.55it/s]\u001b[A\n",
      "Validate (1344 / 10 Steps):  45%|█████████████████████████▍                              | 5/11 [00:02<00:01,  3.55it/s]\u001b[A\n",
      "Validate (1344 / 10 Steps):  64%|███████████████████████████████████▋                    | 7/11 [00:02<00:00,  5.23it/s]\u001b[A\n",
      "Validate (1344 / 10 Steps):  64%|███████████████████████████████████▋                    | 7/11 [00:02<00:00,  5.23it/s]\u001b[A\n",
      "Validate (1344 / 10 Steps):  73%|████████████████████████████████████████▋               | 8/11 [00:02<00:00,  4.64it/s]\u001b[A\n",
      "Validate (1344 / 10 Steps):  73%|████████████████████████████████████████▋               | 8/11 [00:02<00:00,  4.64it/s]\u001b[A\n",
      "Validate (1344 / 10 Steps):  82%|█████████████████████████████████████████████▊          | 9/11 [00:02<00:00,  4.38it/s]\u001b[A\n",
      "Validate (1344 / 10 Steps):  82%|█████████████████████████████████████████████▊          | 9/11 [00:03<00:00,  4.38it/s]\u001b[A\n",
      "Validate (1344 / 10 Steps):  91%|██████████████████████████████████████████████████     | 10/11 [00:03<00:00,  4.31it/s]\u001b[A\n",
      "Validate (1344 / 10 Steps):  91%|██████████████████████████████████████████████████     | 10/11 [00:03<00:00,  4.31it/s]\u001b[A\n",
      "Validate (1344 / 10 Steps): 100%|███████████████████████████████████████████████████████| 11/11 [00:03<00:00,  3.15it/s]\u001b[A\n",
      "Training (1350 / 2500 Steps) (loss=0.69499): 100%|████████████████████████████████████████| 7/7 [00:06<00:00,  1.03it/s]\n"
     ]
    },
    {
     "name": "stdout",
     "output_type": "stream",
     "text": [
      "Model Was Saved ! Current Best Avg. Dice: 0.8064823746681213 Current Avg. Dice: 0.8064823746681213\n"
     ]
    },
    {
     "name": "stderr",
     "output_type": "stream",
     "text": [
      "Training (1357 / 2500 Steps) (loss=0.93716): 100%|████████████████████████████████████████| 7/7 [00:02<00:00,  2.44it/s]\n",
      "Training (1364 / 2500 Steps) (loss=0.83324): 100%|████████████████████████████████████████| 7/7 [00:02<00:00,  2.45it/s]\n",
      "Training (1371 / 2500 Steps) (loss=0.90320): 100%|████████████████████████████████████████| 7/7 [00:02<00:00,  2.40it/s]\n",
      "Training (1378 / 2500 Steps) (loss=0.77224): 100%|████████████████████████████████████████| 7/7 [00:02<00:00,  2.47it/s]\n",
      "Training (1385 / 2500 Steps) (loss=0.73197): 100%|████████████████████████████████████████| 7/7 [00:02<00:00,  2.35it/s]\n",
      "Training (1392 / 2500 Steps) (loss=0.84224): 100%|████████████████████████████████████████| 7/7 [00:02<00:00,  2.45it/s]\n",
      "Training (1399 / 2500 Steps) (loss=0.70423): 100%|████████████████████████████████████████| 7/7 [00:03<00:00,  2.14it/s]\n",
      "Training (1400 / 2500 Steps) (loss=0.85536):   0%|                                                | 0/7 [00:01<?, ?it/s]\n",
      "Validate (X / X Steps) (dice=X.X):   0%|                                                         | 0/11 [00:00<?, ?it/s]\u001b[A\n",
      "Validate (1400 / 10 Steps):   0%|                                                                | 0/11 [00:01<?, ?it/s]\u001b[A\n",
      "Validate (1400 / 10 Steps):   9%|█████                                                   | 1/11 [00:01<00:11,  1.18s/it]\u001b[A\n",
      "Validate (1400 / 10 Steps):   9%|█████                                                   | 1/11 [00:01<00:11,  1.18s/it]\u001b[A\n",
      "Validate (1400 / 10 Steps):  18%|██████████▏                                             | 2/11 [00:01<00:06,  1.44it/s]\u001b[A\n",
      "Validate (1400 / 10 Steps):  18%|██████████▏                                             | 2/11 [00:01<00:06,  1.44it/s]\u001b[A\n",
      "Validate (1400 / 10 Steps):  27%|███████████████▎                                        | 3/11 [00:01<00:03,  2.20it/s]\u001b[A\n",
      "Validate (1400 / 10 Steps):  27%|███████████████▎                                        | 3/11 [00:01<00:03,  2.20it/s]\u001b[A\n",
      "Validate (1400 / 10 Steps):  27%|███████████████▎                                        | 3/11 [00:01<00:03,  2.20it/s]\u001b[A\n",
      "Validate (1400 / 10 Steps):  45%|█████████████████████████▍                              | 5/11 [00:01<00:01,  4.05it/s]\u001b[A\n",
      "Validate (1400 / 10 Steps):  45%|█████████████████████████▍                              | 5/11 [00:01<00:01,  4.05it/s]\u001b[A\n",
      "Validate (1400 / 10 Steps):  45%|█████████████████████████▍                              | 5/11 [00:02<00:01,  4.05it/s]\u001b[A\n",
      "Validate (1400 / 10 Steps):  64%|███████████████████████████████████▋                    | 7/11 [00:02<00:00,  5.91it/s]\u001b[A\n",
      "Validate (1400 / 10 Steps):  64%|███████████████████████████████████▋                    | 7/11 [00:02<00:00,  5.91it/s]\u001b[A\n",
      "Validate (1400 / 10 Steps):  73%|████████████████████████████████████████▋               | 8/11 [00:02<00:00,  4.71it/s]\u001b[A\n",
      "Validate (1400 / 10 Steps):  73%|████████████████████████████████████████▋               | 8/11 [00:02<00:00,  4.71it/s]\u001b[A\n",
      "Validate (1400 / 10 Steps):  82%|█████████████████████████████████████████████▊          | 9/11 [00:02<00:00,  4.57it/s]\u001b[A\n",
      "Validate (1400 / 10 Steps):  82%|█████████████████████████████████████████████▊          | 9/11 [00:02<00:00,  4.57it/s]\u001b[A\n",
      "Validate (1400 / 10 Steps):  91%|██████████████████████████████████████████████████     | 10/11 [00:02<00:00,  4.63it/s]\u001b[A\n",
      "Validate (1400 / 10 Steps):  91%|██████████████████████████████████████████████████     | 10/11 [00:03<00:00,  4.63it/s]\u001b[A\n",
      "Validate (1400 / 10 Steps): 100%|███████████████████████████████████████████████████████| 11/11 [00:03<00:00,  3.54it/s]\u001b[A\n",
      "Training (1400 / 2500 Steps) (loss=0.85536):  14%|█████▋                                  | 1/7 [00:04<00:28,  4.67s/it]"
     ]
    },
    {
     "name": "stdout",
     "output_type": "stream",
     "text": [
      "Model Was Saved ! Current Best Avg. Dice: 0.81146639585495 Current Avg. Dice: 0.81146639585495\n"
     ]
    },
    {
     "name": "stderr",
     "output_type": "stream",
     "text": [
      "Training (1406 / 2500 Steps) (loss=0.75932): 100%|████████████████████████████████████████| 7/7 [00:06<00:00,  1.10it/s]\n",
      "Training (1413 / 2500 Steps) (loss=0.76354): 100%|████████████████████████████████████████| 7/7 [00:02<00:00,  2.44it/s]\n",
      "Training (1420 / 2500 Steps) (loss=0.77335): 100%|████████████████████████████████████████| 7/7 [00:02<00:00,  2.42it/s]\n",
      "Training (1427 / 2500 Steps) (loss=0.83045): 100%|████████████████████████████████████████| 7/7 [00:02<00:00,  2.35it/s]\n",
      "Training (1434 / 2500 Steps) (loss=0.89852): 100%|████████████████████████████████████████| 7/7 [00:03<00:00,  2.27it/s]\n",
      "Training (1441 / 2500 Steps) (loss=0.92991): 100%|████████████████████████████████████████| 7/7 [00:03<00:00,  2.05it/s]\n",
      "Training (1448 / 2500 Steps) (loss=0.81161): 100%|████████████████████████████████████████| 7/7 [00:03<00:00,  2.32it/s]\n",
      "Training (1450 / 2500 Steps) (loss=0.75882):  14%|█████▋                                  | 1/7 [00:01<00:08,  1.34s/it]\n",
      "Validate (X / X Steps) (dice=X.X):   0%|                                                         | 0/11 [00:00<?, ?it/s]\u001b[A\n",
      "Validate (1449 / 10 Steps):   0%|                                                                | 0/11 [00:01<?, ?it/s]\u001b[A\n",
      "Validate (1449 / 10 Steps):   9%|█████                                                   | 1/11 [00:01<00:11,  1.17s/it]\u001b[A\n",
      "Validate (1449 / 10 Steps):   9%|█████                                                   | 1/11 [00:01<00:11,  1.17s/it]\u001b[A\n",
      "Validate (1449 / 10 Steps):  18%|██████████▏                                             | 2/11 [00:01<00:06,  1.31it/s]\u001b[A\n",
      "Validate (1449 / 10 Steps):  18%|██████████▏                                             | 2/11 [00:01<00:06,  1.31it/s]\u001b[A\n",
      "Validate (1449 / 10 Steps):  27%|███████████████▎                                        | 3/11 [00:01<00:03,  2.06it/s]\u001b[A\n",
      "Validate (1449 / 10 Steps):  27%|███████████████▎                                        | 3/11 [00:01<00:03,  2.06it/s]\u001b[A\n",
      "Validate (1449 / 10 Steps):  27%|███████████████▎                                        | 3/11 [00:01<00:03,  2.06it/s]\u001b[A\n",
      "Validate (1449 / 10 Steps):  45%|█████████████████████████▍                              | 5/11 [00:01<00:01,  3.91it/s]\u001b[A\n",
      "Validate (1449 / 10 Steps):  45%|█████████████████████████▍                              | 5/11 [00:02<00:01,  3.91it/s]\u001b[A\n",
      "Validate (1449 / 10 Steps):  45%|█████████████████████████▍                              | 5/11 [00:02<00:01,  3.91it/s]\u001b[A\n",
      "Validate (1449 / 10 Steps):  64%|███████████████████████████████████▋                    | 7/11 [00:02<00:00,  5.67it/s]\u001b[A\n",
      "Validate (1449 / 10 Steps):  64%|███████████████████████████████████▋                    | 7/11 [00:02<00:00,  5.67it/s]\u001b[A\n",
      "Validate (1449 / 10 Steps):  73%|████████████████████████████████████████▋               | 8/11 [00:02<00:00,  5.12it/s]\u001b[A\n",
      "Validate (1449 / 10 Steps):  73%|████████████████████████████████████████▋               | 8/11 [00:02<00:00,  5.12it/s]\u001b[A\n",
      "Validate (1449 / 10 Steps):  82%|█████████████████████████████████████████████▊          | 9/11 [00:02<00:00,  4.97it/s]\u001b[A\n",
      "Validate (1449 / 10 Steps):  82%|█████████████████████████████████████████████▊          | 9/11 [00:02<00:00,  4.97it/s]\u001b[A\n",
      "Validate (1449 / 10 Steps):  91%|██████████████████████████████████████████████████     | 10/11 [00:02<00:00,  4.78it/s]\u001b[A\n",
      "Validate (1449 / 10 Steps):  91%|██████████████████████████████████████████████████     | 10/11 [00:03<00:00,  4.78it/s]\u001b[A\n",
      "Validate (1449 / 10 Steps): 100%|███████████████████████████████████████████████████████| 11/11 [00:03<00:00,  3.58it/s]\u001b[A\n",
      "Training (1450 / 2500 Steps) (loss=0.75882):  29%|███████████▍                            | 2/7 [00:04<00:12,  2.54s/it]"
     ]
    },
    {
     "name": "stdout",
     "output_type": "stream",
     "text": [
      "Model Was Not Saved ! Current Best Avg. Dice: 0.81146639585495 Current Avg. Dice: 0.808427095413208\n"
     ]
    },
    {
     "name": "stderr",
     "output_type": "stream",
     "text": [
      "Training (1455 / 2500 Steps) (loss=0.83086): 100%|████████████████████████████████████████| 7/7 [00:06<00:00,  1.13it/s]\n",
      "Training (1462 / 2500 Steps) (loss=0.76247): 100%|████████████████████████████████████████| 7/7 [00:02<00:00,  2.35it/s]\n",
      "Training (1469 / 2500 Steps) (loss=0.81067): 100%|████████████████████████████████████████| 7/7 [00:02<00:00,  2.35it/s]\n",
      "Training (1476 / 2500 Steps) (loss=0.75561): 100%|████████████████████████████████████████| 7/7 [00:02<00:00,  2.37it/s]\n",
      "Training (1483 / 2500 Steps) (loss=0.83454): 100%|████████████████████████████████████████| 7/7 [00:03<00:00,  2.07it/s]\n",
      "Training (1490 / 2500 Steps) (loss=0.86070): 100%|████████████████████████████████████████| 7/7 [00:02<00:00,  2.51it/s]\n",
      "Training (1497 / 2500 Steps) (loss=0.82903): 100%|████████████████████████████████████████| 7/7 [00:03<00:00,  2.27it/s]\n",
      "Training (1500 / 2500 Steps) (loss=0.84255):  29%|███████████▍                            | 2/7 [00:01<00:03,  1.45it/s]\n",
      "Validate (X / X Steps) (dice=X.X):   0%|                                                         | 0/11 [00:00<?, ?it/s]\u001b[A\n",
      "Validate (1498 / 10 Steps):   0%|                                                                | 0/11 [00:01<?, ?it/s]\u001b[A\n",
      "Validate (1498 / 10 Steps):   9%|█████                                                   | 1/11 [00:01<00:12,  1.27s/it]\u001b[A\n",
      "Validate (1498 / 10 Steps):   9%|█████                                                   | 1/11 [00:01<00:12,  1.27s/it]\u001b[A\n",
      "Validate (1498 / 10 Steps):  18%|██████████▏                                             | 2/11 [00:01<00:06,  1.38it/s]\u001b[A\n",
      "Validate (1498 / 10 Steps):  18%|██████████▏                                             | 2/11 [00:01<00:06,  1.38it/s]\u001b[A\n",
      "Validate (1498 / 10 Steps):  27%|███████████████▎                                        | 3/11 [00:01<00:03,  2.13it/s]\u001b[A\n",
      "Validate (1498 / 10 Steps):  27%|███████████████▎                                        | 3/11 [00:01<00:03,  2.13it/s]\u001b[A\n",
      "Validate (1498 / 10 Steps):  27%|███████████████▎                                        | 3/11 [00:01<00:03,  2.13it/s]\u001b[A\n",
      "Validate (1498 / 10 Steps):  45%|█████████████████████████▍                              | 5/11 [00:01<00:01,  3.83it/s]\u001b[A\n",
      "Validate (1498 / 10 Steps):  45%|█████████████████████████▍                              | 5/11 [00:02<00:01,  3.83it/s]\u001b[A\n",
      "Validate (1498 / 10 Steps):  45%|█████████████████████████▍                              | 5/11 [00:02<00:01,  3.83it/s]\u001b[A\n",
      "Validate (1498 / 10 Steps):  64%|███████████████████████████████████▋                    | 7/11 [00:02<00:00,  5.65it/s]\u001b[A\n",
      "Validate (1498 / 10 Steps):  64%|███████████████████████████████████▋                    | 7/11 [00:02<00:00,  5.65it/s]\u001b[A\n",
      "Validate (1498 / 10 Steps):  73%|████████████████████████████████████████▋               | 8/11 [00:02<00:00,  5.03it/s]\u001b[A\n",
      "Validate (1498 / 10 Steps):  73%|████████████████████████████████████████▋               | 8/11 [00:02<00:00,  5.03it/s]\u001b[A\n",
      "Validate (1498 / 10 Steps):  82%|█████████████████████████████████████████████▊          | 9/11 [00:02<00:00,  4.75it/s]\u001b[A\n",
      "Validate (1498 / 10 Steps):  82%|█████████████████████████████████████████████▊          | 9/11 [00:02<00:00,  4.75it/s]\u001b[A\n",
      "Validate (1498 / 10 Steps):  91%|██████████████████████████████████████████████████     | 10/11 [00:02<00:00,  4.67it/s]\u001b[A\n",
      "Validate (1498 / 10 Steps):  91%|██████████████████████████████████████████████████     | 10/11 [00:03<00:00,  4.67it/s]\u001b[A\n",
      "Validate (1498 / 10 Steps): 100%|███████████████████████████████████████████████████████| 11/11 [00:03<00:00,  3.54it/s]\u001b[A\n",
      "Training (1500 / 2500 Steps) (loss=0.84255):  43%|█████████████████▏                      | 3/7 [00:05<00:08,  2.10s/it]"
     ]
    },
    {
     "name": "stdout",
     "output_type": "stream",
     "text": [
      "Model Was Saved ! Current Best Avg. Dice: 0.8163575530052185 Current Avg. Dice: 0.8163575530052185\n"
     ]
    },
    {
     "name": "stderr",
     "output_type": "stream",
     "text": [
      "Training (1504 / 2500 Steps) (loss=0.81570): 100%|████████████████████████████████████████| 7/7 [00:06<00:00,  1.10it/s]\n",
      "Training (1511 / 2500 Steps) (loss=0.76928): 100%|████████████████████████████████████████| 7/7 [00:02<00:00,  2.44it/s]\n",
      "Training (1518 / 2500 Steps) (loss=0.97637): 100%|████████████████████████████████████████| 7/7 [00:03<00:00,  2.15it/s]\n",
      "Training (1525 / 2500 Steps) (loss=0.70391): 100%|████████████████████████████████████████| 7/7 [00:02<00:00,  2.42it/s]\n",
      "Training (1532 / 2500 Steps) (loss=0.94576): 100%|████████████████████████████████████████| 7/7 [00:02<00:00,  2.42it/s]\n",
      "Training (1539 / 2500 Steps) (loss=0.70119): 100%|████████████████████████████████████████| 7/7 [00:02<00:00,  2.45it/s]\n",
      "Training (1546 / 2500 Steps) (loss=0.69924): 100%|████████████████████████████████████████| 7/7 [00:03<00:00,  2.27it/s]\n",
      "Training (1550 / 2500 Steps) (loss=0.69800):  43%|█████████████████▏                      | 3/7 [00:02<00:02,  1.91it/s]\n",
      "Validate (X / X Steps) (dice=X.X):   0%|                                                         | 0/11 [00:00<?, ?it/s]\u001b[A\n",
      "Validate (1547 / 10 Steps):   0%|                                                                | 0/11 [00:01<?, ?it/s]\u001b[A\n",
      "Validate (1547 / 10 Steps):   9%|█████                                                   | 1/11 [00:01<00:11,  1.18s/it]\u001b[A\n",
      "Validate (1547 / 10 Steps):   9%|█████                                                   | 1/11 [00:01<00:11,  1.18s/it]\u001b[A\n",
      "Validate (1547 / 10 Steps):  18%|██████████▏                                             | 2/11 [00:01<00:06,  1.39it/s]\u001b[A\n",
      "Validate (1547 / 10 Steps):  18%|██████████▏                                             | 2/11 [00:01<00:06,  1.39it/s]\u001b[A\n",
      "Validate (1547 / 10 Steps):  27%|███████████████▎                                        | 3/11 [00:01<00:03,  2.17it/s]\u001b[A\n",
      "Validate (1547 / 10 Steps):  27%|███████████████▎                                        | 3/11 [00:01<00:03,  2.17it/s]\u001b[A\n",
      "Validate (1547 / 10 Steps):  27%|███████████████▎                                        | 3/11 [00:01<00:03,  2.17it/s]\u001b[A\n",
      "Validate (1547 / 10 Steps):  45%|█████████████████████████▍                              | 5/11 [00:01<00:01,  4.09it/s]\u001b[A\n",
      "Validate (1547 / 10 Steps):  45%|█████████████████████████▍                              | 5/11 [00:01<00:01,  4.09it/s]\u001b[A\n",
      "Validate (1547 / 10 Steps):  45%|█████████████████████████▍                              | 5/11 [00:02<00:01,  4.09it/s]\u001b[A\n",
      "Validate (1547 / 10 Steps):  64%|███████████████████████████████████▋                    | 7/11 [00:02<00:00,  5.94it/s]\u001b[A\n",
      "Validate (1547 / 10 Steps):  64%|███████████████████████████████████▋                    | 7/11 [00:02<00:00,  5.94it/s]\u001b[A\n",
      "Validate (1547 / 10 Steps):  73%|████████████████████████████████████████▋               | 8/11 [00:02<00:00,  4.71it/s]\u001b[A\n",
      "Validate (1547 / 10 Steps):  73%|████████████████████████████████████████▋               | 8/11 [00:02<00:00,  4.71it/s]\u001b[A\n",
      "Validate (1547 / 10 Steps):  82%|█████████████████████████████████████████████▊          | 9/11 [00:02<00:00,  4.71it/s]\u001b[A\n",
      "Validate (1547 / 10 Steps):  82%|█████████████████████████████████████████████▊          | 9/11 [00:02<00:00,  4.71it/s]\u001b[A\n",
      "Validate (1547 / 10 Steps):  91%|██████████████████████████████████████████████████     | 10/11 [00:02<00:00,  4.73it/s]\u001b[A\n",
      "Validate (1547 / 10 Steps):  91%|██████████████████████████████████████████████████     | 10/11 [00:02<00:00,  4.73it/s]\u001b[A\n",
      "Validate (1547 / 10 Steps): 100%|███████████████████████████████████████████████████████| 11/11 [00:03<00:00,  3.61it/s]\u001b[A\n",
      "Training (1550 / 2500 Steps) (loss=0.69800):  57%|██████████████████████▊                 | 4/7 [00:05<00:04,  1.63s/it]"
     ]
    },
    {
     "name": "stdout",
     "output_type": "stream",
     "text": [
      "Model Was Not Saved ! Current Best Avg. Dice: 0.8163575530052185 Current Avg. Dice: 0.8138827681541443\n"
     ]
    },
    {
     "name": "stderr",
     "output_type": "stream",
     "text": [
      "Training (1553 / 2500 Steps) (loss=0.80844): 100%|████████████████████████████████████████| 7/7 [00:06<00:00,  1.16it/s]\n",
      "Training (1560 / 2500 Steps) (loss=0.67513): 100%|████████████████████████████████████████| 7/7 [00:02<00:00,  2.43it/s]\n",
      "Training (1567 / 2500 Steps) (loss=0.84747): 100%|████████████████████████████████████████| 7/7 [00:03<00:00,  2.13it/s]\n",
      "Training (1574 / 2500 Steps) (loss=0.95426): 100%|████████████████████████████████████████| 7/7 [00:03<00:00,  2.29it/s]\n",
      "Training (1581 / 2500 Steps) (loss=0.78213): 100%|████████████████████████████████████████| 7/7 [00:03<00:00,  1.91it/s]\n",
      "Training (1588 / 2500 Steps) (loss=0.76513): 100%|████████████████████████████████████████| 7/7 [00:03<00:00,  2.19it/s]\n",
      "Training (1595 / 2500 Steps) (loss=0.79168): 100%|████████████████████████████████████████| 7/7 [00:03<00:00,  2.02it/s]\n",
      "Training (1600 / 2500 Steps) (loss=0.81738):  57%|██████████████████████▊                 | 4/7 [00:02<00:01,  2.01it/s]\n",
      "Validate (X / X Steps) (dice=X.X):   0%|                                                         | 0/11 [00:00<?, ?it/s]\u001b[A\n",
      "Validate (1596 / 10 Steps):   0%|                                                                | 0/11 [00:01<?, ?it/s]\u001b[A\n",
      "Validate (1596 / 10 Steps):   9%|█████                                                   | 1/11 [00:01<00:15,  1.54s/it]\u001b[A\n",
      "Validate (1596 / 10 Steps):   9%|█████                                                   | 1/11 [00:01<00:15,  1.54s/it]\u001b[A\n",
      "Validate (1596 / 10 Steps):  18%|██████████▏                                             | 2/11 [00:01<00:07,  1.19it/s]\u001b[A\n",
      "Validate (1596 / 10 Steps):  18%|██████████▏                                             | 2/11 [00:02<00:07,  1.19it/s]\u001b[A\n",
      "Validate (1596 / 10 Steps):  27%|███████████████▎                                        | 3/11 [00:02<00:04,  1.87it/s]\u001b[A\n",
      "Validate (1596 / 10 Steps):  27%|███████████████▎                                        | 3/11 [00:02<00:04,  1.87it/s]\u001b[A\n",
      "Validate (1596 / 10 Steps):  27%|███████████████▎                                        | 3/11 [00:02<00:04,  1.87it/s]\u001b[A\n",
      "Validate (1596 / 10 Steps):  45%|█████████████████████████▍                              | 5/11 [00:02<00:01,  3.58it/s]\u001b[A\n",
      "Validate (1596 / 10 Steps):  45%|█████████████████████████▍                              | 5/11 [00:02<00:01,  3.58it/s]\u001b[A\n",
      "Validate (1596 / 10 Steps):  45%|█████████████████████████▍                              | 5/11 [00:02<00:01,  3.58it/s]\u001b[A\n",
      "Validate (1596 / 10 Steps):  64%|███████████████████████████████████▋                    | 7/11 [00:02<00:00,  5.22it/s]\u001b[A\n",
      "Validate (1596 / 10 Steps):  64%|███████████████████████████████████▋                    | 7/11 [00:02<00:00,  5.22it/s]\u001b[A\n",
      "Validate (1596 / 10 Steps):  73%|████████████████████████████████████████▋               | 8/11 [00:02<00:00,  4.27it/s]\u001b[A\n",
      "Validate (1596 / 10 Steps):  73%|████████████████████████████████████████▋               | 8/11 [00:03<00:00,  4.27it/s]\u001b[A\n",
      "Validate (1596 / 10 Steps):  82%|█████████████████████████████████████████████▊          | 9/11 [00:03<00:00,  4.14it/s]\u001b[A\n",
      "Validate (1596 / 10 Steps):  82%|█████████████████████████████████████████████▊          | 9/11 [00:03<00:00,  4.14it/s]\u001b[A\n",
      "Validate (1596 / 10 Steps):  91%|██████████████████████████████████████████████████     | 10/11 [00:03<00:00,  4.13it/s]\u001b[A\n",
      "Validate (1596 / 10 Steps):  91%|██████████████████████████████████████████████████     | 10/11 [00:03<00:00,  4.13it/s]\u001b[A\n",
      "Validate (1596 / 10 Steps): 100%|███████████████████████████████████████████████████████| 11/11 [00:03<00:00,  3.09it/s]\u001b[A\n",
      "Training (1600 / 2500 Steps) (loss=0.81738):  71%|████████████████████████████▌           | 5/7 [00:06<00:03,  1.89s/it]"
     ]
    },
    {
     "name": "stdout",
     "output_type": "stream",
     "text": [
      "Model Was Saved ! Current Best Avg. Dice: 0.8164225220680237 Current Avg. Dice: 0.8164225220680237\n"
     ]
    },
    {
     "name": "stderr",
     "output_type": "stream",
     "text": [
      "Training (1602 / 2500 Steps) (loss=0.72276): 100%|████████████████████████████████████████| 7/7 [00:07<00:00,  1.05s/it]\n",
      "Training (1609 / 2500 Steps) (loss=0.88914): 100%|████████████████████████████████████████| 7/7 [00:03<00:00,  2.09it/s]\n",
      "Training (1616 / 2500 Steps) (loss=0.82032): 100%|████████████████████████████████████████| 7/7 [00:02<00:00,  2.42it/s]\n",
      "Training (1623 / 2500 Steps) (loss=0.90211): 100%|████████████████████████████████████████| 7/7 [00:03<00:00,  2.01it/s]\n",
      "Training (1630 / 2500 Steps) (loss=0.83261): 100%|████████████████████████████████████████| 7/7 [00:03<00:00,  2.32it/s]\n",
      "Training (1637 / 2500 Steps) (loss=0.69016): 100%|████████████████████████████████████████| 7/7 [00:02<00:00,  2.40it/s]\n",
      "Training (1644 / 2500 Steps) (loss=0.95706): 100%|████████████████████████████████████████| 7/7 [00:02<00:00,  2.43it/s]\n",
      "Training (1650 / 2500 Steps) (loss=0.96476):  71%|████████████████████████████▌           | 5/7 [00:02<00:00,  2.47it/s]\n",
      "Validate (X / X Steps) (dice=X.X):   0%|                                                         | 0/11 [00:00<?, ?it/s]\u001b[A\n",
      "Validate (1645 / 10 Steps):   0%|                                                                | 0/11 [00:01<?, ?it/s]\u001b[A\n",
      "Validate (1645 / 10 Steps):   9%|█████                                                   | 1/11 [00:01<00:11,  1.17s/it]\u001b[A\n",
      "Validate (1645 / 10 Steps):   9%|█████                                                   | 1/11 [00:01<00:11,  1.17s/it]\u001b[A\n",
      "Validate (1645 / 10 Steps):  18%|██████████▏                                             | 2/11 [00:01<00:06,  1.31it/s]\u001b[A\n",
      "Validate (1645 / 10 Steps):  18%|██████████▏                                             | 2/11 [00:01<00:06,  1.31it/s]\u001b[A\n",
      "Validate (1645 / 10 Steps):  27%|███████████████▎                                        | 3/11 [00:01<00:03,  2.06it/s]\u001b[A\n",
      "Validate (1645 / 10 Steps):  27%|███████████████▎                                        | 3/11 [00:01<00:03,  2.06it/s]\u001b[A\n",
      "Validate (1645 / 10 Steps):  27%|███████████████▎                                        | 3/11 [00:01<00:03,  2.06it/s]\u001b[A\n",
      "Validate (1645 / 10 Steps):  45%|█████████████████████████▍                              | 5/11 [00:01<00:01,  3.92it/s]\u001b[A\n",
      "Validate (1645 / 10 Steps):  45%|█████████████████████████▍                              | 5/11 [00:02<00:01,  3.92it/s]\u001b[A\n",
      "Validate (1645 / 10 Steps):  45%|█████████████████████████▍                              | 5/11 [00:02<00:01,  3.92it/s]\u001b[A\n",
      "Validate (1645 / 10 Steps):  64%|███████████████████████████████████▋                    | 7/11 [00:02<00:00,  5.70it/s]\u001b[A\n",
      "Validate (1645 / 10 Steps):  64%|███████████████████████████████████▋                    | 7/11 [00:02<00:00,  5.70it/s]\u001b[A\n",
      "Validate (1645 / 10 Steps):  73%|████████████████████████████████████████▋               | 8/11 [00:02<00:00,  5.06it/s]\u001b[A\n",
      "Validate (1645 / 10 Steps):  73%|████████████████████████████████████████▋               | 8/11 [00:02<00:00,  5.06it/s]\u001b[A\n",
      "Validate (1645 / 10 Steps):  82%|█████████████████████████████████████████████▊          | 9/11 [00:02<00:00,  4.81it/s]\u001b[A\n",
      "Validate (1645 / 10 Steps):  82%|█████████████████████████████████████████████▊          | 9/11 [00:02<00:00,  4.81it/s]\u001b[A\n",
      "Validate (1645 / 10 Steps):  91%|██████████████████████████████████████████████████     | 10/11 [00:02<00:00,  4.69it/s]\u001b[A\n",
      "Validate (1645 / 10 Steps):  91%|██████████████████████████████████████████████████     | 10/11 [00:03<00:00,  4.69it/s]\u001b[A\n",
      "Validate (1645 / 10 Steps): 100%|███████████████████████████████████████████████████████| 11/11 [00:03<00:00,  3.52it/s]\u001b[A\n",
      "Training (1651 / 2500 Steps) (loss=1.05494): 100%|████████████████████████████████████████| 7/7 [00:06<00:00,  1.02s/it]"
     ]
    },
    {
     "name": "stdout",
     "output_type": "stream",
     "text": [
      "Model Was Not Saved ! Current Best Avg. Dice: 0.8164225220680237 Current Avg. Dice: 0.8017892241477966\n"
     ]
    },
    {
     "name": "stderr",
     "output_type": "stream",
     "text": [
      "Training (1651 / 2500 Steps) (loss=1.05494): 100%|████████████████████████████████████████| 7/7 [00:06<00:00,  1.11it/s]\n",
      "Training (1658 / 2500 Steps) (loss=0.98666): 100%|████████████████████████████████████████| 7/7 [00:02<00:00,  2.38it/s]\n",
      "Training (1665 / 2500 Steps) (loss=0.68405): 100%|████████████████████████████████████████| 7/7 [00:02<00:00,  2.34it/s]\n",
      "Training (1672 / 2500 Steps) (loss=0.70309): 100%|████████████████████████████████████████| 7/7 [00:03<00:00,  2.24it/s]\n",
      "Training (1679 / 2500 Steps) (loss=0.73808): 100%|████████████████████████████████████████| 7/7 [00:02<00:00,  2.44it/s]\n",
      "Training (1686 / 2500 Steps) (loss=0.80782): 100%|████████████████████████████████████████| 7/7 [00:03<00:00,  2.27it/s]\n",
      "Training (1693 / 2500 Steps) (loss=0.68719): 100%|████████████████████████████████████████| 7/7 [00:03<00:00,  2.16it/s]\n",
      "Training (1700 / 2500 Steps) (loss=0.65195):  86%|██████████████████████████████████▎     | 6/7 [00:02<00:00,  2.83it/s]\n",
      "Validate (X / X Steps) (dice=X.X):   0%|                                                         | 0/11 [00:00<?, ?it/s]\u001b[A\n",
      "Validate (1694 / 10 Steps):   0%|                                                                | 0/11 [00:01<?, ?it/s]\u001b[A\n",
      "Validate (1694 / 10 Steps):   9%|█████                                                   | 1/11 [00:01<00:11,  1.15s/it]\u001b[A\n",
      "Validate (1694 / 10 Steps):   9%|█████                                                   | 1/11 [00:01<00:11,  1.15s/it]\u001b[A\n",
      "Validate (1694 / 10 Steps):  18%|██████████▏                                             | 2/11 [00:01<00:05,  1.54it/s]\u001b[A\n",
      "Validate (1694 / 10 Steps):  18%|██████████▏                                             | 2/11 [00:01<00:05,  1.54it/s]\u001b[A\n",
      "Validate (1694 / 10 Steps):  27%|███████████████▎                                        | 3/11 [00:01<00:03,  2.35it/s]\u001b[A\n",
      "Validate (1694 / 10 Steps):  27%|███████████████▎                                        | 3/11 [00:01<00:03,  2.35it/s]\u001b[A\n",
      "Validate (1694 / 10 Steps):  27%|███████████████▎                                        | 3/11 [00:01<00:03,  2.35it/s]\u001b[A\n",
      "Validate (1694 / 10 Steps):  45%|█████████████████████████▍                              | 5/11 [00:01<00:01,  4.40it/s]\u001b[A\n",
      "Validate (1694 / 10 Steps):  45%|█████████████████████████▍                              | 5/11 [00:01<00:01,  4.40it/s]\u001b[A\n",
      "Validate (1694 / 10 Steps):  55%|██████████████████████████████▌                         | 6/11 [00:01<00:00,  5.11it/s]\u001b[A\n",
      "Validate (1694 / 10 Steps):  55%|██████████████████████████████▌                         | 6/11 [00:01<00:00,  5.11it/s]\u001b[A\n",
      "Validate (1694 / 10 Steps):  55%|██████████████████████████████▌                         | 6/11 [00:02<00:00,  5.11it/s]\u001b[A\n",
      "Validate (1694 / 10 Steps):  73%|████████████████████████████████████████▋               | 8/11 [00:02<00:00,  5.24it/s]\u001b[A\n",
      "Validate (1694 / 10 Steps):  73%|████████████████████████████████████████▋               | 8/11 [00:02<00:00,  5.24it/s]\u001b[A\n",
      "Validate (1694 / 10 Steps):  82%|█████████████████████████████████████████████▊          | 9/11 [00:02<00:00,  5.12it/s]\u001b[A\n",
      "Validate (1694 / 10 Steps):  82%|█████████████████████████████████████████████▊          | 9/11 [00:02<00:00,  5.12it/s]\u001b[A\n",
      "Validate (1694 / 10 Steps):  91%|██████████████████████████████████████████████████     | 10/11 [00:02<00:00,  4.95it/s]\u001b[A\n",
      "Validate (1694 / 10 Steps):  91%|██████████████████████████████████████████████████     | 10/11 [00:02<00:00,  4.95it/s]\u001b[A\n",
      "Validate (1694 / 10 Steps): 100%|███████████████████████████████████████████████████████| 11/11 [00:02<00:00,  3.75it/s]\u001b[A\n",
      "Training (1700 / 2500 Steps) (loss=0.65195): 100%|████████████████████████████████████████| 7/7 [00:05<00:00,  1.17it/s]\n"
     ]
    },
    {
     "name": "stdout",
     "output_type": "stream",
     "text": [
      "Model Was Not Saved ! Current Best Avg. Dice: 0.8164225220680237 Current Avg. Dice: 0.8089268207550049\n"
     ]
    },
    {
     "name": "stderr",
     "output_type": "stream",
     "text": [
      "Training (1707 / 2500 Steps) (loss=0.97298): 100%|████████████████████████████████████████| 7/7 [00:03<00:00,  2.25it/s]\n",
      "Training (1714 / 2500 Steps) (loss=0.78635): 100%|████████████████████████████████████████| 7/7 [00:02<00:00,  2.39it/s]\n",
      "Training (1721 / 2500 Steps) (loss=0.69857): 100%|████████████████████████████████████████| 7/7 [00:03<00:00,  2.27it/s]\n",
      "Training (1728 / 2500 Steps) (loss=0.58907): 100%|████████████████████████████████████████| 7/7 [00:03<00:00,  2.28it/s]\n",
      "Training (1735 / 2500 Steps) (loss=0.88977): 100%|████████████████████████████████████████| 7/7 [00:03<00:00,  2.20it/s]\n",
      "Training (1742 / 2500 Steps) (loss=0.71697): 100%|████████████████████████████████████████| 7/7 [00:02<00:00,  2.46it/s]\n",
      "Training (1749 / 2500 Steps) (loss=0.81144): 100%|████████████████████████████████████████| 7/7 [00:03<00:00,  2.27it/s]\n",
      "Training (1750 / 2500 Steps) (loss=0.80908):   0%|                                                | 0/7 [00:00<?, ?it/s]\n",
      "Validate (X / X Steps) (dice=X.X):   0%|                                                         | 0/11 [00:00<?, ?it/s]\u001b[A\n",
      "Validate (1750 / 10 Steps):   0%|                                                                | 0/11 [00:01<?, ?it/s]\u001b[A\n",
      "Validate (1750 / 10 Steps):   9%|█████                                                   | 1/11 [00:01<00:16,  1.60s/it]\u001b[A\n",
      "Validate (1750 / 10 Steps):   9%|█████                                                   | 1/11 [00:01<00:16,  1.60s/it]\u001b[A\n",
      "Validate (1750 / 10 Steps):  18%|██████████▏                                             | 2/11 [00:01<00:07,  1.14it/s]\u001b[A\n",
      "Validate (1750 / 10 Steps):  18%|██████████▏                                             | 2/11 [00:02<00:07,  1.14it/s]\u001b[A\n",
      "Validate (1750 / 10 Steps):  27%|███████████████▎                                        | 3/11 [00:02<00:04,  1.82it/s]\u001b[A\n",
      "Validate (1750 / 10 Steps):  27%|███████████████▎                                        | 3/11 [00:02<00:04,  1.82it/s]\u001b[A\n",
      "Validate (1750 / 10 Steps):  36%|████████████████████▎                                   | 4/11 [00:02<00:02,  2.58it/s]\u001b[A\n",
      "Validate (1750 / 10 Steps):  36%|████████████████████▎                                   | 4/11 [00:02<00:02,  2.58it/s]\u001b[A\n",
      "Validate (1750 / 10 Steps):  36%|████████████████████▎                                   | 4/11 [00:02<00:02,  2.58it/s]\u001b[A\n",
      "Validate (1750 / 10 Steps):  55%|██████████████████████████████▌                         | 6/11 [00:02<00:01,  4.34it/s]\u001b[A\n",
      "Validate (1750 / 10 Steps):  55%|██████████████████████████████▌                         | 6/11 [00:02<00:01,  4.34it/s]\u001b[A\n",
      "Validate (1750 / 10 Steps):  64%|███████████████████████████████████▋                    | 7/11 [00:02<00:00,  5.11it/s]\u001b[A\n",
      "Validate (1750 / 10 Steps):  64%|███████████████████████████████████▋                    | 7/11 [00:02<00:00,  5.11it/s]\u001b[A\n",
      "Validate (1750 / 10 Steps):  73%|████████████████████████████████████████▋               | 8/11 [00:02<00:00,  4.74it/s]\u001b[A\n",
      "Validate (1750 / 10 Steps):  73%|████████████████████████████████████████▋               | 8/11 [00:03<00:00,  4.74it/s]\u001b[A\n",
      "Validate (1750 / 10 Steps):  82%|█████████████████████████████████████████████▊          | 9/11 [00:03<00:00,  4.71it/s]\u001b[A\n",
      "Validate (1750 / 10 Steps):  82%|█████████████████████████████████████████████▊          | 9/11 [00:03<00:00,  4.71it/s]\u001b[A\n",
      "Validate (1750 / 10 Steps):  91%|██████████████████████████████████████████████████     | 10/11 [00:03<00:00,  4.52it/s]\u001b[A\n",
      "Validate (1750 / 10 Steps):  91%|██████████████████████████████████████████████████     | 10/11 [00:03<00:00,  4.52it/s]\u001b[A\n",
      "Validate (1750 / 10 Steps): 100%|███████████████████████████████████████████████████████| 11/11 [00:03<00:00,  3.11it/s]\u001b[A\n",
      "Training (1750 / 2500 Steps) (loss=0.80908):  14%|█████▋                                  | 1/7 [00:04<00:26,  4.46s/it]"
     ]
    },
    {
     "name": "stdout",
     "output_type": "stream",
     "text": [
      "Model Was Not Saved ! Current Best Avg. Dice: 0.8164225220680237 Current Avg. Dice: 0.7917594313621521\n"
     ]
    },
    {
     "name": "stderr",
     "output_type": "stream",
     "text": [
      "Training (1756 / 2500 Steps) (loss=0.88960): 100%|████████████████████████████████████████| 7/7 [00:06<00:00,  1.14it/s]\n",
      "Training (1763 / 2500 Steps) (loss=0.65768): 100%|████████████████████████████████████████| 7/7 [00:02<00:00,  2.45it/s]\n",
      "Training (1770 / 2500 Steps) (loss=0.66480): 100%|████████████████████████████████████████| 7/7 [00:03<00:00,  2.24it/s]\n",
      "Training (1777 / 2500 Steps) (loss=0.60301): 100%|████████████████████████████████████████| 7/7 [00:03<00:00,  2.16it/s]\n",
      "Training (1784 / 2500 Steps) (loss=0.72647): 100%|████████████████████████████████████████| 7/7 [00:02<00:00,  2.36it/s]\n",
      "Training (1791 / 2500 Steps) (loss=0.75899): 100%|████████████████████████████████████████| 7/7 [00:03<00:00,  2.30it/s]\n",
      "Training (1798 / 2500 Steps) (loss=0.72610): 100%|████████████████████████████████████████| 7/7 [00:03<00:00,  2.31it/s]\n",
      "Training (1800 / 2500 Steps) (loss=0.86226):  14%|█████▋                                  | 1/7 [00:01<00:06,  1.05s/it]\n",
      "Validate (X / X Steps) (dice=X.X):   0%|                                                         | 0/11 [00:00<?, ?it/s]\u001b[A\n",
      "Validate (1799 / 10 Steps):   0%|                                                                | 0/11 [00:01<?, ?it/s]\u001b[A\n",
      "Validate (1799 / 10 Steps):   9%|█████                                                   | 1/11 [00:01<00:12,  1.24s/it]\u001b[A\n",
      "Validate (1799 / 10 Steps):   9%|█████                                                   | 1/11 [00:01<00:12,  1.24s/it]\u001b[A\n",
      "Validate (1799 / 10 Steps):  18%|██████████▏                                             | 2/11 [00:01<00:06,  1.47it/s]\u001b[A\n",
      "Validate (1799 / 10 Steps):  18%|██████████▏                                             | 2/11 [00:01<00:06,  1.47it/s]\u001b[A\n",
      "Validate (1799 / 10 Steps):  27%|███████████████▎                                        | 3/11 [00:01<00:03,  2.28it/s]\u001b[A\n",
      "Validate (1799 / 10 Steps):  27%|███████████████▎                                        | 3/11 [00:01<00:03,  2.28it/s]\u001b[A\n",
      "Validate (1799 / 10 Steps):  27%|███████████████▎                                        | 3/11 [00:01<00:03,  2.28it/s]\u001b[A\n",
      "Validate (1799 / 10 Steps):  45%|█████████████████████████▍                              | 5/11 [00:01<00:01,  4.31it/s]\u001b[A\n",
      "Validate (1799 / 10 Steps):  45%|█████████████████████████▍                              | 5/11 [00:01<00:01,  4.31it/s]\u001b[A\n",
      "Validate (1799 / 10 Steps):  45%|█████████████████████████▍                              | 5/11 [00:01<00:01,  4.31it/s]\u001b[A\n",
      "Validate (1799 / 10 Steps):  64%|███████████████████████████████████▋                    | 7/11 [00:01<00:00,  6.19it/s]\u001b[A\n",
      "Validate (1799 / 10 Steps):  64%|███████████████████████████████████▋                    | 7/11 [00:02<00:00,  6.19it/s]\u001b[A\n",
      "Validate (1799 / 10 Steps):  73%|████████████████████████████████████████▋               | 8/11 [00:02<00:00,  5.07it/s]\u001b[A\n",
      "Validate (1799 / 10 Steps):  73%|████████████████████████████████████████▋               | 8/11 [00:02<00:00,  5.07it/s]\u001b[A\n",
      "Validate (1799 / 10 Steps):  82%|█████████████████████████████████████████████▊          | 9/11 [00:02<00:00,  4.87it/s]\u001b[A\n",
      "Validate (1799 / 10 Steps):  82%|█████████████████████████████████████████████▊          | 9/11 [00:02<00:00,  4.87it/s]\u001b[A\n",
      "Validate (1799 / 10 Steps):  91%|██████████████████████████████████████████████████     | 10/11 [00:02<00:00,  4.62it/s]\u001b[A\n",
      "Validate (1799 / 10 Steps):  91%|██████████████████████████████████████████████████     | 10/11 [00:02<00:00,  4.62it/s]\u001b[A\n",
      "Validate (1799 / 10 Steps): 100%|███████████████████████████████████████████████████████| 11/11 [00:03<00:00,  3.63it/s]\u001b[A\n",
      "Training (1800 / 2500 Steps) (loss=0.86226):  29%|███████████▍                            | 2/7 [00:04<00:12,  2.52s/it]"
     ]
    },
    {
     "name": "stdout",
     "output_type": "stream",
     "text": [
      "Model Was Not Saved ! Current Best Avg. Dice: 0.8164225220680237 Current Avg. Dice: 0.7883405089378357\n"
     ]
    },
    {
     "name": "stderr",
     "output_type": "stream",
     "text": [
      "Training (1805 / 2500 Steps) (loss=0.60176): 100%|████████████████████████████████████████| 7/7 [00:06<00:00,  1.17it/s]\n",
      "Training (1812 / 2500 Steps) (loss=0.85066): 100%|████████████████████████████████████████| 7/7 [00:02<00:00,  2.41it/s]\n",
      "Training (1819 / 2500 Steps) (loss=0.95788): 100%|████████████████████████████████████████| 7/7 [00:03<00:00,  2.29it/s]\n",
      "Training (1826 / 2500 Steps) (loss=0.74938): 100%|████████████████████████████████████████| 7/7 [00:02<00:00,  2.43it/s]\n",
      "Training (1833 / 2500 Steps) (loss=0.82123): 100%|████████████████████████████████████████| 7/7 [00:02<00:00,  2.46it/s]\n",
      "Training (1840 / 2500 Steps) (loss=0.74097): 100%|████████████████████████████████████████| 7/7 [00:02<00:00,  2.44it/s]\n",
      "Training (1847 / 2500 Steps) (loss=0.63802): 100%|████████████████████████████████████████| 7/7 [00:02<00:00,  2.42it/s]\n",
      "Training (1850 / 2500 Steps) (loss=0.81442):  29%|███████████▍                            | 2/7 [00:01<00:03,  1.34it/s]\n",
      "Validate (X / X Steps) (dice=X.X):   0%|                                                         | 0/11 [00:00<?, ?it/s]\u001b[A\n",
      "Validate (1848 / 10 Steps):   0%|                                                                | 0/11 [00:01<?, ?it/s]\u001b[A\n",
      "Validate (1848 / 10 Steps):   9%|█████                                                   | 1/11 [00:01<00:12,  1.20s/it]\u001b[A\n",
      "Validate (1848 / 10 Steps):   9%|█████                                                   | 1/11 [00:01<00:12,  1.20s/it]\u001b[A\n",
      "Validate (1848 / 10 Steps):  18%|██████████▏                                             | 2/11 [00:01<00:06,  1.31it/s]\u001b[A\n",
      "Validate (1848 / 10 Steps):  18%|██████████▏                                             | 2/11 [00:01<00:06,  1.31it/s]\u001b[A\n",
      "Validate (1848 / 10 Steps):  27%|███████████████▎                                        | 3/11 [00:01<00:03,  2.02it/s]\u001b[A\n",
      "Validate (1848 / 10 Steps):  27%|███████████████▎                                        | 3/11 [00:01<00:03,  2.02it/s]\u001b[A\n",
      "Validate (1848 / 10 Steps):  27%|███████████████▎                                        | 3/11 [00:02<00:03,  2.02it/s]\u001b[A\n",
      "Validate (1848 / 10 Steps):  45%|█████████████████████████▍                              | 5/11 [00:02<00:01,  3.78it/s]\u001b[A\n",
      "Validate (1848 / 10 Steps):  45%|█████████████████████████▍                              | 5/11 [00:02<00:01,  3.78it/s]\u001b[A\n",
      "Validate (1848 / 10 Steps):  55%|██████████████████████████████▌                         | 6/11 [00:02<00:01,  4.54it/s]\u001b[A\n",
      "Validate (1848 / 10 Steps):  55%|██████████████████████████████▌                         | 6/11 [00:02<00:01,  4.54it/s]\u001b[A\n",
      "Validate (1848 / 10 Steps):  55%|██████████████████████████████▌                         | 6/11 [00:02<00:01,  4.54it/s]\u001b[A\n",
      "Validate (1848 / 10 Steps):  73%|████████████████████████████████████████▋               | 8/11 [00:02<00:00,  4.64it/s]\u001b[A\n",
      "Validate (1848 / 10 Steps):  73%|████████████████████████████████████████▋               | 8/11 [00:02<00:00,  4.64it/s]\u001b[A\n",
      "Validate (1848 / 10 Steps):  82%|█████████████████████████████████████████████▊          | 9/11 [00:02<00:00,  4.44it/s]\u001b[A\n",
      "Validate (1848 / 10 Steps):  82%|█████████████████████████████████████████████▊          | 9/11 [00:03<00:00,  4.44it/s]\u001b[A\n",
      "Validate (1848 / 10 Steps):  91%|██████████████████████████████████████████████████     | 10/11 [00:03<00:00,  4.42it/s]\u001b[A\n",
      "Validate (1848 / 10 Steps):  91%|██████████████████████████████████████████████████     | 10/11 [00:03<00:00,  4.42it/s]\u001b[A\n",
      "Validate (1848 / 10 Steps): 100%|███████████████████████████████████████████████████████| 11/11 [00:03<00:00,  3.29it/s]\u001b[A\n",
      "Training (1850 / 2500 Steps) (loss=0.81442):  43%|█████████████████▏                      | 3/7 [00:05<00:08,  2.07s/it]"
     ]
    },
    {
     "name": "stdout",
     "output_type": "stream",
     "text": [
      "Model Was Not Saved ! Current Best Avg. Dice: 0.8164225220680237 Current Avg. Dice: 0.812376081943512\n"
     ]
    },
    {
     "name": "stderr",
     "output_type": "stream",
     "text": [
      "Training (1854 / 2500 Steps) (loss=0.64147): 100%|████████████████████████████████████████| 7/7 [00:06<00:00,  1.08it/s]\n",
      "Training (1861 / 2500 Steps) (loss=0.66686): 100%|████████████████████████████████████████| 7/7 [00:03<00:00,  2.28it/s]\n",
      "Training (1868 / 2500 Steps) (loss=0.79913): 100%|████████████████████████████████████████| 7/7 [00:03<00:00,  1.94it/s]\n",
      "Training (1875 / 2500 Steps) (loss=0.77457): 100%|████████████████████████████████████████| 7/7 [00:02<00:00,  2.39it/s]\n",
      "Training (1882 / 2500 Steps) (loss=0.77840): 100%|████████████████████████████████████████| 7/7 [00:02<00:00,  2.47it/s]\n",
      "Training (1889 / 2500 Steps) (loss=0.67323): 100%|████████████████████████████████████████| 7/7 [00:02<00:00,  2.39it/s]\n",
      "Training (1896 / 2500 Steps) (loss=0.59881): 100%|████████████████████████████████████████| 7/7 [00:03<00:00,  2.28it/s]\n",
      "Training (1900 / 2500 Steps) (loss=0.79240):  43%|█████████████████▏                      | 3/7 [00:02<00:02,  1.88it/s]\n",
      "Validate (X / X Steps) (dice=X.X):   0%|                                                         | 0/11 [00:00<?, ?it/s]\u001b[A\n",
      "Validate (1897 / 10 Steps):   0%|                                                                | 0/11 [00:01<?, ?it/s]\u001b[A\n",
      "Validate (1897 / 10 Steps):   9%|█████                                                   | 1/11 [00:01<00:12,  1.25s/it]\u001b[A\n",
      "Validate (1897 / 10 Steps):   9%|█████                                                   | 1/11 [00:01<00:12,  1.25s/it]\u001b[A\n",
      "Validate (1897 / 10 Steps):  18%|██████████▏                                             | 2/11 [00:01<00:06,  1.42it/s]\u001b[A\n",
      "Validate (1897 / 10 Steps):  18%|██████████▏                                             | 2/11 [00:01<00:06,  1.42it/s]\u001b[A\n",
      "Validate (1897 / 10 Steps):  27%|███████████████▎                                        | 3/11 [00:01<00:03,  2.22it/s]\u001b[A\n",
      "Validate (1897 / 10 Steps):  27%|███████████████▎                                        | 3/11 [00:01<00:03,  2.22it/s]\u001b[A\n",
      "Validate (1897 / 10 Steps):  27%|███████████████▎                                        | 3/11 [00:01<00:03,  2.22it/s]\u001b[A\n",
      "Validate (1897 / 10 Steps):  45%|█████████████████████████▍                              | 5/11 [00:01<00:01,  4.18it/s]\u001b[A\n",
      "Validate (1897 / 10 Steps):  45%|█████████████████████████▍                              | 5/11 [00:01<00:01,  4.18it/s]\u001b[A\n",
      "Validate (1897 / 10 Steps):  45%|█████████████████████████▍                              | 5/11 [00:02<00:01,  4.18it/s]\u001b[A\n",
      "Validate (1897 / 10 Steps):  64%|███████████████████████████████████▋                    | 7/11 [00:02<00:00,  5.74it/s]\u001b[A\n",
      "Validate (1897 / 10 Steps):  64%|███████████████████████████████████▋                    | 7/11 [00:02<00:00,  5.74it/s]\u001b[A\n",
      "Validate (1897 / 10 Steps):  73%|████████████████████████████████████████▋               | 8/11 [00:02<00:00,  5.09it/s]\u001b[A\n",
      "Validate (1897 / 10 Steps):  73%|████████████████████████████████████████▋               | 8/11 [00:02<00:00,  5.09it/s]\u001b[A\n",
      "Validate (1897 / 10 Steps):  82%|█████████████████████████████████████████████▊          | 9/11 [00:02<00:00,  4.74it/s]\u001b[A\n",
      "Validate (1897 / 10 Steps):  82%|█████████████████████████████████████████████▊          | 9/11 [00:02<00:00,  4.74it/s]\u001b[A\n",
      "Validate (1897 / 10 Steps):  91%|██████████████████████████████████████████████████     | 10/11 [00:02<00:00,  4.68it/s]\u001b[A\n",
      "Validate (1897 / 10 Steps):  91%|██████████████████████████████████████████████████     | 10/11 [00:02<00:00,  4.68it/s]\u001b[A\n",
      "Validate (1897 / 10 Steps): 100%|███████████████████████████████████████████████████████| 11/11 [00:03<00:00,  3.62it/s]\u001b[A\n",
      "Training (1900 / 2500 Steps) (loss=0.79240):  57%|██████████████████████▊                 | 4/7 [00:05<00:04,  1.64s/it]"
     ]
    },
    {
     "name": "stdout",
     "output_type": "stream",
     "text": [
      "Model Was Not Saved ! Current Best Avg. Dice: 0.8164225220680237 Current Avg. Dice: 0.8065515160560608\n"
     ]
    },
    {
     "name": "stderr",
     "output_type": "stream",
     "text": [
      "Training (1903 / 2500 Steps) (loss=0.82557): 100%|████████████████████████████████████████| 7/7 [00:06<00:00,  1.15it/s]\n",
      "Training (1910 / 2500 Steps) (loss=0.88582): 100%|████████████████████████████████████████| 7/7 [00:03<00:00,  2.05it/s]\n",
      "Training (1917 / 2500 Steps) (loss=0.78615): 100%|████████████████████████████████████████| 7/7 [00:03<00:00,  2.26it/s]\n",
      "Training (1924 / 2500 Steps) (loss=0.82845): 100%|████████████████████████████████████████| 7/7 [00:03<00:00,  2.26it/s]\n",
      "Training (1931 / 2500 Steps) (loss=0.92872): 100%|████████████████████████████████████████| 7/7 [00:03<00:00,  2.30it/s]\n",
      "Training (1938 / 2500 Steps) (loss=0.95067): 100%|████████████████████████████████████████| 7/7 [00:02<00:00,  2.38it/s]\n",
      "Training (1945 / 2500 Steps) (loss=0.71206): 100%|████████████████████████████████████████| 7/7 [00:03<00:00,  2.16it/s]\n",
      "Training (1950 / 2500 Steps) (loss=0.87769):  57%|██████████████████████▊                 | 4/7 [00:02<00:01,  1.92it/s]\n",
      "Validate (X / X Steps) (dice=X.X):   0%|                                                         | 0/11 [00:00<?, ?it/s]\u001b[A\n",
      "Validate (1946 / 10 Steps):   0%|                                                                | 0/11 [00:02<?, ?it/s]\u001b[A\n",
      "Validate (1946 / 10 Steps):   9%|█████                                                   | 1/11 [00:02<00:21,  2.20s/it]\u001b[A\n",
      "Validate (1946 / 10 Steps):   9%|█████                                                   | 1/11 [00:02<00:21,  2.20s/it]\u001b[A\n",
      "Validate (1946 / 10 Steps):  18%|██████████▏                                             | 2/11 [00:02<00:09,  1.09s/it]\u001b[A\n",
      "Validate (1946 / 10 Steps):  18%|██████████▏                                             | 2/11 [00:02<00:09,  1.09s/it]\u001b[A\n",
      "Validate (1946 / 10 Steps):  27%|███████████████▎                                        | 3/11 [00:02<00:05,  1.46it/s]\u001b[A\n",
      "Validate (1946 / 10 Steps):  27%|███████████████▎                                        | 3/11 [00:02<00:05,  1.46it/s]\u001b[A\n",
      "Validate (1946 / 10 Steps):  27%|███████████████▎                                        | 3/11 [00:02<00:05,  1.46it/s]\u001b[A\n",
      "Validate (1946 / 10 Steps):  45%|█████████████████████████▍                              | 5/11 [00:02<00:02,  2.91it/s]\u001b[A\n",
      "Validate (1946 / 10 Steps):  45%|█████████████████████████▍                              | 5/11 [00:02<00:02,  2.91it/s]\u001b[A\n",
      "Validate (1946 / 10 Steps):  55%|██████████████████████████████▌                         | 6/11 [00:02<00:01,  3.59it/s]\u001b[A\n",
      "Validate (1946 / 10 Steps):  55%|██████████████████████████████▌                         | 6/11 [00:03<00:01,  3.59it/s]\u001b[A\n",
      "Validate (1946 / 10 Steps):  64%|███████████████████████████████████▋                    | 7/11 [00:03<00:00,  4.13it/s]\u001b[A\n",
      "Validate (1946 / 10 Steps):  64%|███████████████████████████████████▋                    | 7/11 [00:03<00:00,  4.13it/s]\u001b[A\n",
      "Validate (1946 / 10 Steps):  73%|████████████████████████████████████████▋               | 8/11 [00:03<00:00,  3.77it/s]\u001b[A\n",
      "Validate (1946 / 10 Steps):  73%|████████████████████████████████████████▋               | 8/11 [00:03<00:00,  3.77it/s]\u001b[A\n",
      "Validate (1946 / 10 Steps):  82%|█████████████████████████████████████████████▊          | 9/11 [00:03<00:00,  3.63it/s]\u001b[A\n",
      "Validate (1946 / 10 Steps):  82%|█████████████████████████████████████████████▊          | 9/11 [00:03<00:00,  3.63it/s]\u001b[A\n",
      "Validate (1946 / 10 Steps):  91%|██████████████████████████████████████████████████     | 10/11 [00:03<00:00,  3.97it/s]\u001b[A\n",
      "Validate (1946 / 10 Steps):  91%|██████████████████████████████████████████████████     | 10/11 [00:04<00:00,  3.97it/s]\u001b[A\n",
      "Validate (1946 / 10 Steps): 100%|███████████████████████████████████████████████████████| 11/11 [00:04<00:00,  2.58it/s]\u001b[A\n",
      "Training (1950 / 2500 Steps) (loss=0.87769):  71%|████████████████████████████▌           | 5/7 [00:07<00:04,  2.00s/it]"
     ]
    },
    {
     "name": "stdout",
     "output_type": "stream",
     "text": [
      "Model Was Not Saved ! Current Best Avg. Dice: 0.8164225220680237 Current Avg. Dice: 0.8073303699493408\n"
     ]
    },
    {
     "name": "stderr",
     "output_type": "stream",
     "text": [
      "Training (1952 / 2500 Steps) (loss=0.63653): 100%|████████████████████████████████████████| 7/7 [00:07<00:00,  1.09s/it]\n",
      "Training (1959 / 2500 Steps) (loss=0.71883): 100%|████████████████████████████████████████| 7/7 [00:03<00:00,  2.33it/s]\n",
      "Training (1966 / 2500 Steps) (loss=0.93472): 100%|████████████████████████████████████████| 7/7 [00:02<00:00,  2.37it/s]\n",
      "Training (1973 / 2500 Steps) (loss=0.82149): 100%|████████████████████████████████████████| 7/7 [00:03<00:00,  2.28it/s]\n",
      "Training (1980 / 2500 Steps) (loss=0.69316): 100%|████████████████████████████████████████| 7/7 [00:03<00:00,  2.28it/s]\n",
      "Training (1987 / 2500 Steps) (loss=0.69696): 100%|████████████████████████████████████████| 7/7 [00:03<00:00,  2.22it/s]\n",
      "Training (1994 / 2500 Steps) (loss=0.83553): 100%|████████████████████████████████████████| 7/7 [00:03<00:00,  2.13it/s]\n",
      "Training (2000 / 2500 Steps) (loss=0.68948):  71%|████████████████████████████▌           | 5/7 [00:03<00:01,  1.90it/s]\n",
      "Validate (X / X Steps) (dice=X.X):   0%|                                                         | 0/11 [00:00<?, ?it/s]\u001b[A\n",
      "Validate (1995 / 10 Steps):   0%|                                                                | 0/11 [00:01<?, ?it/s]\u001b[A\n",
      "Validate (1995 / 10 Steps):   9%|█████                                                   | 1/11 [00:01<00:13,  1.38s/it]\u001b[A\n",
      "Validate (1995 / 10 Steps):   9%|█████                                                   | 1/11 [00:01<00:13,  1.38s/it]\u001b[A\n",
      "Validate (1995 / 10 Steps):  18%|██████████▏                                             | 2/11 [00:01<00:06,  1.34it/s]\u001b[A\n",
      "Validate (1995 / 10 Steps):  18%|██████████▏                                             | 2/11 [00:01<00:06,  1.34it/s]\u001b[A\n",
      "Validate (1995 / 10 Steps):  27%|███████████████▎                                        | 3/11 [00:01<00:03,  2.06it/s]\u001b[A\n",
      "Validate (1995 / 10 Steps):  27%|███████████████▎                                        | 3/11 [00:01<00:03,  2.06it/s]\u001b[A\n",
      "Validate (1995 / 10 Steps):  27%|███████████████▎                                        | 3/11 [00:02<00:03,  2.06it/s]\u001b[A\n",
      "Validate (1995 / 10 Steps):  45%|█████████████████████████▍                              | 5/11 [00:02<00:01,  3.84it/s]\u001b[A\n",
      "Validate (1995 / 10 Steps):  45%|█████████████████████████▍                              | 5/11 [00:02<00:01,  3.84it/s]\u001b[A\n",
      "Validate (1995 / 10 Steps):  45%|█████████████████████████▍                              | 5/11 [00:02<00:01,  3.84it/s]\u001b[A\n",
      "Validate (1995 / 10 Steps):  64%|███████████████████████████████████▋                    | 7/11 [00:02<00:00,  5.31it/s]\u001b[A\n",
      "Validate (1995 / 10 Steps):  64%|███████████████████████████████████▋                    | 7/11 [00:02<00:00,  5.31it/s]\u001b[A\n",
      "Validate (1995 / 10 Steps):  73%|████████████████████████████████████████▋               | 8/11 [00:02<00:00,  4.36it/s]\u001b[A\n",
      "Validate (1995 / 10 Steps):  73%|████████████████████████████████████████▋               | 8/11 [00:02<00:00,  4.36it/s]\u001b[A\n",
      "Validate (1995 / 10 Steps):  82%|█████████████████████████████████████████████▊          | 9/11 [00:02<00:00,  4.25it/s]\u001b[A\n",
      "Validate (1995 / 10 Steps):  82%|█████████████████████████████████████████████▊          | 9/11 [00:03<00:00,  4.25it/s]\u001b[A\n",
      "Validate (1995 / 10 Steps):  91%|██████████████████████████████████████████████████     | 10/11 [00:03<00:00,  4.17it/s]\u001b[A\n",
      "Validate (1995 / 10 Steps):  91%|██████████████████████████████████████████████████     | 10/11 [00:03<00:00,  4.17it/s]\u001b[A\n",
      "Validate (1995 / 10 Steps): 100%|███████████████████████████████████████████████████████| 11/11 [00:03<00:00,  3.22it/s]\u001b[A\n",
      "Training (2000 / 2500 Steps) (loss=0.68948):  86%|██████████████████████████████████▎     | 6/7 [00:07<00:01,  1.62s/it]"
     ]
    },
    {
     "name": "stdout",
     "output_type": "stream",
     "text": [
      "Model Was Not Saved ! Current Best Avg. Dice: 0.8164225220680237 Current Avg. Dice: 0.8134985566139221\n"
     ]
    },
    {
     "name": "stderr",
     "output_type": "stream",
     "text": [
      "Training (2001 / 2500 Steps) (loss=0.98439): 100%|████████████████████████████████████████| 7/7 [00:07<00:00,  1.09s/it]\n",
      "Training (2008 / 2500 Steps) (loss=0.70939): 100%|████████████████████████████████████████| 7/7 [00:03<00:00,  2.27it/s]\n",
      "Training (2015 / 2500 Steps) (loss=0.65299): 100%|████████████████████████████████████████| 7/7 [00:03<00:00,  2.09it/s]\n",
      "Training (2022 / 2500 Steps) (loss=0.63252): 100%|████████████████████████████████████████| 7/7 [00:03<00:00,  2.32it/s]\n",
      "Training (2029 / 2500 Steps) (loss=0.73362): 100%|████████████████████████████████████████| 7/7 [00:03<00:00,  2.01it/s]\n",
      "Training (2036 / 2500 Steps) (loss=0.69371): 100%|████████████████████████████████████████| 7/7 [00:02<00:00,  2.34it/s]\n",
      "Training (2043 / 2500 Steps) (loss=0.77263): 100%|████████████████████████████████████████| 7/7 [00:03<00:00,  2.22it/s]\n",
      "Training (2050 / 2500 Steps) (loss=0.67926):  86%|██████████████████████████████████▎     | 6/7 [00:02<00:00,  2.86it/s]\n",
      "Validate (X / X Steps) (dice=X.X):   0%|                                                         | 0/11 [00:00<?, ?it/s]\u001b[A\n",
      "Validate (2044 / 10 Steps):   0%|                                                                | 0/11 [00:01<?, ?it/s]\u001b[A\n",
      "Validate (2044 / 10 Steps):   9%|█████                                                   | 1/11 [00:01<00:14,  1.46s/it]\u001b[A\n",
      "Validate (2044 / 10 Steps):   9%|█████                                                   | 1/11 [00:01<00:14,  1.46s/it]\u001b[A\n",
      "Validate (2044 / 10 Steps):  18%|██████████▏                                             | 2/11 [00:01<00:07,  1.19it/s]\u001b[A\n",
      "Validate (2044 / 10 Steps):  18%|██████████▏                                             | 2/11 [00:02<00:07,  1.19it/s]\u001b[A\n",
      "Validate (2044 / 10 Steps):  27%|███████████████▎                                        | 3/11 [00:02<00:04,  1.84it/s]\u001b[A\n",
      "Validate (2044 / 10 Steps):  27%|███████████████▎                                        | 3/11 [00:02<00:04,  1.84it/s]\u001b[A\n",
      "Validate (2044 / 10 Steps):  27%|███████████████▎                                        | 3/11 [00:02<00:04,  1.84it/s]\u001b[A\n",
      "Validate (2044 / 10 Steps):  45%|█████████████████████████▍                              | 5/11 [00:02<00:01,  3.47it/s]\u001b[A\n",
      "Validate (2044 / 10 Steps):  45%|█████████████████████████▍                              | 5/11 [00:02<00:01,  3.47it/s]\u001b[A\n",
      "Validate (2044 / 10 Steps):  45%|█████████████████████████▍                              | 5/11 [00:02<00:01,  3.47it/s]\u001b[A\n",
      "Validate (2044 / 10 Steps):  64%|███████████████████████████████████▋                    | 7/11 [00:02<00:00,  5.03it/s]\u001b[A\n",
      "Validate (2044 / 10 Steps):  64%|███████████████████████████████████▋                    | 7/11 [00:02<00:00,  5.03it/s]\u001b[A\n",
      "Validate (2044 / 10 Steps):  73%|████████████████████████████████████████▋               | 8/11 [00:02<00:00,  4.54it/s]\u001b[A\n",
      "Validate (2044 / 10 Steps):  73%|████████████████████████████████████████▋               | 8/11 [00:02<00:00,  4.54it/s]\u001b[A\n",
      "Validate (2044 / 10 Steps):  82%|█████████████████████████████████████████████▊          | 9/11 [00:02<00:00,  4.19it/s]\u001b[A\n",
      "Validate (2044 / 10 Steps):  82%|█████████████████████████████████████████████▊          | 9/11 [00:03<00:00,  4.19it/s]\u001b[A\n",
      "Validate (2044 / 10 Steps):  91%|██████████████████████████████████████████████████     | 10/11 [00:03<00:00,  4.04it/s]\u001b[A\n",
      "Validate (2044 / 10 Steps):  91%|██████████████████████████████████████████████████     | 10/11 [00:03<00:00,  4.04it/s]\u001b[A\n",
      "Validate (2044 / 10 Steps): 100%|███████████████████████████████████████████████████████| 11/11 [00:03<00:00,  3.01it/s]\u001b[A\n",
      "Training (2050 / 2500 Steps) (loss=0.67926): 100%|████████████████████████████████████████| 7/7 [00:07<00:00,  1.02s/it]\n"
     ]
    },
    {
     "name": "stdout",
     "output_type": "stream",
     "text": [
      "Model Was Saved ! Current Best Avg. Dice: 0.8205621242523193 Current Avg. Dice: 0.8205621242523193\n"
     ]
    },
    {
     "name": "stderr",
     "output_type": "stream",
     "text": [
      "Training (2057 / 2500 Steps) (loss=0.90318): 100%|████████████████████████████████████████| 7/7 [00:03<00:00,  2.29it/s]\n",
      "Training (2064 / 2500 Steps) (loss=0.65930): 100%|████████████████████████████████████████| 7/7 [00:02<00:00,  2.45it/s]\n",
      "Training (2071 / 2500 Steps) (loss=0.66954): 100%|████████████████████████████████████████| 7/7 [00:03<00:00,  2.25it/s]\n",
      "Training (2078 / 2500 Steps) (loss=0.85681): 100%|████████████████████████████████████████| 7/7 [00:02<00:00,  2.51it/s]\n",
      "Training (2085 / 2500 Steps) (loss=0.61790): 100%|████████████████████████████████████████| 7/7 [00:02<00:00,  2.48it/s]\n",
      "Training (2092 / 2500 Steps) (loss=0.72356): 100%|████████████████████████████████████████| 7/7 [00:03<00:00,  1.89it/s]\n",
      "Training (2099 / 2500 Steps) (loss=0.77299): 100%|████████████████████████████████████████| 7/7 [00:02<00:00,  2.37it/s]\n",
      "Training (2100 / 2500 Steps) (loss=0.63971):   0%|                                                | 0/7 [00:01<?, ?it/s]\n",
      "Validate (X / X Steps) (dice=X.X):   0%|                                                         | 0/11 [00:00<?, ?it/s]\u001b[A\n",
      "Validate (2100 / 10 Steps):   0%|                                                                | 0/11 [00:01<?, ?it/s]\u001b[A\n",
      "Validate (2100 / 10 Steps):   9%|█████                                                   | 1/11 [00:01<00:11,  1.12s/it]\u001b[A\n",
      "Validate (2100 / 10 Steps):   9%|█████                                                   | 1/11 [00:01<00:11,  1.12s/it]\u001b[A\n",
      "Validate (2100 / 10 Steps):  18%|██████████▏                                             | 2/11 [00:01<00:06,  1.41it/s]\u001b[A\n",
      "Validate (2100 / 10 Steps):  18%|██████████▏                                             | 2/11 [00:01<00:06,  1.41it/s]\u001b[A\n",
      "Validate (2100 / 10 Steps):  27%|███████████████▎                                        | 3/11 [00:01<00:03,  2.16it/s]\u001b[A\n",
      "Validate (2100 / 10 Steps):  27%|███████████████▎                                        | 3/11 [00:01<00:03,  2.16it/s]\u001b[A\n",
      "Validate (2100 / 10 Steps):  27%|███████████████▎                                        | 3/11 [00:01<00:03,  2.16it/s]\u001b[A\n",
      "Validate (2100 / 10 Steps):  45%|█████████████████████████▍                              | 5/11 [00:01<00:01,  3.97it/s]\u001b[A\n",
      "Validate (2100 / 10 Steps):  45%|█████████████████████████▍                              | 5/11 [00:01<00:01,  3.97it/s]\u001b[A\n",
      "Validate (2100 / 10 Steps):  55%|██████████████████████████████▌                         | 6/11 [00:01<00:01,  4.77it/s]\u001b[A\n",
      "Validate (2100 / 10 Steps):  55%|██████████████████████████████▌                         | 6/11 [00:02<00:01,  4.77it/s]\u001b[A\n",
      "Validate (2100 / 10 Steps):  55%|██████████████████████████████▌                         | 6/11 [00:02<00:01,  4.77it/s]\u001b[A\n",
      "Validate (2100 / 10 Steps):  73%|████████████████████████████████████████▋               | 8/11 [00:02<00:00,  4.66it/s]\u001b[A\n",
      "Validate (2100 / 10 Steps):  73%|████████████████████████████████████████▋               | 8/11 [00:02<00:00,  4.66it/s]\u001b[A\n",
      "Validate (2100 / 10 Steps):  82%|█████████████████████████████████████████████▊          | 9/11 [00:02<00:00,  4.48it/s]\u001b[A\n",
      "Validate (2100 / 10 Steps):  82%|█████████████████████████████████████████████▊          | 9/11 [00:02<00:00,  4.48it/s]\u001b[A\n",
      "Validate (2100 / 10 Steps):  91%|██████████████████████████████████████████████████     | 10/11 [00:02<00:00,  4.33it/s]\u001b[A\n",
      "Validate (2100 / 10 Steps):  91%|██████████████████████████████████████████████████     | 10/11 [00:03<00:00,  4.33it/s]\u001b[A\n",
      "Validate (2100 / 10 Steps): 100%|███████████████████████████████████████████████████████| 11/11 [00:03<00:00,  3.41it/s]\u001b[A\n",
      "Training (2100 / 2500 Steps) (loss=0.63971):  14%|█████▋                                  | 1/7 [00:04<00:27,  4.55s/it]"
     ]
    },
    {
     "name": "stdout",
     "output_type": "stream",
     "text": [
      "Model Was Not Saved ! Current Best Avg. Dice: 0.8205621242523193 Current Avg. Dice: 0.8199020624160767\n"
     ]
    },
    {
     "name": "stderr",
     "output_type": "stream",
     "text": [
      "Training (2106 / 2500 Steps) (loss=0.76980): 100%|████████████████████████████████████████| 7/7 [00:06<00:00,  1.12it/s]\n",
      "Training (2113 / 2500 Steps) (loss=0.77421): 100%|████████████████████████████████████████| 7/7 [00:03<00:00,  2.11it/s]\n",
      "Training (2120 / 2500 Steps) (loss=0.67013): 100%|████████████████████████████████████████| 7/7 [00:03<00:00,  2.24it/s]\n",
      "Training (2127 / 2500 Steps) (loss=0.66366): 100%|████████████████████████████████████████| 7/7 [00:03<00:00,  2.28it/s]\n",
      "Training (2134 / 2500 Steps) (loss=0.86225): 100%|████████████████████████████████████████| 7/7 [00:03<00:00,  1.92it/s]\n",
      "Training (2141 / 2500 Steps) (loss=0.72608): 100%|████████████████████████████████████████| 7/7 [00:05<00:00,  1.37it/s]\n",
      "Training (2148 / 2500 Steps) (loss=0.67032): 100%|████████████████████████████████████████| 7/7 [00:05<00:00,  1.28it/s]\n",
      "Training (2150 / 2500 Steps) (loss=0.76728):  14%|█████▋                                  | 1/7 [00:04<00:21,  3.64s/it]\n",
      "Validate (X / X Steps) (dice=X.X):   0%|                                                         | 0/11 [00:00<?, ?it/s]\u001b[A\n",
      "Validate (2149 / 10 Steps):   0%|                                                                | 0/11 [00:02<?, ?it/s]\u001b[A\n",
      "Validate (2149 / 10 Steps):   9%|█████                                                   | 1/11 [00:02<00:24,  2.41s/it]\u001b[A\n",
      "Validate (2149 / 10 Steps):   9%|█████                                                   | 1/11 [00:02<00:24,  2.41s/it]\u001b[A\n",
      "Validate (2149 / 10 Steps):  18%|██████████▏                                             | 2/11 [00:02<00:11,  1.28s/it]\u001b[A\n",
      "Validate (2149 / 10 Steps):  18%|██████████▏                                             | 2/11 [00:03<00:11,  1.28s/it]\u001b[A\n",
      "Validate (2149 / 10 Steps):  27%|███████████████▎                                        | 3/11 [00:03<00:06,  1.23it/s]\u001b[A\n",
      "Validate (2149 / 10 Steps):  27%|███████████████▎                                        | 3/11 [00:03<00:06,  1.23it/s]\u001b[A\n",
      "Validate (2149 / 10 Steps):  36%|████████████████████▎                                   | 4/11 [00:03<00:03,  1.77it/s]\u001b[A\n",
      "Validate (2149 / 10 Steps):  36%|████████████████████▎                                   | 4/11 [00:03<00:03,  1.77it/s]\u001b[A\n",
      "Validate (2149 / 10 Steps):  45%|█████████████████████████▍                              | 5/11 [00:03<00:02,  2.19it/s]\u001b[A\n",
      "Validate (2149 / 10 Steps):  45%|█████████████████████████▍                              | 5/11 [00:03<00:02,  2.19it/s]\u001b[A\n",
      "Validate (2149 / 10 Steps):  55%|██████████████████████████████▌                         | 6/11 [00:03<00:01,  2.67it/s]\u001b[A\n",
      "Validate (2149 / 10 Steps):  55%|██████████████████████████████▌                         | 6/11 [00:03<00:01,  2.67it/s]\u001b[A\n",
      "Validate (2149 / 10 Steps):  64%|███████████████████████████████████▋                    | 7/11 [00:03<00:01,  3.23it/s]\u001b[A\n",
      "Validate (2149 / 10 Steps):  64%|███████████████████████████████████▋                    | 7/11 [00:04<00:01,  3.23it/s]\u001b[A\n",
      "Validate (2149 / 10 Steps):  73%|████████████████████████████████████████▋               | 8/11 [00:04<00:01,  2.16it/s]\u001b[A\n",
      "Validate (2149 / 10 Steps):  73%|████████████████████████████████████████▋               | 8/11 [00:05<00:01,  2.16it/s]\u001b[A\n",
      "Validate (2149 / 10 Steps):  82%|█████████████████████████████████████████████▊          | 9/11 [00:05<00:00,  2.48it/s]\u001b[A\n",
      "Validate (2149 / 10 Steps):  82%|█████████████████████████████████████████████▊          | 9/11 [00:05<00:00,  2.48it/s]\u001b[A\n",
      "Validate (2149 / 10 Steps):  91%|██████████████████████████████████████████████████     | 10/11 [00:05<00:00,  2.65it/s]\u001b[A\n",
      "Validate (2149 / 10 Steps):  91%|██████████████████████████████████████████████████     | 10/11 [00:05<00:00,  2.65it/s]\u001b[A\n",
      "Validate (2149 / 10 Steps): 100%|███████████████████████████████████████████████████████| 11/11 [00:05<00:00,  1.92it/s]\u001b[A\n",
      "Training (2150 / 2500 Steps) (loss=0.76728):  29%|███████████▍                            | 2/7 [00:09<00:25,  5.12s/it]"
     ]
    },
    {
     "name": "stdout",
     "output_type": "stream",
     "text": [
      "Model Was Not Saved ! Current Best Avg. Dice: 0.8205621242523193 Current Avg. Dice: 0.8089230060577393\n"
     ]
    },
    {
     "name": "stderr",
     "output_type": "stream",
     "text": [
      "Training (2155 / 2500 Steps) (loss=0.58014): 100%|████████████████████████████████████████| 7/7 [00:11<00:00,  1.60s/it]\n",
      "Training (2162 / 2500 Steps) (loss=0.72454): 100%|████████████████████████████████████████| 7/7 [00:03<00:00,  2.18it/s]\n",
      "Training (2169 / 2500 Steps) (loss=0.79711): 100%|████████████████████████████████████████| 7/7 [00:03<00:00,  2.13it/s]\n",
      "Training (2176 / 2500 Steps) (loss=0.66330): 100%|████████████████████████████████████████| 7/7 [00:03<00:00,  1.75it/s]\n",
      "Training (2183 / 2500 Steps) (loss=0.76001): 100%|████████████████████████████████████████| 7/7 [00:03<00:00,  2.06it/s]\n",
      "Training (2190 / 2500 Steps) (loss=0.69844): 100%|████████████████████████████████████████| 7/7 [00:03<00:00,  2.27it/s]\n",
      "Training (2197 / 2500 Steps) (loss=0.63333): 100%|████████████████████████████████████████| 7/7 [00:03<00:00,  2.18it/s]\n",
      "Training (2200 / 2500 Steps) (loss=0.71005):  29%|███████████▍                            | 2/7 [00:01<00:03,  1.29it/s]\n",
      "Validate (X / X Steps) (dice=X.X):   0%|                                                         | 0/11 [00:00<?, ?it/s]\u001b[A\n",
      "Validate (2198 / 10 Steps):   0%|                                                                | 0/11 [00:01<?, ?it/s]\u001b[A\n",
      "Validate (2198 / 10 Steps):   9%|█████                                                   | 1/11 [00:01<00:12,  1.27s/it]\u001b[A\n",
      "Validate (2198 / 10 Steps):   9%|█████                                                   | 1/11 [00:01<00:12,  1.27s/it]\u001b[A\n",
      "Validate (2198 / 10 Steps):  18%|██████████▏                                             | 2/11 [00:01<00:07,  1.28it/s]\u001b[A\n",
      "Validate (2198 / 10 Steps):  18%|██████████▏                                             | 2/11 [00:01<00:07,  1.28it/s]\u001b[A\n",
      "Validate (2198 / 10 Steps):  27%|███████████████▎                                        | 3/11 [00:01<00:04,  1.89it/s]\u001b[A\n",
      "Validate (2198 / 10 Steps):  27%|███████████████▎                                        | 3/11 [00:02<00:04,  1.89it/s]\u001b[A\n",
      "Validate (2198 / 10 Steps):  27%|███████████████▎                                        | 3/11 [00:02<00:04,  1.89it/s]\u001b[A\n",
      "Validate (2198 / 10 Steps):  45%|█████████████████████████▍                              | 5/11 [00:02<00:01,  3.41it/s]\u001b[A\n",
      "Validate (2198 / 10 Steps):  45%|█████████████████████████▍                              | 5/11 [00:02<00:01,  3.41it/s]\u001b[A\n",
      "Validate (2198 / 10 Steps):  55%|██████████████████████████████▌                         | 6/11 [00:02<00:01,  4.12it/s]\u001b[A\n",
      "Validate (2198 / 10 Steps):  55%|██████████████████████████████▌                         | 6/11 [00:02<00:01,  4.12it/s]\u001b[A\n",
      "Validate (2198 / 10 Steps):  64%|███████████████████████████████████▋                    | 7/11 [00:02<00:00,  4.58it/s]\u001b[A\n",
      "Validate (2198 / 10 Steps):  64%|███████████████████████████████████▋                    | 7/11 [00:02<00:00,  4.58it/s]\u001b[A\n",
      "Validate (2198 / 10 Steps):  73%|████████████████████████████████████████▋               | 8/11 [00:02<00:00,  3.65it/s]\u001b[A\n",
      "Validate (2198 / 10 Steps):  73%|████████████████████████████████████████▋               | 8/11 [00:03<00:00,  3.65it/s]\u001b[A\n",
      "Validate (2198 / 10 Steps):  82%|█████████████████████████████████████████████▊          | 9/11 [00:03<00:00,  3.64it/s]\u001b[A\n",
      "Validate (2198 / 10 Steps):  82%|█████████████████████████████████████████████▊          | 9/11 [00:03<00:00,  3.64it/s]\u001b[A\n",
      "Validate (2198 / 10 Steps):  91%|██████████████████████████████████████████████████     | 10/11 [00:03<00:00,  3.33it/s]\u001b[A\n",
      "Validate (2198 / 10 Steps):  91%|██████████████████████████████████████████████████     | 10/11 [00:03<00:00,  3.33it/s]\u001b[A\n",
      "Validate (2198 / 10 Steps): 100%|███████████████████████████████████████████████████████| 11/11 [00:03<00:00,  2.93it/s]\u001b[A\n",
      "Training (2200 / 2500 Steps) (loss=0.71005):  43%|█████████████████▏                      | 3/7 [00:05<00:09,  2.27s/it]"
     ]
    },
    {
     "name": "stdout",
     "output_type": "stream",
     "text": [
      "Model Was Not Saved ! Current Best Avg. Dice: 0.8205621242523193 Current Avg. Dice: 0.8151941895484924\n"
     ]
    },
    {
     "name": "stderr",
     "output_type": "stream",
     "text": [
      "Training (2204 / 2500 Steps) (loss=0.71708): 100%|████████████████████████████████████████| 7/7 [00:06<00:00,  1.02it/s]\n",
      "Training (2211 / 2500 Steps) (loss=0.64564): 100%|████████████████████████████████████████| 7/7 [00:03<00:00,  2.30it/s]\n",
      "Training (2218 / 2500 Steps) (loss=0.71850): 100%|████████████████████████████████████████| 7/7 [00:03<00:00,  1.82it/s]\n",
      "Training (2225 / 2500 Steps) (loss=0.74593): 100%|████████████████████████████████████████| 7/7 [00:03<00:00,  2.18it/s]\n",
      "Training (2232 / 2500 Steps) (loss=0.83204): 100%|████████████████████████████████████████| 7/7 [00:03<00:00,  2.04it/s]\n",
      "Training (2239 / 2500 Steps) (loss=0.73175): 100%|████████████████████████████████████████| 7/7 [00:03<00:00,  2.20it/s]\n",
      "Training (2246 / 2500 Steps) (loss=0.71815): 100%|████████████████████████████████████████| 7/7 [00:03<00:00,  2.02it/s]\n",
      "Training (2250 / 2500 Steps) (loss=0.62835):  43%|█████████████████▏                      | 3/7 [00:03<00:03,  1.31it/s]\n",
      "Validate (X / X Steps) (dice=X.X):   0%|                                                         | 0/11 [00:00<?, ?it/s]\u001b[A\n",
      "Validate (2247 / 10 Steps):   0%|                                                                | 0/11 [00:01<?, ?it/s]\u001b[A\n",
      "Validate (2247 / 10 Steps):   9%|█████                                                   | 1/11 [00:01<00:17,  1.71s/it]\u001b[A\n",
      "Validate (2247 / 10 Steps):   9%|█████                                                   | 1/11 [00:02<00:17,  1.71s/it]\u001b[A\n",
      "Validate (2247 / 10 Steps):  18%|██████████▏                                             | 2/11 [00:02<00:07,  1.13it/s]\u001b[A\n",
      "Validate (2247 / 10 Steps):  18%|██████████▏                                             | 2/11 [00:02<00:07,  1.13it/s]\u001b[A\n",
      "Validate (2247 / 10 Steps):  27%|███████████████▎                                        | 3/11 [00:02<00:04,  1.81it/s]\u001b[A\n",
      "Validate (2247 / 10 Steps):  27%|███████████████▎                                        | 3/11 [00:02<00:04,  1.81it/s]\u001b[A\n",
      "Validate (2247 / 10 Steps):  27%|███████████████▎                                        | 3/11 [00:02<00:04,  1.81it/s]\u001b[A\n",
      "Validate (2247 / 10 Steps):  45%|█████████████████████████▍                              | 5/11 [00:02<00:01,  3.53it/s]\u001b[A\n",
      "Validate (2247 / 10 Steps):  45%|█████████████████████████▍                              | 5/11 [00:02<00:01,  3.53it/s]\u001b[A\n",
      "Validate (2247 / 10 Steps):  45%|█████████████████████████▍                              | 5/11 [00:02<00:01,  3.53it/s]\u001b[A\n",
      "Validate (2247 / 10 Steps):  64%|███████████████████████████████████▋                    | 7/11 [00:02<00:00,  5.28it/s]\u001b[A\n",
      "Validate (2247 / 10 Steps):  64%|███████████████████████████████████▋                    | 7/11 [00:02<00:00,  5.28it/s]\u001b[A\n",
      "Validate (2247 / 10 Steps):  73%|████████████████████████████████████████▋               | 8/11 [00:02<00:00,  4.67it/s]\u001b[A\n",
      "Validate (2247 / 10 Steps):  73%|████████████████████████████████████████▋               | 8/11 [00:02<00:00,  4.67it/s]\u001b[A\n",
      "Validate (2247 / 10 Steps):  82%|█████████████████████████████████████████████▊          | 9/11 [00:02<00:00,  4.72it/s]\u001b[A\n",
      "Validate (2247 / 10 Steps):  82%|█████████████████████████████████████████████▊          | 9/11 [00:03<00:00,  4.72it/s]\u001b[A\n",
      "Validate (2247 / 10 Steps):  91%|██████████████████████████████████████████████████     | 10/11 [00:03<00:00,  4.62it/s]\u001b[A\n",
      "Validate (2247 / 10 Steps):  91%|██████████████████████████████████████████████████     | 10/11 [00:03<00:00,  4.62it/s]\u001b[A\n",
      "Validate (2247 / 10 Steps): 100%|███████████████████████████████████████████████████████| 11/11 [00:03<00:00,  3.16it/s]\u001b[A\n",
      "Training (2250 / 2500 Steps) (loss=0.62835):  57%|██████████████████████▊                 | 4/7 [00:07<00:06,  2.20s/it]"
     ]
    },
    {
     "name": "stdout",
     "output_type": "stream",
     "text": [
      "Model Was Saved ! Current Best Avg. Dice: 0.8228790760040283 Current Avg. Dice: 0.8228790760040283\n"
     ]
    },
    {
     "name": "stderr",
     "output_type": "stream",
     "text": [
      "Training (2253 / 2500 Steps) (loss=0.67500): 100%|████████████████████████████████████████| 7/7 [00:07<00:00,  1.14s/it]\n",
      "Training (2260 / 2500 Steps) (loss=0.57412): 100%|████████████████████████████████████████| 7/7 [00:03<00:00,  2.07it/s]\n",
      "Training (2267 / 2500 Steps) (loss=0.68249): 100%|████████████████████████████████████████| 7/7 [00:03<00:00,  2.19it/s]\n",
      "Training (2274 / 2500 Steps) (loss=0.58844): 100%|████████████████████████████████████████| 7/7 [00:03<00:00,  2.18it/s]\n",
      "Training (2281 / 2500 Steps) (loss=0.59610): 100%|████████████████████████████████████████| 7/7 [00:03<00:00,  2.19it/s]\n",
      "Training (2288 / 2500 Steps) (loss=0.68803): 100%|████████████████████████████████████████| 7/7 [00:03<00:00,  2.01it/s]\n",
      "Training (2295 / 2500 Steps) (loss=0.50960): 100%|████████████████████████████████████████| 7/7 [00:03<00:00,  2.32it/s]\n",
      "Training (2300 / 2500 Steps) (loss=0.63710):  57%|██████████████████████▊                 | 4/7 [00:02<00:01,  2.42it/s]\n",
      "Validate (X / X Steps) (dice=X.X):   0%|                                                         | 0/11 [00:00<?, ?it/s]\u001b[A\n",
      "Validate (2296 / 10 Steps):   0%|                                                                | 0/11 [00:01<?, ?it/s]\u001b[A\n",
      "Validate (2296 / 10 Steps):   9%|█████                                                   | 1/11 [00:01<00:14,  1.45s/it]\u001b[A\n",
      "Validate (2296 / 10 Steps):   9%|█████                                                   | 1/11 [00:01<00:14,  1.45s/it]\u001b[A\n",
      "Validate (2296 / 10 Steps):  18%|██████████▏                                             | 2/11 [00:01<00:07,  1.25it/s]\u001b[A\n",
      "Validate (2296 / 10 Steps):  18%|██████████▏                                             | 2/11 [00:02<00:07,  1.25it/s]\u001b[A\n",
      "Validate (2296 / 10 Steps):  27%|███████████████▎                                        | 3/11 [00:02<00:04,  1.76it/s]\u001b[A\n",
      "Validate (2296 / 10 Steps):  27%|███████████████▎                                        | 3/11 [00:02<00:04,  1.76it/s]\u001b[A\n",
      "Validate (2296 / 10 Steps):  36%|████████████████████▎                                   | 4/11 [00:02<00:03,  2.26it/s]\u001b[A\n",
      "Validate (2296 / 10 Steps):  36%|████████████████████▎                                   | 4/11 [00:02<00:03,  2.26it/s]\u001b[A\n",
      "Validate (2296 / 10 Steps):  45%|█████████████████████████▍                              | 5/11 [00:02<00:02,  2.77it/s]\u001b[A\n",
      "Validate (2296 / 10 Steps):  45%|█████████████████████████▍                              | 5/11 [00:02<00:02,  2.77it/s]\u001b[A\n",
      "Validate (2296 / 10 Steps):  55%|██████████████████████████████▌                         | 6/11 [00:02<00:01,  3.63it/s]\u001b[A\n",
      "Validate (2296 / 10 Steps):  55%|██████████████████████████████▌                         | 6/11 [00:02<00:01,  3.63it/s]\u001b[A\n",
      "Validate (2296 / 10 Steps):  55%|██████████████████████████████▌                         | 6/11 [00:03<00:01,  3.63it/s]\u001b[A\n",
      "Validate (2296 / 10 Steps):  73%|████████████████████████████████████████▋               | 8/11 [00:03<00:00,  4.05it/s]\u001b[A\n",
      "Validate (2296 / 10 Steps):  73%|████████████████████████████████████████▋               | 8/11 [00:03<00:00,  4.05it/s]\u001b[A\n",
      "Validate (2296 / 10 Steps):  82%|█████████████████████████████████████████████▊          | 9/11 [00:03<00:00,  4.22it/s]\u001b[A\n",
      "Validate (2296 / 10 Steps):  82%|█████████████████████████████████████████████▊          | 9/11 [00:03<00:00,  4.22it/s]\u001b[A\n",
      "Validate (2296 / 10 Steps):  91%|██████████████████████████████████████████████████     | 10/11 [00:03<00:00,  4.01it/s]\u001b[A\n",
      "Validate (2296 / 10 Steps):  91%|██████████████████████████████████████████████████     | 10/11 [00:03<00:00,  4.01it/s]\u001b[A\n",
      "Validate (2296 / 10 Steps): 100%|███████████████████████████████████████████████████████| 11/11 [00:03<00:00,  2.81it/s]\u001b[A\n",
      "Training (2300 / 2500 Steps) (loss=0.63710):  71%|████████████████████████████▌           | 5/7 [00:06<00:03,  1.78s/it]"
     ]
    },
    {
     "name": "stdout",
     "output_type": "stream",
     "text": [
      "Model Was Not Saved ! Current Best Avg. Dice: 0.8228790760040283 Current Avg. Dice: 0.8040525317192078\n"
     ]
    },
    {
     "name": "stderr",
     "output_type": "stream",
     "text": [
      "Training (2302 / 2500 Steps) (loss=0.69069): 100%|████████████████████████████████████████| 7/7 [00:06<00:00,  1.03it/s]\n",
      "Training (2309 / 2500 Steps) (loss=0.71136): 100%|████████████████████████████████████████| 7/7 [00:03<00:00,  2.28it/s]\n",
      "Training (2316 / 2500 Steps) (loss=0.73764): 100%|████████████████████████████████████████| 7/7 [00:02<00:00,  2.44it/s]\n",
      "Training (2323 / 2500 Steps) (loss=0.73949): 100%|████████████████████████████████████████| 7/7 [00:02<00:00,  2.37it/s]\n",
      "Training (2330 / 2500 Steps) (loss=0.59425): 100%|████████████████████████████████████████| 7/7 [00:02<00:00,  2.34it/s]\n",
      "Training (2337 / 2500 Steps) (loss=0.77421): 100%|████████████████████████████████████████| 7/7 [00:02<00:00,  2.35it/s]\n",
      "Training (2344 / 2500 Steps) (loss=0.80332): 100%|████████████████████████████████████████| 7/7 [00:02<00:00,  2.52it/s]\n",
      "Training (2350 / 2500 Steps) (loss=0.69545):  71%|████████████████████████████▌           | 5/7 [00:03<00:00,  2.11it/s]\n",
      "Validate (X / X Steps) (dice=X.X):   0%|                                                         | 0/11 [00:00<?, ?it/s]\u001b[A\n",
      "Validate (2345 / 10 Steps):   0%|                                                                | 0/11 [00:01<?, ?it/s]\u001b[A\n",
      "Validate (2345 / 10 Steps):   9%|█████                                                   | 1/11 [00:01<00:13,  1.32s/it]\u001b[A\n",
      "Validate (2345 / 10 Steps):   9%|█████                                                   | 1/11 [00:01<00:13,  1.32s/it]\u001b[A\n",
      "Validate (2345 / 10 Steps):  18%|██████████▏                                             | 2/11 [00:01<00:06,  1.42it/s]\u001b[A\n",
      "Validate (2345 / 10 Steps):  18%|██████████▏                                             | 2/11 [00:01<00:06,  1.42it/s]\u001b[A\n",
      "Validate (2345 / 10 Steps):  27%|███████████████▎                                        | 3/11 [00:01<00:03,  2.21it/s]\u001b[A\n",
      "Validate (2345 / 10 Steps):  27%|███████████████▎                                        | 3/11 [00:01<00:03,  2.21it/s]\u001b[A\n",
      "Validate (2345 / 10 Steps):  27%|███████████████▎                                        | 3/11 [00:01<00:03,  2.21it/s]\u001b[A\n",
      "Validate (2345 / 10 Steps):  45%|█████████████████████████▍                              | 5/11 [00:01<00:01,  4.16it/s]\u001b[A\n",
      "Validate (2345 / 10 Steps):  45%|█████████████████████████▍                              | 5/11 [00:01<00:01,  4.16it/s]\u001b[A\n",
      "Validate (2345 / 10 Steps):  45%|█████████████████████████▍                              | 5/11 [00:02<00:01,  4.16it/s]\u001b[A\n",
      "Validate (2345 / 10 Steps):  64%|███████████████████████████████████▋                    | 7/11 [00:02<00:00,  5.74it/s]\u001b[A\n",
      "Validate (2345 / 10 Steps):  64%|███████████████████████████████████▋                    | 7/11 [00:02<00:00,  5.74it/s]\u001b[A\n",
      "Validate (2345 / 10 Steps):  73%|████████████████████████████████████████▋               | 8/11 [00:02<00:00,  4.88it/s]\u001b[A\n",
      "Validate (2345 / 10 Steps):  73%|████████████████████████████████████████▋               | 8/11 [00:02<00:00,  4.88it/s]\u001b[A\n",
      "Validate (2345 / 10 Steps):  82%|█████████████████████████████████████████████▊          | 9/11 [00:02<00:00,  4.98it/s]\u001b[A\n",
      "Validate (2345 / 10 Steps):  82%|█████████████████████████████████████████████▊          | 9/11 [00:02<00:00,  4.98it/s]\u001b[A\n",
      "Validate (2345 / 10 Steps):  91%|██████████████████████████████████████████████████     | 10/11 [00:02<00:00,  4.82it/s]\u001b[A\n",
      "Validate (2345 / 10 Steps):  91%|██████████████████████████████████████████████████     | 10/11 [00:03<00:00,  4.82it/s]\u001b[A\n",
      "Validate (2345 / 10 Steps): 100%|███████████████████████████████████████████████████████| 11/11 [00:03<00:00,  3.57it/s]\u001b[A\n",
      "Training (2351 / 2500 Steps) (loss=0.75705): 100%|████████████████████████████████████████| 7/7 [00:07<00:00,  1.04s/it]"
     ]
    },
    {
     "name": "stdout",
     "output_type": "stream",
     "text": [
      "Model Was Not Saved ! Current Best Avg. Dice: 0.8228790760040283 Current Avg. Dice: 0.8134050965309143\n"
     ]
    },
    {
     "name": "stderr",
     "output_type": "stream",
     "text": [
      "Training (2351 / 2500 Steps) (loss=0.75705): 100%|████████████████████████████████████████| 7/7 [00:07<00:00,  1.02s/it]\n",
      "Training (2358 / 2500 Steps) (loss=0.71531): 100%|████████████████████████████████████████| 7/7 [00:02<00:00,  2.41it/s]\n",
      "Training (2365 / 2500 Steps) (loss=0.81314): 100%|████████████████████████████████████████| 7/7 [00:02<00:00,  2.42it/s]\n",
      "Training (2372 / 2500 Steps) (loss=0.56320): 100%|████████████████████████████████████████| 7/7 [00:03<00:00,  2.33it/s]\n",
      "Training (2379 / 2500 Steps) (loss=0.66975): 100%|████████████████████████████████████████| 7/7 [00:03<00:00,  2.33it/s]\n",
      "Training (2386 / 2500 Steps) (loss=0.75673): 100%|████████████████████████████████████████| 7/7 [00:03<00:00,  2.27it/s]\n",
      "Training (2393 / 2500 Steps) (loss=0.74575): 100%|████████████████████████████████████████| 7/7 [00:03<00:00,  2.21it/s]\n",
      "Training (2400 / 2500 Steps) (loss=0.91264):  86%|██████████████████████████████████▎     | 6/7 [00:03<00:00,  2.72it/s]\n",
      "Validate (X / X Steps) (dice=X.X):   0%|                                                         | 0/11 [00:00<?, ?it/s]\u001b[A\n",
      "Validate (2394 / 10 Steps):   0%|                                                                | 0/11 [00:01<?, ?it/s]\u001b[A\n",
      "Validate (2394 / 10 Steps):   9%|█████                                                   | 1/11 [00:01<00:13,  1.33s/it]\u001b[A\n",
      "Validate (2394 / 10 Steps):   9%|█████                                                   | 1/11 [00:01<00:13,  1.33s/it]\u001b[A\n",
      "Validate (2394 / 10 Steps):  18%|██████████▏                                             | 2/11 [00:01<00:07,  1.23it/s]\u001b[A\n",
      "Validate (2394 / 10 Steps):  18%|██████████▏                                             | 2/11 [00:01<00:07,  1.23it/s]\u001b[A\n",
      "Validate (2394 / 10 Steps):  27%|███████████████▎                                        | 3/11 [00:01<00:04,  1.88it/s]\u001b[A\n",
      "Validate (2394 / 10 Steps):  27%|███████████████▎                                        | 3/11 [00:02<00:04,  1.88it/s]\u001b[A\n",
      "Validate (2394 / 10 Steps):  27%|███████████████▎                                        | 3/11 [00:02<00:04,  1.88it/s]\u001b[A\n",
      "Validate (2394 / 10 Steps):  45%|█████████████████████████▍                              | 5/11 [00:02<00:01,  3.68it/s]\u001b[A\n",
      "Validate (2394 / 10 Steps):  45%|█████████████████████████▍                              | 5/11 [00:02<00:01,  3.68it/s]\u001b[A\n",
      "Validate (2394 / 10 Steps):  55%|██████████████████████████████▌                         | 6/11 [00:02<00:01,  4.23it/s]\u001b[A\n",
      "Validate (2394 / 10 Steps):  55%|██████████████████████████████▌                         | 6/11 [00:02<00:01,  4.23it/s]\u001b[A\n",
      "Validate (2394 / 10 Steps):  55%|██████████████████████████████▌                         | 6/11 [00:02<00:01,  4.23it/s]\u001b[A\n",
      "Validate (2394 / 10 Steps):  73%|████████████████████████████████████████▋               | 8/11 [00:02<00:00,  4.79it/s]\u001b[A\n",
      "Validate (2394 / 10 Steps):  73%|████████████████████████████████████████▋               | 8/11 [00:02<00:00,  4.79it/s]\u001b[A\n",
      "Validate (2394 / 10 Steps):  82%|█████████████████████████████████████████████▊          | 9/11 [00:02<00:00,  4.70it/s]\u001b[A\n",
      "Validate (2394 / 10 Steps):  82%|█████████████████████████████████████████████▊          | 9/11 [00:03<00:00,  4.70it/s]\u001b[A\n",
      "Validate (2394 / 10 Steps):  91%|██████████████████████████████████████████████████     | 10/11 [00:03<00:00,  4.43it/s]\u001b[A\n",
      "Validate (2394 / 10 Steps):  91%|██████████████████████████████████████████████████     | 10/11 [00:03<00:00,  4.43it/s]\u001b[A\n",
      "Validate (2394 / 10 Steps): 100%|███████████████████████████████████████████████████████| 11/11 [00:03<00:00,  3.24it/s]\u001b[A\n",
      "Training (2400 / 2500 Steps) (loss=0.91264): 100%|████████████████████████████████████████| 7/7 [00:07<00:00,  1.00s/it]\n"
     ]
    },
    {
     "name": "stdout",
     "output_type": "stream",
     "text": [
      "Model Was Saved ! Current Best Avg. Dice: 0.8259744048118591 Current Avg. Dice: 0.8259744048118591\n"
     ]
    },
    {
     "name": "stderr",
     "output_type": "stream",
     "text": [
      "Training (2407 / 2500 Steps) (loss=0.86686): 100%|████████████████████████████████████████| 7/7 [00:03<00:00,  2.13it/s]\n",
      "Training (2414 / 2500 Steps) (loss=0.65913): 100%|████████████████████████████████████████| 7/7 [00:03<00:00,  1.80it/s]\n",
      "Training (2421 / 2500 Steps) (loss=0.62471): 100%|████████████████████████████████████████| 7/7 [00:03<00:00,  2.12it/s]\n",
      "Training (2428 / 2500 Steps) (loss=0.56720): 100%|████████████████████████████████████████| 7/7 [00:03<00:00,  2.30it/s]\n",
      "Training (2435 / 2500 Steps) (loss=0.56517): 100%|████████████████████████████████████████| 7/7 [00:03<00:00,  1.93it/s]\n",
      "Training (2442 / 2500 Steps) (loss=0.53784): 100%|████████████████████████████████████████| 7/7 [00:03<00:00,  2.21it/s]\n",
      "Training (2449 / 2500 Steps) (loss=0.68663): 100%|████████████████████████████████████████| 7/7 [00:03<00:00,  2.19it/s]\n",
      "Training (2450 / 2500 Steps) (loss=0.80912):   0%|                                                | 0/7 [00:01<?, ?it/s]\n",
      "Validate (X / X Steps) (dice=X.X):   0%|                                                         | 0/11 [00:00<?, ?it/s]\u001b[A\n",
      "Validate (2450 / 10 Steps):   0%|                                                                | 0/11 [00:01<?, ?it/s]\u001b[A\n",
      "Validate (2450 / 10 Steps):   9%|█████                                                   | 1/11 [00:01<00:12,  1.22s/it]\u001b[A\n",
      "Validate (2450 / 10 Steps):   9%|█████                                                   | 1/11 [00:01<00:12,  1.22s/it]\u001b[A\n",
      "Validate (2450 / 10 Steps):  18%|██████████▏                                             | 2/11 [00:01<00:07,  1.21it/s]\u001b[A\n",
      "Validate (2450 / 10 Steps):  18%|██████████▏                                             | 2/11 [00:01<00:07,  1.21it/s]\u001b[A\n",
      "Validate (2450 / 10 Steps):  27%|███████████████▎                                        | 3/11 [00:01<00:04,  1.89it/s]\u001b[A\n",
      "Validate (2450 / 10 Steps):  27%|███████████████▎                                        | 3/11 [00:02<00:04,  1.89it/s]\u001b[A\n",
      "Validate (2450 / 10 Steps):  27%|███████████████▎                                        | 3/11 [00:02<00:04,  1.89it/s]\u001b[A\n",
      "Validate (2450 / 10 Steps):  45%|█████████████████████████▍                              | 5/11 [00:02<00:01,  3.64it/s]\u001b[A\n",
      "Validate (2450 / 10 Steps):  45%|█████████████████████████▍                              | 5/11 [00:02<00:01,  3.64it/s]\u001b[A\n",
      "Validate (2450 / 10 Steps):  45%|█████████████████████████▍                              | 5/11 [00:02<00:01,  3.64it/s]\u001b[A\n",
      "Validate (2450 / 10 Steps):  64%|███████████████████████████████████▋                    | 7/11 [00:02<00:00,  5.30it/s]\u001b[A\n",
      "Validate (2450 / 10 Steps):  64%|███████████████████████████████████▋                    | 7/11 [00:02<00:00,  5.30it/s]\u001b[A\n",
      "Validate (2450 / 10 Steps):  73%|████████████████████████████████████████▋               | 8/11 [00:02<00:00,  4.65it/s]\u001b[A\n",
      "Validate (2450 / 10 Steps):  73%|████████████████████████████████████████▋               | 8/11 [00:02<00:00,  4.65it/s]\u001b[A\n",
      "Validate (2450 / 10 Steps):  82%|█████████████████████████████████████████████▊          | 9/11 [00:02<00:00,  4.54it/s]\u001b[A\n",
      "Validate (2450 / 10 Steps):  82%|█████████████████████████████████████████████▊          | 9/11 [00:03<00:00,  4.54it/s]\u001b[A\n",
      "Validate (2450 / 10 Steps):  91%|██████████████████████████████████████████████████     | 10/11 [00:03<00:00,  4.49it/s]\u001b[A\n",
      "Validate (2450 / 10 Steps):  91%|██████████████████████████████████████████████████     | 10/11 [00:03<00:00,  4.49it/s]\u001b[A\n",
      "Validate (2450 / 10 Steps): 100%|███████████████████████████████████████████████████████| 11/11 [00:03<00:00,  3.27it/s]\u001b[A\n",
      "Training (2450 / 2500 Steps) (loss=0.80912):  14%|█████▋                                  | 1/7 [00:04<00:28,  4.82s/it]"
     ]
    },
    {
     "name": "stdout",
     "output_type": "stream",
     "text": [
      "Model Was Not Saved ! Current Best Avg. Dice: 0.8259744048118591 Current Avg. Dice: 0.8222812414169312\n"
     ]
    },
    {
     "name": "stderr",
     "output_type": "stream",
     "text": [
      "Training (2456 / 2500 Steps) (loss=0.60596): 100%|████████████████████████████████████████| 7/7 [00:06<00:00,  1.06it/s]\n",
      "Training (2463 / 2500 Steps) (loss=0.72569): 100%|████████████████████████████████████████| 7/7 [00:03<00:00,  2.27it/s]\n",
      "Training (2470 / 2500 Steps) (loss=0.52856): 100%|████████████████████████████████████████| 7/7 [00:03<00:00,  2.33it/s]\n",
      "Training (2477 / 2500 Steps) (loss=0.77298): 100%|████████████████████████████████████████| 7/7 [00:03<00:00,  1.77it/s]\n",
      "Training (2484 / 2500 Steps) (loss=0.78053): 100%|████████████████████████████████████████| 7/7 [00:03<00:00,  2.28it/s]\n",
      "Training (2491 / 2500 Steps) (loss=0.62893): 100%|████████████████████████████████████████| 7/7 [00:03<00:00,  2.30it/s]\n",
      "Training (2498 / 2500 Steps) (loss=0.55736): 100%|████████████████████████████████████████| 7/7 [00:03<00:00,  2.22it/s]\n",
      "Training (2500 / 2500 Steps) (loss=0.68641):  14%|█████▋                                  | 1/7 [00:01<00:08,  1.40s/it]\n",
      "Validate (X / X Steps) (dice=X.X):   0%|                                                         | 0/11 [00:00<?, ?it/s]\u001b[A\n",
      "Validate (2499 / 10 Steps):   0%|                                                                | 0/11 [00:01<?, ?it/s]\u001b[A\n",
      "Validate (2499 / 10 Steps):   9%|█████                                                   | 1/11 [00:01<00:12,  1.26s/it]\u001b[A\n",
      "Validate (2499 / 10 Steps):   9%|█████                                                   | 1/11 [00:01<00:12,  1.26s/it]\u001b[A\n",
      "Validate (2499 / 10 Steps):  18%|██████████▏                                             | 2/11 [00:01<00:06,  1.44it/s]\u001b[A\n",
      "Validate (2499 / 10 Steps):  18%|██████████▏                                             | 2/11 [00:01<00:06,  1.44it/s]\u001b[A\n",
      "Validate (2499 / 10 Steps):  27%|███████████████▎                                        | 3/11 [00:01<00:03,  2.24it/s]\u001b[A\n",
      "Validate (2499 / 10 Steps):  27%|███████████████▎                                        | 3/11 [00:01<00:03,  2.24it/s]\u001b[A\n",
      "Validate (2499 / 10 Steps):  27%|███████████████▎                                        | 3/11 [00:01<00:03,  2.24it/s]\u001b[A\n",
      "Validate (2499 / 10 Steps):  45%|█████████████████████████▍                              | 5/11 [00:01<00:01,  4.04it/s]\u001b[A\n",
      "Validate (2499 / 10 Steps):  45%|█████████████████████████▍                              | 5/11 [00:01<00:01,  4.04it/s]\u001b[A\n",
      "Validate (2499 / 10 Steps):  45%|█████████████████████████▍                              | 5/11 [00:02<00:01,  4.04it/s]\u001b[A\n",
      "Validate (2499 / 10 Steps):  64%|███████████████████████████████████▋                    | 7/11 [00:02<00:00,  5.83it/s]\u001b[A\n",
      "Validate (2499 / 10 Steps):  64%|███████████████████████████████████▋                    | 7/11 [00:02<00:00,  5.83it/s]\u001b[A\n",
      "Validate (2499 / 10 Steps):  73%|████████████████████████████████████████▋               | 8/11 [00:02<00:00,  5.13it/s]\u001b[A\n",
      "Validate (2499 / 10 Steps):  73%|████████████████████████████████████████▋               | 8/11 [00:02<00:00,  5.13it/s]\u001b[A\n",
      "Validate (2499 / 10 Steps):  82%|█████████████████████████████████████████████▊          | 9/11 [00:02<00:00,  5.07it/s]\u001b[A\n",
      "Validate (2499 / 10 Steps):  82%|█████████████████████████████████████████████▊          | 9/11 [00:02<00:00,  5.07it/s]\u001b[A\n",
      "Validate (2499 / 10 Steps):  91%|██████████████████████████████████████████████████     | 10/11 [00:02<00:00,  4.98it/s]\u001b[A\n",
      "Validate (2499 / 10 Steps):  91%|██████████████████████████████████████████████████     | 10/11 [00:02<00:00,  4.98it/s]\u001b[A\n",
      "Validate (2499 / 10 Steps): 100%|███████████████████████████████████████████████████████| 11/11 [00:03<00:00,  3.62it/s]\u001b[A\n",
      "Training (2500 / 2500 Steps) (loss=0.68641):  29%|███████████▍                            | 2/7 [00:04<00:12,  2.54s/it]"
     ]
    },
    {
     "name": "stdout",
     "output_type": "stream",
     "text": [
      "Model Was Not Saved ! Current Best Avg. Dice: 0.8259744048118591 Current Avg. Dice: 0.8233158588409424\n"
     ]
    },
    {
     "name": "stderr",
     "output_type": "stream",
     "text": [
      "Training (2505 / 2500 Steps) (loss=0.78910): 100%|████████████████████████████████████████| 7/7 [00:06<00:00,  1.13it/s]\n"
     ]
    },
    {
     "data": {
      "text/plain": [
       "<All keys matched successfully>"
      ]
     },
     "execution_count": 22,
     "metadata": {},
     "output_type": "execute_result"
    }
   ],
   "source": [
    "max_iterations = 2500\n",
    "eval_num = 50\n",
    "post_label = AsDiscrete(to_onehot=3)\n",
    "post_pred = AsDiscrete(argmax=True, to_onehot=3)\n",
    "dice_metric = DiceMetric(include_background=True, reduction=\"mean\", get_not_nans=False)\n",
    "global_step = 0\n",
    "dice_val_best = 0.0\n",
    "global_step_best = 0\n",
    "epoch_loss_values = []\n",
    "metric_values = []\n",
    "while global_step < max_iterations:\n",
    "    global_step, dice_val_best, global_step_best = train(global_step, train_loader, dice_val_best, global_step_best)\n",
    "model.load_state_dict(torch.load(os.path.join(root_dir, \"best_metric_model.pth\")))"
   ]
  },
  {
   "cell_type": "code",
   "execution_count": 23,
   "id": "dfa3781e",
   "metadata": {},
   "outputs": [
    {
     "name": "stdout",
     "output_type": "stream",
     "text": [
      "train completed, best_metric: 0.8260 at iteration: 2400\n"
     ]
    }
   ],
   "source": [
    "print(f\"train completed, best_metric: {dice_val_best:.4f} \" f\"at iteration: {global_step_best}\")"
   ]
  },
  {
   "cell_type": "code",
   "execution_count": 24,
   "id": "47c76546",
   "metadata": {},
   "outputs": [
    {
     "data": {
      "image/png": "[encoded data removed]",
      "text/plain": [
       "<Figure size 1200x600 with 2 Axes>"
      ]
     },
     "metadata": {},
     "output_type": "display_data"
    }
   ],
   "source": [
    "plt.figure(\"train\", (12, 6))\n",
    "plt.subplot(1, 2, 1)\n",
    "plt.title(\"Iteration Average Loss\")\n",
    "x = [eval_num * (i + 1) for i in range(len(epoch_loss_values))]\n",
    "y = epoch_loss_values\n",
    "plt.xlabel(\"Iteration\")\n",
    "plt.plot(x, y)\n",
    "plt.subplot(1, 2, 2)\n",
    "plt.title(\"Val Mean Dice\")\n",
    "x = [eval_num * (i + 1) for i in range(len(metric_values))]\n",
    "y = metric_values\n",
    "plt.xlabel(\"Iteration\")\n",
    "plt.plot(x, y)\n",
    "plt.show()"
   ]
  },
  {
   "cell_type": "code",
   "execution_count": 25,
   "id": "d83033df",
   "metadata": {},
   "outputs": [
    {
     "name": "stdout",
     "output_type": "stream",
     "text": [
      "image shape: torch.Size([1, 96, 96, 47]), label shape: torch.Size([1, 96, 96, 47])\n"
     ]
    },
    {
     "data": {
      "image/png": "[encoded data removed]",
      "text/plain": [
       "<Figure size 1800x600 with 3 Axes>"
      ]
     },
     "metadata": {},
     "output_type": "display_data"
    },
    {
     "name": "stdout",
     "output_type": "stream",
     "text": [
      "1\n"
     ]
    }
   ],
   "source": [
    "# Validation DS\n",
    "case_num = 0\n",
    "model.load_state_dict(torch.load(os.path.join(root_dir, \"best_metric_model.pth\")))\n",
    "model.eval()\n",
    "with torch.no_grad():\n",
    "    img_name = os.path.split(val_ds[case_num][\"image\"].meta[\"filename_or_obj\"])[1]\n",
    "    img = val_ds[case_num][\"image\"]\n",
    "    label = val_ds[case_num][\"label\"]\n",
    "    img_shape = img.shape\n",
    "    label_shape = label.shape\n",
    "    print(f\"image shape: {img_shape}, label shape: {label_shape}\")\n",
    "\n",
    "    val_inputs = torch.unsqueeze(img, 1).cuda()\n",
    "    val_labels = torch.unsqueeze(label, 1).cuda()\n",
    "    val_outputs = sliding_window_inference(val_inputs, (32, 32, 16), 4, model, overlap=0.8)\n",
    "    plt.figure(\"check\", (18, 6))\n",
    "    plt.subplot(1, 3, 1)\n",
    "    plt.title(\"image\")\n",
    "    plt.imshow(val_inputs.cpu().numpy()[0, 0, :, :, slice_map[img_name]], cmap=\"gray\")\n",
    "    plt.subplot(1, 3, 2)\n",
    "    plt.title(\"label\")\n",
    "    plt.imshow(val_labels.cpu().numpy()[0, 0, :, :, slice_map[img_name]])\n",
    "    plt.subplot(1, 3, 3)\n",
    "    plt.title(\"output\")\n",
    "    plt.imshow(torch.argmax(val_outputs, dim=1).detach().cpu()[0, :, :, slice_map[img_name]])\n",
    "    plt.show()\n",
    "print(slice_map[img_name])"
   ]
  },
  {
   "cell_type": "code",
   "execution_count": 26,
   "id": "3fc3802c",
   "metadata": {},
   "outputs": [
    {
     "data": {
      "image/png": "[encoded data removed]",
      "text/plain": [
       "<Figure size 640x480 with 1 Axes>"
      ]
     },
     "metadata": {},
     "output_type": "display_data"
    },
    {
     "data": {
      "text/plain": [
       "<matplotlib.image.AxesImage at 0x7fef39a6e7d0>"
      ]
     },
     "execution_count": 26,
     "metadata": {},
     "output_type": "execute_result"
    },
    {
     "data": {
      "image/png": "[encoded data removed]",
      "text/plain": [
       "<Figure size 640x480 with 1 Axes>"
      ]
     },
     "metadata": {},
     "output_type": "display_data"
    }
   ],
   "source": [
    "plt.imshow(torch.argmax(val_outputs, dim=1).detach().cpu()[0, :, :, 1])\n",
    "plt.show()\n",
    "plt.imshow((val_outputs).detach().cpu()[0,0, :, :, 1])"
   ]
  },
  {
   "cell_type": "code",
   "execution_count": 158,
   "id": "2a2bbf1d",
   "metadata": {},
   "outputs": [],
   "source": [
    "# save the model\n",
    "data_dir = \"/mnt/d/crmbm/multiclass/\"\n",
    "torch.save(model.state_dict(), data_dir + 'seg_model_7T.pth')"
   ]
  },
  {
   "cell_type": "code",
   "execution_count": 276,
   "id": "47ca9d8c",
   "metadata": {},
   "outputs": [
    {
     "data": {
      "text/plain": [
       "<All keys matched successfully>"
      ]
     },
     "execution_count": 276,
     "metadata": {},
     "output_type": "execute_result"
    }
   ],
   "source": [
    "# load model saved\n",
    "data_dir = \"/mnt/d/crmbm/multiclass/\"\n",
    "model_new = UNETR(\n",
    "    in_channels=1,\n",
    "    out_channels=3,\n",
    "    img_size=(32, 32, 16),\n",
    "    feature_size=16,\n",
    "    hidden_size=768,\n",
    "    mlp_dim=3072,\n",
    "    num_heads=12,\n",
    "    pos_embed=\"perceptron\",\n",
    "    norm_name=\"instance\",\n",
    "    res_block=True,\n",
    "    dropout_rate=0.0,\n",
    ").to(device)\n",
    "\n",
    "model_new.load_state_dict(torch.load(os.path.join(data_dir + 'seg_model_7T.pth')))"
   ]
  },
  {
   "cell_type": "code",
   "execution_count": 288,
   "id": "e5f3ceb4",
   "metadata": {},
   "outputs": [
    {
     "name": "stdout",
     "output_type": "stream",
     "text": [
      "image shape: torch.Size([1, 96, 96, 22]), label shape: torch.Size([1, 96, 96, 22])\n"
     ]
    },
    {
     "data": {
      "image/png": "[encoded data removed]",
      "text/plain": [
       "<Figure size 1800x600 with 3 Axes>"
      ]
     },
     "metadata": {},
     "output_type": "display_data"
    },
    {
     "name": "stdout",
     "output_type": "stream",
     "text": [
      "12\n"
     ]
    }
   ],
   "source": [
    "#Test DS\n",
    "case_num = 0\n",
    "#model.load_state_dict(torch.load(os.path.join(root_dir, \"best_metric_model.pth\")))\n",
    "model_new.load_state_dict(torch.load(os.path.join(data_dir + 'seg_model_7T.pth')))\n",
    "model_new.eval()\n",
    "slice_map = {\n",
    "    \"sub-31_T2star.nii.gz\": 12,\n",
    "    \"sub-32_T2star.nii.gz\": 1,\n",
    "}\n",
    "with torch.no_grad():\n",
    "    to_test=test_ds[case_num]\n",
    "    img_name = os.path.split(to_test[\"image\"].meta[\"filename_or_obj\"])[1]\n",
    "    img = to_test[\"image\"]\n",
    "    label = to_test[\"label\"]\n",
    "    img_shape = img.shape\n",
    "    label_shape = label.shape\n",
    "    print(f\"image shape: {img_shape}, label shape: {label_shape}\")\n",
    "    val_inputs = torch.unsqueeze(img, 1).cuda()\n",
    "    val_labels = torch.unsqueeze(label, 1).cuda()\n",
    "    val_outputs = sliding_window_inference(val_inputs, (32, 32, 16), 4, model_new, overlap=0.8)\n",
    "    plt.figure(\"check\", (18, 6))\n",
    "    plt.subplot(1, 3, 1)\n",
    "    plt.title(\"image\")\n",
    "    plt.imshow(val_inputs.cpu().numpy()[0, 0, :, :, slice_map[img_name]], cmap=\"gray\")\n",
    "    plt.subplot(1, 3, 2)\n",
    "    plt.title(\"label\")\n",
    "    plt.imshow(val_labels.cpu().numpy()[0, 0, :, :, slice_map[img_name]])\n",
    "    plt.subplot(1, 3, 3)\n",
    "    plt.title(\"output\")\n",
    "    plt.imshow(torch.argmax(val_outputs, dim=1).detach().cpu()[0, :, :, slice_map[img_name]])\n",
    "    plt.show()\n",
    "print(slice_map[img_name])"
   ]
  },
  {
   "cell_type": "code",
   "execution_count": 286,
   "id": "07a62c25",
   "metadata": {},
   "outputs": [
    {
     "data": {
      "image/png": "[encoded data removed]",
      "text/plain": [
       "<Figure size 640x480 with 1 Axes>"
      ]
     },
     "metadata": {},
     "output_type": "display_data"
    },
    {
     "data": {
      "text/plain": [
       "<matplotlib.image.AxesImage at 0x7fefe8afc750>"
      ]
     },
     "execution_count": 286,
     "metadata": {},
     "output_type": "execute_result"
    },
    {
     "data": {
      "image/png": "[encoded data removed]",
      "text/plain": [
       "<Figure size 640x480 with 1 Axes>"
      ]
     },
     "metadata": {},
     "output_type": "display_data"
    }
   ],
   "source": [
    "plt.imshow(torch.argmax(val_outputs, dim=1).detach().cpu()[0, :, :, 10])\n",
    "plt.show()\n",
    "plt.imshow((val_outputs).detach().cpu()[0,0, :, :, 10])"
   ]
  },
  {
   "cell_type": "code",
   "execution_count": 281,
   "id": "59667503",
   "metadata": {
    "scrolled": true
   },
   "outputs": [],
   "source": [
    "path_database = '/mnt/d/crmbm/multiclass/z_1/'\n",
    "test_data = nib.load(path_database + 'sub-31_T2star.nii.gz' )\n",
    "header_info = test_data.header\n",
    "\n",
    "test_data = np.array(test_data.get_fdata())\n",
    "\n",
    "save_nii=torch.argmax(val_outputs, dim=1).detach().cpu().numpy()[0, :, :,:]\n",
    "\n",
    "save = nib.Nifti1Image(save_nii, header_data.affine,header_info)    \n",
    "nib.save(save, path_database + 'sub-31_T2star_UNETR.nii.gz')"
   ]
  },
  {
   "cell_type": "code",
   "execution_count": 282,
   "id": "264ebeab",
   "metadata": {},
   "outputs": [
    {
     "data": {
      "text/plain": [
       "<monai.transforms.io.array.SaveImage at 0x7fefe882f250>"
      ]
     },
     "execution_count": 282,
     "metadata": {},
     "output_type": "execute_result"
    }
   ],
   "source": [
    "SaveImage(output_dir=path_database, output_postfix='trans', output_ext='.nii.gz'\n",
    "          )"
   ]
  },
  {
   "cell_type": "code",
   "execution_count": null,
   "id": "f1fbe8c8",
   "metadata": {},
   "outputs": [],
   "source": []
  },
  {
   "cell_type": "code",
   "execution_count": 254,
   "id": "a4ab119a",
   "metadata": {},
   "outputs": [
    {
     "data": {
      "text/plain": [
       "torch.Size([1, 1, 96, 96, 16])"
      ]
     },
     "execution_count": 254,
     "metadata": {},
     "output_type": "execute_result"
    }
   ],
   "source": [
    "test_data_array = np.expand_dims(test_data, axis=-4)\n",
    "test_data_array = np.expand_dims(test_data_array, axis=-4)\n",
    "test_data_tensor = torch.tensor(test_data_array[:,:,:,:,0:16])\n",
    "test_data_tensor.shape"
   ]
  }
 ],
 "metadata": {
  "kernelspec": {
   "display_name": "Python 3 (ipykernel)",
   "language": "python",
   "name": "python3"
  },
  "language_info": {
   "codemirror_mode": {
    "name": "ipython",
    "version": 3
   },
   "file_extension": ".py",
   "mimetype": "text/x-python",
   "name": "python",
   "nbconvert_exporter": "python",
   "pygments_lexer": "ipython3",
   "version": "3.7.15"
  }
 },
 "nbformat": 4,
 "nbformat_minor": 5
}
